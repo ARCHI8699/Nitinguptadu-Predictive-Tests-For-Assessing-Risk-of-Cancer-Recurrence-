{
 "cells": [
  {
   "cell_type": "code",
   "execution_count": 1,
   "metadata": {},
   "outputs": [],
   "source": [
    "import pandas as pd\n",
    "import numpy as np"
   ]
  },
  {
   "cell_type": "markdown",
   "metadata": {},
   "source": [
    "# Reading Excel File"
   ]
  },
  {
   "cell_type": "code",
   "execution_count": 2,
   "metadata": {},
   "outputs": [],
   "source": [
    "df = pd.read_excel(\"preprocessed data.xlsx\")"
   ]
  },
  {
   "cell_type": "code",
   "execution_count": 3,
   "metadata": {},
   "outputs": [
    {
     "data": {
      "text/html": [
       "<div>\n",
       "<style scoped>\n",
       "    .dataframe tbody tr th:only-of-type {\n",
       "        vertical-align: middle;\n",
       "    }\n",
       "\n",
       "    .dataframe tbody tr th {\n",
       "        vertical-align: top;\n",
       "    }\n",
       "\n",
       "    .dataframe thead th {\n",
       "        text-align: right;\n",
       "    }\n",
       "</style>\n",
       "<table border=\"1\" class=\"dataframe\">\n",
       "  <thead>\n",
       "    <tr style=\"text-align: right;\">\n",
       "      <th></th>\n",
       "      <th>target</th>\n",
       "      <th>tumor size</th>\n",
       "      <th>node status of the tumor</th>\n",
       "      <th>Age of the patient</th>\n",
       "      <th>tumor grade</th>\n",
       "    </tr>\n",
       "  </thead>\n",
       "  <tbody>\n",
       "    <tr>\n",
       "      <th>0</th>\n",
       "      <td>0</td>\n",
       "      <td>2</td>\n",
       "      <td>1</td>\n",
       "      <td>60</td>\n",
       "      <td>3</td>\n",
       "    </tr>\n",
       "    <tr>\n",
       "      <th>1</th>\n",
       "      <td>0</td>\n",
       "      <td>1</td>\n",
       "      <td>1</td>\n",
       "      <td>55</td>\n",
       "      <td>2</td>\n",
       "    </tr>\n",
       "    <tr>\n",
       "      <th>2</th>\n",
       "      <td>0</td>\n",
       "      <td>1</td>\n",
       "      <td>1</td>\n",
       "      <td>33</td>\n",
       "      <td>3</td>\n",
       "    </tr>\n",
       "    <tr>\n",
       "      <th>3</th>\n",
       "      <td>0</td>\n",
       "      <td>1</td>\n",
       "      <td>1</td>\n",
       "      <td>67</td>\n",
       "      <td>2</td>\n",
       "    </tr>\n",
       "    <tr>\n",
       "      <th>4</th>\n",
       "      <td>0</td>\n",
       "      <td>1</td>\n",
       "      <td>1</td>\n",
       "      <td>47</td>\n",
       "      <td>2</td>\n",
       "    </tr>\n",
       "    <tr>\n",
       "      <th>...</th>\n",
       "      <td>...</td>\n",
       "      <td>...</td>\n",
       "      <td>...</td>\n",
       "      <td>...</td>\n",
       "      <td>...</td>\n",
       "    </tr>\n",
       "    <tr>\n",
       "      <th>229</th>\n",
       "      <td>1</td>\n",
       "      <td>2</td>\n",
       "      <td>2</td>\n",
       "      <td>55</td>\n",
       "      <td>2</td>\n",
       "    </tr>\n",
       "    <tr>\n",
       "      <th>230</th>\n",
       "      <td>1</td>\n",
       "      <td>3</td>\n",
       "      <td>2</td>\n",
       "      <td>45</td>\n",
       "      <td>2</td>\n",
       "    </tr>\n",
       "    <tr>\n",
       "      <th>231</th>\n",
       "      <td>1</td>\n",
       "      <td>3</td>\n",
       "      <td>2</td>\n",
       "      <td>37</td>\n",
       "      <td>3</td>\n",
       "    </tr>\n",
       "    <tr>\n",
       "      <th>232</th>\n",
       "      <td>1</td>\n",
       "      <td>3</td>\n",
       "      <td>2</td>\n",
       "      <td>58</td>\n",
       "      <td>2</td>\n",
       "    </tr>\n",
       "    <tr>\n",
       "      <th>233</th>\n",
       "      <td>1</td>\n",
       "      <td>1</td>\n",
       "      <td>1</td>\n",
       "      <td>52</td>\n",
       "      <td>2</td>\n",
       "    </tr>\n",
       "  </tbody>\n",
       "</table>\n",
       "<p>234 rows × 5 columns</p>\n",
       "</div>"
      ],
      "text/plain": [
       "     target  tumor size  node status of the tumor  Age of the patient  \\\n",
       "0         0           2                         1                  60   \n",
       "1         0           1                         1                  55   \n",
       "2         0           1                         1                  33   \n",
       "3         0           1                         1                  67   \n",
       "4         0           1                         1                  47   \n",
       "..      ...         ...                       ...                 ...   \n",
       "229       1           2                         2                  55   \n",
       "230       1           3                         2                  45   \n",
       "231       1           3                         2                  37   \n",
       "232       1           3                         2                  58   \n",
       "233       1           1                         1                  52   \n",
       "\n",
       "     tumor grade  \n",
       "0              3  \n",
       "1              2  \n",
       "2              3  \n",
       "3              2  \n",
       "4              2  \n",
       "..           ...  \n",
       "229            2  \n",
       "230            2  \n",
       "231            3  \n",
       "232            2  \n",
       "233            2  \n",
       "\n",
       "[234 rows x 5 columns]"
      ]
     },
     "execution_count": 3,
     "metadata": {},
     "output_type": "execute_result"
    }
   ],
   "source": [
    "df"
   ]
  },
  {
   "cell_type": "markdown",
   "metadata": {},
   "source": [
    "# Anomaly Detection"
   ]
  },
  {
   "cell_type": "code",
   "execution_count": 4,
   "metadata": {},
   "outputs": [
    {
     "name": "stdout",
     "output_type": "stream",
     "text": [
      "\n",
      "Setup Succesfully Completed!\n"
     ]
    },
    {
     "data": {
      "text/html": [
       "<style  type=\"text/css\" >\n",
       "</style><table id=\"T_6c269c88_9823_11ea_ac44_13eae6a9e58c\" ><thead>    <tr>        <th class=\"blank level0\" ></th>        <th class=\"col_heading level0 col0\" >Description</th>        <th class=\"col_heading level0 col1\" >Value</th>    </tr></thead><tbody>\n",
       "                <tr>\n",
       "                        <th id=\"T_6c269c88_9823_11ea_ac44_13eae6a9e58clevel0_row0\" class=\"row_heading level0 row0\" >0</th>\n",
       "                        <td id=\"T_6c269c88_9823_11ea_ac44_13eae6a9e58crow0_col0\" class=\"data row0 col0\" >session_id </td>\n",
       "                        <td id=\"T_6c269c88_9823_11ea_ac44_13eae6a9e58crow0_col1\" class=\"data row0 col1\" >7577</td>\n",
       "            </tr>\n",
       "            <tr>\n",
       "                        <th id=\"T_6c269c88_9823_11ea_ac44_13eae6a9e58clevel0_row1\" class=\"row_heading level0 row1\" >1</th>\n",
       "                        <td id=\"T_6c269c88_9823_11ea_ac44_13eae6a9e58crow1_col0\" class=\"data row1 col0\" >Original Data </td>\n",
       "                        <td id=\"T_6c269c88_9823_11ea_ac44_13eae6a9e58crow1_col1\" class=\"data row1 col1\" >(234, 5)</td>\n",
       "            </tr>\n",
       "            <tr>\n",
       "                        <th id=\"T_6c269c88_9823_11ea_ac44_13eae6a9e58clevel0_row2\" class=\"row_heading level0 row2\" >2</th>\n",
       "                        <td id=\"T_6c269c88_9823_11ea_ac44_13eae6a9e58crow2_col0\" class=\"data row2 col0\" >Missing Values </td>\n",
       "                        <td id=\"T_6c269c88_9823_11ea_ac44_13eae6a9e58crow2_col1\" class=\"data row2 col1\" >False</td>\n",
       "            </tr>\n",
       "            <tr>\n",
       "                        <th id=\"T_6c269c88_9823_11ea_ac44_13eae6a9e58clevel0_row3\" class=\"row_heading level0 row3\" >3</th>\n",
       "                        <td id=\"T_6c269c88_9823_11ea_ac44_13eae6a9e58crow3_col0\" class=\"data row3 col0\" >Numeric Features </td>\n",
       "                        <td id=\"T_6c269c88_9823_11ea_ac44_13eae6a9e58crow3_col1\" class=\"data row3 col1\" >1</td>\n",
       "            </tr>\n",
       "            <tr>\n",
       "                        <th id=\"T_6c269c88_9823_11ea_ac44_13eae6a9e58clevel0_row4\" class=\"row_heading level0 row4\" >4</th>\n",
       "                        <td id=\"T_6c269c88_9823_11ea_ac44_13eae6a9e58crow4_col0\" class=\"data row4 col0\" >Categorical Features </td>\n",
       "                        <td id=\"T_6c269c88_9823_11ea_ac44_13eae6a9e58crow4_col1\" class=\"data row4 col1\" >4</td>\n",
       "            </tr>\n",
       "            <tr>\n",
       "                        <th id=\"T_6c269c88_9823_11ea_ac44_13eae6a9e58clevel0_row5\" class=\"row_heading level0 row5\" >5</th>\n",
       "                        <td id=\"T_6c269c88_9823_11ea_ac44_13eae6a9e58crow5_col0\" class=\"data row5 col0\" >Ordinal Features </td>\n",
       "                        <td id=\"T_6c269c88_9823_11ea_ac44_13eae6a9e58crow5_col1\" class=\"data row5 col1\" >False</td>\n",
       "            </tr>\n",
       "            <tr>\n",
       "                        <th id=\"T_6c269c88_9823_11ea_ac44_13eae6a9e58clevel0_row6\" class=\"row_heading level0 row6\" >6</th>\n",
       "                        <td id=\"T_6c269c88_9823_11ea_ac44_13eae6a9e58crow6_col0\" class=\"data row6 col0\" >High Cardinality Features </td>\n",
       "                        <td id=\"T_6c269c88_9823_11ea_ac44_13eae6a9e58crow6_col1\" class=\"data row6 col1\" >False</td>\n",
       "            </tr>\n",
       "            <tr>\n",
       "                        <th id=\"T_6c269c88_9823_11ea_ac44_13eae6a9e58clevel0_row7\" class=\"row_heading level0 row7\" >7</th>\n",
       "                        <td id=\"T_6c269c88_9823_11ea_ac44_13eae6a9e58crow7_col0\" class=\"data row7 col0\" >Transformed Data </td>\n",
       "                        <td id=\"T_6c269c88_9823_11ea_ac44_13eae6a9e58crow7_col1\" class=\"data row7 col1\" >(234, 13)</td>\n",
       "            </tr>\n",
       "            <tr>\n",
       "                        <th id=\"T_6c269c88_9823_11ea_ac44_13eae6a9e58clevel0_row8\" class=\"row_heading level0 row8\" >8</th>\n",
       "                        <td id=\"T_6c269c88_9823_11ea_ac44_13eae6a9e58crow8_col0\" class=\"data row8 col0\" >Numeric Imputer </td>\n",
       "                        <td id=\"T_6c269c88_9823_11ea_ac44_13eae6a9e58crow8_col1\" class=\"data row8 col1\" >mean</td>\n",
       "            </tr>\n",
       "            <tr>\n",
       "                        <th id=\"T_6c269c88_9823_11ea_ac44_13eae6a9e58clevel0_row9\" class=\"row_heading level0 row9\" >9</th>\n",
       "                        <td id=\"T_6c269c88_9823_11ea_ac44_13eae6a9e58crow9_col0\" class=\"data row9 col0\" >Categorical Imputer </td>\n",
       "                        <td id=\"T_6c269c88_9823_11ea_ac44_13eae6a9e58crow9_col1\" class=\"data row9 col1\" >constant</td>\n",
       "            </tr>\n",
       "            <tr>\n",
       "                        <th id=\"T_6c269c88_9823_11ea_ac44_13eae6a9e58clevel0_row10\" class=\"row_heading level0 row10\" >10</th>\n",
       "                        <td id=\"T_6c269c88_9823_11ea_ac44_13eae6a9e58crow10_col0\" class=\"data row10 col0\" >Normalize </td>\n",
       "                        <td id=\"T_6c269c88_9823_11ea_ac44_13eae6a9e58crow10_col1\" class=\"data row10 col1\" >False</td>\n",
       "            </tr>\n",
       "            <tr>\n",
       "                        <th id=\"T_6c269c88_9823_11ea_ac44_13eae6a9e58clevel0_row11\" class=\"row_heading level0 row11\" >11</th>\n",
       "                        <td id=\"T_6c269c88_9823_11ea_ac44_13eae6a9e58crow11_col0\" class=\"data row11 col0\" >Normalize Method </td>\n",
       "                        <td id=\"T_6c269c88_9823_11ea_ac44_13eae6a9e58crow11_col1\" class=\"data row11 col1\" >None</td>\n",
       "            </tr>\n",
       "            <tr>\n",
       "                        <th id=\"T_6c269c88_9823_11ea_ac44_13eae6a9e58clevel0_row12\" class=\"row_heading level0 row12\" >12</th>\n",
       "                        <td id=\"T_6c269c88_9823_11ea_ac44_13eae6a9e58crow12_col0\" class=\"data row12 col0\" >Transformation </td>\n",
       "                        <td id=\"T_6c269c88_9823_11ea_ac44_13eae6a9e58crow12_col1\" class=\"data row12 col1\" >False</td>\n",
       "            </tr>\n",
       "            <tr>\n",
       "                        <th id=\"T_6c269c88_9823_11ea_ac44_13eae6a9e58clevel0_row13\" class=\"row_heading level0 row13\" >13</th>\n",
       "                        <td id=\"T_6c269c88_9823_11ea_ac44_13eae6a9e58crow13_col0\" class=\"data row13 col0\" >Transformation Method </td>\n",
       "                        <td id=\"T_6c269c88_9823_11ea_ac44_13eae6a9e58crow13_col1\" class=\"data row13 col1\" >None</td>\n",
       "            </tr>\n",
       "            <tr>\n",
       "                        <th id=\"T_6c269c88_9823_11ea_ac44_13eae6a9e58clevel0_row14\" class=\"row_heading level0 row14\" >14</th>\n",
       "                        <td id=\"T_6c269c88_9823_11ea_ac44_13eae6a9e58crow14_col0\" class=\"data row14 col0\" >PCA </td>\n",
       "                        <td id=\"T_6c269c88_9823_11ea_ac44_13eae6a9e58crow14_col1\" class=\"data row14 col1\" >False</td>\n",
       "            </tr>\n",
       "            <tr>\n",
       "                        <th id=\"T_6c269c88_9823_11ea_ac44_13eae6a9e58clevel0_row15\" class=\"row_heading level0 row15\" >15</th>\n",
       "                        <td id=\"T_6c269c88_9823_11ea_ac44_13eae6a9e58crow15_col0\" class=\"data row15 col0\" >PCA Method </td>\n",
       "                        <td id=\"T_6c269c88_9823_11ea_ac44_13eae6a9e58crow15_col1\" class=\"data row15 col1\" >None</td>\n",
       "            </tr>\n",
       "            <tr>\n",
       "                        <th id=\"T_6c269c88_9823_11ea_ac44_13eae6a9e58clevel0_row16\" class=\"row_heading level0 row16\" >16</th>\n",
       "                        <td id=\"T_6c269c88_9823_11ea_ac44_13eae6a9e58crow16_col0\" class=\"data row16 col0\" >PCA components </td>\n",
       "                        <td id=\"T_6c269c88_9823_11ea_ac44_13eae6a9e58crow16_col1\" class=\"data row16 col1\" >None</td>\n",
       "            </tr>\n",
       "            <tr>\n",
       "                        <th id=\"T_6c269c88_9823_11ea_ac44_13eae6a9e58clevel0_row17\" class=\"row_heading level0 row17\" >17</th>\n",
       "                        <td id=\"T_6c269c88_9823_11ea_ac44_13eae6a9e58crow17_col0\" class=\"data row17 col0\" >Ignore Low Variance </td>\n",
       "                        <td id=\"T_6c269c88_9823_11ea_ac44_13eae6a9e58crow17_col1\" class=\"data row17 col1\" >False</td>\n",
       "            </tr>\n",
       "            <tr>\n",
       "                        <th id=\"T_6c269c88_9823_11ea_ac44_13eae6a9e58clevel0_row18\" class=\"row_heading level0 row18\" >18</th>\n",
       "                        <td id=\"T_6c269c88_9823_11ea_ac44_13eae6a9e58crow18_col0\" class=\"data row18 col0\" >Combine Rare Levels </td>\n",
       "                        <td id=\"T_6c269c88_9823_11ea_ac44_13eae6a9e58crow18_col1\" class=\"data row18 col1\" >False</td>\n",
       "            </tr>\n",
       "            <tr>\n",
       "                        <th id=\"T_6c269c88_9823_11ea_ac44_13eae6a9e58clevel0_row19\" class=\"row_heading level0 row19\" >19</th>\n",
       "                        <td id=\"T_6c269c88_9823_11ea_ac44_13eae6a9e58crow19_col0\" class=\"data row19 col0\" >Rare Level Threshold </td>\n",
       "                        <td id=\"T_6c269c88_9823_11ea_ac44_13eae6a9e58crow19_col1\" class=\"data row19 col1\" >None</td>\n",
       "            </tr>\n",
       "            <tr>\n",
       "                        <th id=\"T_6c269c88_9823_11ea_ac44_13eae6a9e58clevel0_row20\" class=\"row_heading level0 row20\" >20</th>\n",
       "                        <td id=\"T_6c269c88_9823_11ea_ac44_13eae6a9e58crow20_col0\" class=\"data row20 col0\" >Numeric Binning </td>\n",
       "                        <td id=\"T_6c269c88_9823_11ea_ac44_13eae6a9e58crow20_col1\" class=\"data row20 col1\" >False</td>\n",
       "            </tr>\n",
       "            <tr>\n",
       "                        <th id=\"T_6c269c88_9823_11ea_ac44_13eae6a9e58clevel0_row21\" class=\"row_heading level0 row21\" >21</th>\n",
       "                        <td id=\"T_6c269c88_9823_11ea_ac44_13eae6a9e58crow21_col0\" class=\"data row21 col0\" >Remove Multicollinearity </td>\n",
       "                        <td id=\"T_6c269c88_9823_11ea_ac44_13eae6a9e58crow21_col1\" class=\"data row21 col1\" >False</td>\n",
       "            </tr>\n",
       "            <tr>\n",
       "                        <th id=\"T_6c269c88_9823_11ea_ac44_13eae6a9e58clevel0_row22\" class=\"row_heading level0 row22\" >22</th>\n",
       "                        <td id=\"T_6c269c88_9823_11ea_ac44_13eae6a9e58crow22_col0\" class=\"data row22 col0\" >Multicollinearity Threshold </td>\n",
       "                        <td id=\"T_6c269c88_9823_11ea_ac44_13eae6a9e58crow22_col1\" class=\"data row22 col1\" >None</td>\n",
       "            </tr>\n",
       "            <tr>\n",
       "                        <th id=\"T_6c269c88_9823_11ea_ac44_13eae6a9e58clevel0_row23\" class=\"row_heading level0 row23\" >23</th>\n",
       "                        <td id=\"T_6c269c88_9823_11ea_ac44_13eae6a9e58crow23_col0\" class=\"data row23 col0\" >Group Features </td>\n",
       "                        <td id=\"T_6c269c88_9823_11ea_ac44_13eae6a9e58crow23_col1\" class=\"data row23 col1\" >False</td>\n",
       "            </tr>\n",
       "    </tbody></table>"
      ],
      "text/plain": [
       "<pandas.io.formats.style.Styler at 0x7f4164b7efd0>"
      ]
     },
     "metadata": {},
     "output_type": "display_data"
    }
   ],
   "source": [
    "from pycaret.anomaly import *\n",
    "#intialize the setup\n",
    "exp_ano = setup(df)"
   ]
  },
  {
   "cell_type": "code",
   "execution_count": 5,
   "metadata": {},
   "outputs": [],
   "source": [
    "knn = create_model('knn')"
   ]
  },
  {
   "cell_type": "code",
   "execution_count": 6,
   "metadata": {},
   "outputs": [
    {
     "data": {
      "text/html": [
       "<div>\n",
       "<style scoped>\n",
       "    .dataframe tbody tr th:only-of-type {\n",
       "        vertical-align: middle;\n",
       "    }\n",
       "\n",
       "    .dataframe tbody tr th {\n",
       "        vertical-align: top;\n",
       "    }\n",
       "\n",
       "    .dataframe thead th {\n",
       "        text-align: right;\n",
       "    }\n",
       "</style>\n",
       "<table border=\"1\" class=\"dataframe\">\n",
       "  <thead>\n",
       "    <tr style=\"text-align: right;\">\n",
       "      <th></th>\n",
       "      <th>target</th>\n",
       "      <th>tumor size</th>\n",
       "      <th>node status of the tumor</th>\n",
       "      <th>Age of the patient</th>\n",
       "      <th>tumor grade</th>\n",
       "      <th>Label</th>\n",
       "      <th>Score</th>\n",
       "    </tr>\n",
       "  </thead>\n",
       "  <tbody>\n",
       "    <tr>\n",
       "      <th>0</th>\n",
       "      <td>0</td>\n",
       "      <td>2</td>\n",
       "      <td>1</td>\n",
       "      <td>60</td>\n",
       "      <td>3</td>\n",
       "      <td>0</td>\n",
       "      <td>1.414214</td>\n",
       "    </tr>\n",
       "    <tr>\n",
       "      <th>1</th>\n",
       "      <td>0</td>\n",
       "      <td>1</td>\n",
       "      <td>1</td>\n",
       "      <td>55</td>\n",
       "      <td>2</td>\n",
       "      <td>0</td>\n",
       "      <td>2.000000</td>\n",
       "    </tr>\n",
       "    <tr>\n",
       "      <th>2</th>\n",
       "      <td>0</td>\n",
       "      <td>1</td>\n",
       "      <td>1</td>\n",
       "      <td>33</td>\n",
       "      <td>3</td>\n",
       "      <td>0</td>\n",
       "      <td>2.449490</td>\n",
       "    </tr>\n",
       "    <tr>\n",
       "      <th>3</th>\n",
       "      <td>0</td>\n",
       "      <td>1</td>\n",
       "      <td>1</td>\n",
       "      <td>67</td>\n",
       "      <td>2</td>\n",
       "      <td>0</td>\n",
       "      <td>2.236068</td>\n",
       "    </tr>\n",
       "    <tr>\n",
       "      <th>4</th>\n",
       "      <td>0</td>\n",
       "      <td>1</td>\n",
       "      <td>1</td>\n",
       "      <td>47</td>\n",
       "      <td>2</td>\n",
       "      <td>0</td>\n",
       "      <td>1.732051</td>\n",
       "    </tr>\n",
       "    <tr>\n",
       "      <th>...</th>\n",
       "      <td>...</td>\n",
       "      <td>...</td>\n",
       "      <td>...</td>\n",
       "      <td>...</td>\n",
       "      <td>...</td>\n",
       "      <td>...</td>\n",
       "      <td>...</td>\n",
       "    </tr>\n",
       "    <tr>\n",
       "      <th>229</th>\n",
       "      <td>1</td>\n",
       "      <td>2</td>\n",
       "      <td>2</td>\n",
       "      <td>55</td>\n",
       "      <td>2</td>\n",
       "      <td>0</td>\n",
       "      <td>2.236068</td>\n",
       "    </tr>\n",
       "    <tr>\n",
       "      <th>230</th>\n",
       "      <td>1</td>\n",
       "      <td>3</td>\n",
       "      <td>2</td>\n",
       "      <td>45</td>\n",
       "      <td>2</td>\n",
       "      <td>0</td>\n",
       "      <td>2.236068</td>\n",
       "    </tr>\n",
       "    <tr>\n",
       "      <th>231</th>\n",
       "      <td>1</td>\n",
       "      <td>3</td>\n",
       "      <td>2</td>\n",
       "      <td>37</td>\n",
       "      <td>3</td>\n",
       "      <td>0</td>\n",
       "      <td>2.236068</td>\n",
       "    </tr>\n",
       "    <tr>\n",
       "      <th>232</th>\n",
       "      <td>1</td>\n",
       "      <td>3</td>\n",
       "      <td>2</td>\n",
       "      <td>58</td>\n",
       "      <td>2</td>\n",
       "      <td>0</td>\n",
       "      <td>2.449490</td>\n",
       "    </tr>\n",
       "    <tr>\n",
       "      <th>233</th>\n",
       "      <td>1</td>\n",
       "      <td>1</td>\n",
       "      <td>1</td>\n",
       "      <td>52</td>\n",
       "      <td>2</td>\n",
       "      <td>0</td>\n",
       "      <td>2.236068</td>\n",
       "    </tr>\n",
       "  </tbody>\n",
       "</table>\n",
       "<p>234 rows × 7 columns</p>\n",
       "</div>"
      ],
      "text/plain": [
       "     target  tumor size  node status of the tumor  Age of the patient  \\\n",
       "0         0           2                         1                  60   \n",
       "1         0           1                         1                  55   \n",
       "2         0           1                         1                  33   \n",
       "3         0           1                         1                  67   \n",
       "4         0           1                         1                  47   \n",
       "..      ...         ...                       ...                 ...   \n",
       "229       1           2                         2                  55   \n",
       "230       1           3                         2                  45   \n",
       "231       1           3                         2                  37   \n",
       "232       1           3                         2                  58   \n",
       "233       1           1                         1                  52   \n",
       "\n",
       "     tumor grade  Label     Score  \n",
       "0              3      0  1.414214  \n",
       "1              2      0  2.000000  \n",
       "2              3      0  2.449490  \n",
       "3              2      0  2.236068  \n",
       "4              2      0  1.732051  \n",
       "..           ...    ...       ...  \n",
       "229            2      0  2.236068  \n",
       "230            2      0  2.236068  \n",
       "231            3      0  2.236068  \n",
       "232            2      0  2.449490  \n",
       "233            2      0  2.236068  \n",
       "\n",
       "[234 rows x 7 columns]"
      ]
     },
     "execution_count": 6,
     "metadata": {},
     "output_type": "execute_result"
    }
   ],
   "source": [
    "knn_df = assign_model(knn)\n",
    "knn_df"
   ]
  },
  {
   "cell_type": "code",
   "execution_count": 7,
   "metadata": {},
   "outputs": [
    {
     "data": {
      "text/html": [
       "        <script type=\"text/javascript\">\n",
       "        window.PlotlyConfig = {MathJaxConfig: 'local'};\n",
       "        if (window.MathJax) {MathJax.Hub.Config({SVG: {font: \"STIX-Web\"}});}\n",
       "        if (typeof require !== 'undefined') {\n",
       "        require.undef(\"plotly\");\n",
       "        requirejs.config({\n",
       "            paths: {\n",
       "                'plotly': ['https://cdn.plot.ly/plotly-latest.min']\n",
       "            }\n",
       "        });\n",
       "        require(['plotly'], function(Plotly) {\n",
       "            window._Plotly = Plotly;\n",
       "        });\n",
       "        }\n",
       "        </script>\n",
       "        "
      ]
     },
     "metadata": {},
     "output_type": "display_data"
    },
    {
     "data": {
      "application/vnd.plotly.v1+json": {
       "config": {
        "plotlyServerURL": "https://plot.ly"
       },
       "data": [
        {
         "customdata": [
          [
           0
          ],
          [
           0
          ],
          [
           0
          ],
          [
           0
          ],
          [
           0
          ],
          [
           0
          ],
          [
           0
          ],
          [
           0
          ],
          [
           0
          ],
          [
           0
          ],
          [
           0
          ],
          [
           0
          ],
          [
           0
          ],
          [
           0
          ],
          [
           0
          ],
          [
           0
          ],
          [
           0
          ],
          [
           0
          ],
          [
           0
          ],
          [
           0
          ],
          [
           0
          ],
          [
           0
          ],
          [
           0
          ],
          [
           0
          ],
          [
           0
          ],
          [
           0
          ],
          [
           0
          ],
          [
           0
          ],
          [
           0
          ],
          [
           0
          ],
          [
           0
          ],
          [
           0
          ],
          [
           0
          ],
          [
           0
          ],
          [
           0
          ],
          [
           0
          ],
          [
           0
          ],
          [
           0
          ],
          [
           0
          ],
          [
           0
          ],
          [
           0
          ],
          [
           0
          ],
          [
           0
          ],
          [
           0
          ],
          [
           0
          ],
          [
           0
          ],
          [
           0
          ],
          [
           0
          ],
          [
           0
          ],
          [
           0
          ],
          [
           0
          ],
          [
           0
          ],
          [
           0
          ],
          [
           0
          ],
          [
           0
          ],
          [
           0
          ],
          [
           0
          ],
          [
           0
          ],
          [
           0
          ],
          [
           0
          ],
          [
           0
          ],
          [
           0
          ],
          [
           0
          ],
          [
           0
          ],
          [
           0
          ],
          [
           0
          ],
          [
           0
          ],
          [
           0
          ],
          [
           0
          ],
          [
           0
          ],
          [
           0
          ],
          [
           0
          ],
          [
           0
          ],
          [
           0
          ],
          [
           0
          ],
          [
           0
          ],
          [
           0
          ],
          [
           0
          ],
          [
           0
          ],
          [
           0
          ],
          [
           0
          ],
          [
           0
          ],
          [
           0
          ],
          [
           0
          ],
          [
           0
          ],
          [
           0
          ],
          [
           0
          ],
          [
           0
          ],
          [
           0
          ],
          [
           0
          ],
          [
           0
          ],
          [
           0
          ],
          [
           0
          ],
          [
           0
          ],
          [
           0
          ],
          [
           0
          ],
          [
           0
          ],
          [
           0
          ],
          [
           0
          ],
          [
           0
          ],
          [
           0
          ],
          [
           0
          ],
          [
           0
          ],
          [
           0
          ],
          [
           0
          ],
          [
           0
          ],
          [
           0
          ],
          [
           0
          ],
          [
           0
          ],
          [
           0
          ],
          [
           0
          ],
          [
           0
          ],
          [
           0
          ],
          [
           0
          ],
          [
           0
          ],
          [
           0
          ],
          [
           0
          ],
          [
           0
          ],
          [
           0
          ],
          [
           0
          ],
          [
           0
          ],
          [
           0
          ],
          [
           0
          ],
          [
           0
          ],
          [
           0
          ],
          [
           0
          ],
          [
           0
          ],
          [
           0
          ],
          [
           0
          ],
          [
           0
          ],
          [
           0
          ],
          [
           0
          ],
          [
           0
          ],
          [
           0
          ],
          [
           0
          ],
          [
           0
          ],
          [
           0
          ],
          [
           0
          ],
          [
           0
          ],
          [
           0
          ],
          [
           0
          ],
          [
           0
          ],
          [
           0
          ],
          [
           0
          ],
          [
           0
          ],
          [
           0
          ],
          [
           0
          ],
          [
           0
          ],
          [
           0
          ],
          [
           0
          ],
          [
           0
          ],
          [
           0
          ],
          [
           0
          ],
          [
           0
          ],
          [
           0
          ],
          [
           0
          ],
          [
           0
          ],
          [
           0
          ],
          [
           0
          ],
          [
           0
          ],
          [
           0
          ],
          [
           0
          ],
          [
           0
          ],
          [
           0
          ],
          [
           0
          ],
          [
           0
          ],
          [
           0
          ],
          [
           0
          ],
          [
           0
          ],
          [
           0
          ],
          [
           0
          ],
          [
           0
          ],
          [
           0
          ],
          [
           0
          ],
          [
           0
          ],
          [
           0
          ],
          [
           0
          ],
          [
           0
          ],
          [
           0
          ],
          [
           0
          ],
          [
           0
          ],
          [
           0
          ],
          [
           0
          ],
          [
           0
          ],
          [
           0
          ],
          [
           0
          ],
          [
           0
          ],
          [
           0
          ],
          [
           0
          ],
          [
           0
          ],
          [
           0
          ],
          [
           1
          ],
          [
           1
          ],
          [
           1
          ],
          [
           1
          ],
          [
           1
          ],
          [
           1
          ],
          [
           1
          ],
          [
           1
          ],
          [
           1
          ],
          [
           1
          ],
          [
           1
          ],
          [
           1
          ],
          [
           1
          ],
          [
           1
          ],
          [
           1
          ],
          [
           1
          ],
          [
           1
          ],
          [
           1
          ],
          [
           1
          ],
          [
           1
          ],
          [
           1
          ],
          [
           1
          ],
          [
           1
          ],
          [
           1
          ],
          [
           1
          ],
          [
           1
          ],
          [
           1
          ],
          [
           1
          ],
          [
           1
          ],
          [
           1
          ],
          [
           1
          ],
          [
           1
          ],
          [
           1
          ],
          [
           1
          ],
          [
           1
          ],
          [
           1
          ],
          [
           1
          ],
          [
           1
          ],
          [
           1
          ],
          [
           1
          ],
          [
           1
          ],
          [
           1
          ],
          [
           1
          ]
         ],
         "hoverlabel": {
          "namelength": 0
         },
         "hovertemplate": "0=%{x}<br>1=%{y}<br>2=%{z}<br>Feature=%{customdata[0]}<br>Label=%{marker.color}",
         "legendgroup": "",
         "marker": {
          "color": [
           0,
           0,
           0,
           0,
           0,
           0,
           0,
           1,
           0,
           0,
           0,
           0,
           0,
           0,
           0,
           0,
           0,
           0,
           0,
           0,
           0,
           0,
           0,
           0,
           0,
           1,
           0,
           0,
           0,
           0,
           0,
           0,
           0,
           0,
           0,
           0,
           0,
           0,
           0,
           0,
           0,
           0,
           0,
           0,
           0,
           0,
           0,
           0,
           0,
           0,
           0,
           0,
           0,
           0,
           0,
           0,
           0,
           0,
           0,
           0,
           0,
           0,
           0,
           0,
           0,
           0,
           0,
           0,
           0,
           0,
           0,
           1,
           0,
           0,
           0,
           0,
           1,
           0,
           0,
           0,
           0,
           0,
           0,
           0,
           0,
           0,
           0,
           0,
           0,
           0,
           0,
           0,
           0,
           0,
           0,
           0,
           0,
           0,
           0,
           0,
           0,
           0,
           0,
           0,
           0,
           0,
           0,
           0,
           0,
           0,
           0,
           0,
           0,
           0,
           0,
           0,
           0,
           1,
           0,
           0,
           0,
           0,
           0,
           0,
           0,
           0,
           0,
           0,
           0,
           0,
           0,
           0,
           0,
           0,
           0,
           0,
           0,
           0,
           0,
           0,
           0,
           0,
           0,
           0,
           0,
           0,
           0,
           1,
           0,
           1,
           0,
           0,
           0,
           0,
           0,
           0,
           0,
           0,
           0,
           0,
           0,
           0,
           0,
           0,
           0,
           0,
           0,
           0,
           0,
           0,
           0,
           1,
           0,
           0,
           1,
           0,
           0,
           0,
           0,
           0,
           0,
           0,
           0,
           0,
           0,
           0,
           0,
           0,
           0,
           0,
           1,
           0,
           0,
           0,
           0,
           0,
           0,
           0,
           0,
           0,
           0,
           0,
           0,
           0,
           0,
           0,
           0,
           0,
           0,
           0,
           0,
           0,
           0,
           0,
           0,
           0,
           0,
           0,
           0,
           0,
           0,
           0,
           0,
           0,
           0,
           0,
           0,
           0,
           1,
           0,
           0,
           0,
           0,
           0
          ],
          "coloraxis": "coloraxis",
          "opacity": 0.7,
          "symbol": "circle"
         },
         "mode": "markers",
         "name": "",
         "scene": "scene",
         "showlegend": false,
         "type": "scatter3d",
         "x": [
          -87.87669372558594,
          -1.3450716733932495,
          -172.99905395507812,
          102.91700744628906,
          -17.607507705688477,
          -48.673580169677734,
          47.23955154418945,
          -67.01337432861328,
          93.75406646728516,
          110.15251159667969,
          118.71778869628906,
          -152.2669677734375,
          11.009502410888672,
          -92.15129852294922,
          16.546627044677734,
          -28.07342529296875,
          2.371408700942993,
          35.732749938964844,
          106.16069793701172,
          -54.87571334838867,
          108.40386199951172,
          32.745052337646484,
          26.950639724731445,
          4.112330913543701,
          43.99127197265625,
          -97.51976013183594,
          43.116912841796875,
          -56.00812911987305,
          88.71932220458984,
          -46.14818572998047,
          78.07340240478516,
          15.381952285766602,
          0.9127807021141052,
          58.813682556152344,
          80.8942642211914,
          -12.321370124816895,
          33.96134567260742,
          99.70006561279297,
          -142.50624084472656,
          18.183433532714844,
          17.643259048461914,
          44.19967269897461,
          18.250591278076172,
          -140.4040985107422,
          2.1996824741363525,
          -10.00910472869873,
          -36.864402770996094,
          79.99222564697266,
          -46.731849670410156,
          -150.25245666503906,
          -72.79646301269531,
          -25.2535400390625,
          2.336216926574707,
          -75.34253692626953,
          -126.60005187988281,
          92.30606842041016,
          -105.9426040649414,
          37.19748306274414,
          93.59953308105469,
          68.64081573486328,
          -98.38154602050781,
          -25.918813705444336,
          35.448585510253906,
          66.2408447265625,
          50.353633880615234,
          -10.957528114318848,
          92.14512634277344,
          23.568681716918945,
          33.81157302856445,
          59.89471435546875,
          43.60182189941406,
          -89.50845336914062,
          1.5816057920455933,
          106.0904769897461,
          67.32284545898438,
          12.218412399291992,
          88.74600982666016,
          56.803443908691406,
          -113.30559539794922,
          -32.272804260253906,
          119.1882553100586,
          -16.77810287475586,
          18.100921630859375,
          112.06121063232422,
          77.96300506591797,
          -4.396561622619629,
          -86.2560806274414,
          33.27481460571289,
          -44.485939025878906,
          123.34056091308594,
          -11.643317222595215,
          13.700248718261719,
          -116.88323211669922,
          -8.857244491577148,
          76.19263458251953,
          -1.5230485200881958,
          101.82852935791016,
          66.4614028930664,
          92.21961975097656,
          19.482316970825195,
          -21.28582763671875,
          6.426711559295654,
          95.54895782470703,
          91.5963134765625,
          -43.59677505493164,
          133.51246643066406,
          87.41265869140625,
          112.39198303222656,
          -16.590288162231445,
          70.64275360107422,
          -112.65172576904297,
          -155.69248962402344,
          79.32054138183594,
          -143.62533569335938,
          58.558204650878906,
          -87.28781127929688,
          -53.33424377441406,
          -123.64433288574219,
          -28.596487045288086,
          -56.09781265258789,
          129.41549682617188,
          -93.58048248291016,
          -104.7481460571289,
          -17.79136085510254,
          -69.6990966796875,
          -36.4444580078125,
          45.079524993896484,
          -108.78770446777344,
          -88.10233306884766,
          7.48361873626709,
          -73.68828582763672,
          -3.9652256965637207,
          -92.93559265136719,
          44.42715072631836,
          -58.74353790283203,
          -49.163490295410156,
          56.17127227783203,
          144.47938537597656,
          33.47373962402344,
          53.126495361328125,
          -47.33595275878906,
          -126.69770812988281,
          67.39856719970703,
          -149.160888671875,
          25.509136199951172,
          -56.8305549621582,
          -1.6383984088897705,
          -94.56122589111328,
          48.33177947998047,
          -98.53591918945312,
          -100.78746795654297,
          39.20111083984375,
          157.7270965576172,
          55.35839080810547,
          101.97774505615234,
          -74.05366516113281,
          -38.16145706176758,
          -49.14216613769531,
          0.14430584013462067,
          -85.64930725097656,
          60.11628723144531,
          27.753402709960938,
          115.146484375,
          -41.75687789916992,
          54.33037185668945,
          -128.9105682373047,
          -47.87921142578125,
          53.34180450439453,
          -1.6728339195251465,
          59.076019287109375,
          23.720569610595703,
          -133.15562438964844,
          -84.29811096191406,
          -118.94932556152344,
          115.4417724609375,
          120.98279571533203,
          43.4133415222168,
          86.96636199951172,
          -20.146343231201172,
          -34.96219253540039,
          150.6374053955078,
          6.49628210067749,
          -28.8038330078125,
          -15.504997253417969,
          -50.875755310058594,
          -58.26488494873047,
          -110.77132415771484,
          -75.05331420898438,
          -132.6693115234375,
          -62.88334274291992,
          136.32723999023438,
          -98.1844711303711,
          83.93197631835938,
          14.347838401794434,
          -60.857765197753906,
          -96.61246490478516,
          11.026308059692383,
          -24.53536033630371,
          -113.05197143554688,
          -18.152605056762695,
          106.23668670654297,
          38.35860824584961,
          100.67262268066406,
          141.07322692871094,
          -81.91533660888672,
          67.03285217285156,
          -5.42104434967041,
          120.04692077636719,
          44.40314483642578,
          -89.6688003540039,
          35.41520690917969,
          24.03396224975586,
          -15.814311027526855,
          11.578034400939941,
          5.523831367492676,
          -43.87027359008789,
          -8.534135818481445,
          -57.98094940185547,
          -27.49311637878418,
          93.5760269165039,
          8.436738967895508,
          117.73158264160156,
          -52.98262023925781,
          -77.40519714355469,
          145.86782836914062,
          94.69574737548828,
          -24.677753448486328,
          -90.01032257080078,
          118.69570922851562,
          2.3523805141448975,
          -12.581230163574219,
          -77.36083221435547,
          -14.407644271850586,
          -72.77994537353516
         ],
         "y": [
          -72.00154876708984,
          -120.99224853515625,
          66.10550689697266,
          -129.4182586669922,
          2.764716625213623,
          125.78341674804688,
          -123.0601806640625,
          40.74296188354492,
          81.72596740722656,
          0.7459558844566345,
          -15.738319396972656,
          94.49935913085938,
          3.1354753971099854,
          -101.39408874511719,
          6.83159065246582,
          -103.77885437011719,
          -122.65349578857422,
          42.32329559326172,
          36.27960968017578,
          43.954673767089844,
          -118.78974151611328,
          -80.30648803710938,
          28.318693161010742,
          1.698534607887268,
          12.585585594177246,
          70.25577545166016,
          4.160425662994385,
          23.743690490722656,
          22.23579978942871,
          -34.36294174194336,
          -55.338741302490234,
          9.115163803100586,
          52.40744400024414,
          37.950321197509766,
          5.965728759765625,
          86.31157684326172,
          -41.252315521240234,
          -34.10151290893555,
          69.04536437988281,
          -2.620640754699707,
          -21.031843185424805,
          115.25538635253906,
          -67.38935852050781,
          0.15677613019943237,
          19.598712921142578,
          -22.0720157623291,
          -68.18229675292969,
          12.79207706451416,
          117.6524658203125,
          64.05400085449219,
          -110.5042495727539,
          -61.306861877441406,
          -39.08067321777344,
          6.4552001953125,
          66.39276123046875,
          -62.68019485473633,
          -34.23029708862305,
          33.34677505493164,
          -105.1321792602539,
          -134.6285858154297,
          56.52861785888672,
          31.795198440551758,
          -17.908832550048828,
          -26.4942626953125,
          10.549247741699219,
          118.77267456054688,
          42.693050384521484,
          -22.385826110839844,
          3.8501808643341064,
          -17.108642578125,
          46.73883819580078,
          35.736351013183594,
          -8.33722972869873,
          -56.23897171020508,
          -16.99369239807129,
          -25.544153213500977,
          -121.3487777709961,
          -29.734619140625,
          13.839608192443848,
          81.45639038085938,
          -0.7067084312438965,
          -36.16756820678711,
          97.56053161621094,
          -65.51953887939453,
          80.68351745605469,
          -74.03974914550781,
          29.37613868713379,
          62.81700897216797,
          -71.90824890136719,
          -45.90102767944336,
          -14.834976196289062,
          -29.99618911743164,
          85.78058624267578,
          -29.931583404541016,
          -0.5699271559715271,
          -101.23875427246094,
          33.587310791015625,
          91.62397003173828,
          -44.17839813232422,
          -91.56407165527344,
          -73.90767669677734,
          64.71224212646484,
          66.25086975097656,
          -150.30503845214844,
          0.8615814447402954,
          -102.81012725830078,
          -25.270341873168945,
          5.0528974533081055,
          -91.39254760742188,
          -122.2217025756836,
          95.45454406738281,
          33.159114837646484,
          -63.771270751953125,
          4.670085906982422,
          -53.06013107299805,
          25.230056762695312,
          142.32330322265625,
          42.27543640136719,
          122.4483413696289,
          6.456472873687744,
          -8.835660934448242,
          138.6470184326172,
          -2.2799315452575684,
          0.8549801707267761,
          -42.76458740234375,
          -2.0314462184906006,
          34.458492279052734,
          2.2791826725006104,
          53.58822250366211,
          -70.02479553222656,
          -3.489919424057007,
          90.96483612060547,
          31.86940574645996,
          80.1554183959961,
          53.741764068603516,
          -38.42751693725586,
          -63.53828048706055,
          -77.1270980834961,
          -20.270658493041992,
          -36.99085998535156,
          -36.21797561645508,
          85.00019836425781,
          56.329158782958984,
          37.722381591796875,
          115.19464111328125,
          -13.237812042236328,
          109.04658508300781,
          7.7439398765563965,
          -51.918701171875,
          36.62264633178711,
          44.93007278442383,
          -86.84577941894531,
          -44.934303283691406,
          -76.75762176513672,
          73.62137603759766,
          22.839641571044922,
          60.94445037841797,
          88.38148498535156,
          141.2122802734375,
          92.0599136352539,
          25.31879425048828,
          -50.16164016723633,
          1.1146942377090454,
          96.06959533691406,
          2.5091686248779297,
          28.862951278686523,
          9.092060089111328,
          -58.6580810546875,
          -133.02687072753906,
          52.53215026855469,
          55.24174499511719,
          28.276918411254883,
          36.46852493286133,
          27.893102645874023,
          -132.45333862304688,
          -79.73702239990234,
          130.38182067871094,
          4.720069408416748,
          104.17750549316406,
          21.853357315063477,
          -27.4158878326416,
          43.49565887451172,
          -112.49850463867188,
          81.97462463378906,
          42.2935791015625,
          2.3034112453460693,
          -4.708696365356445,
          58.33716583251953,
          56.69274139404297,
          75.47975158691406,
          -140.8577117919922,
          83.37699127197266,
          -101.78670501708984,
          -64.78255462646484,
          -45.63905715942383,
          -61.9554328918457,
          25.110620498657227,
          71.74595642089844,
          -69.76244354248047,
          30.75845718383789,
          81.06857299804688,
          131.62196350097656,
          -67.52662658691406,
          -64.88875579833984,
          -12.503511428833008,
          -46.68115234375,
          -29.873750686645508,
          35.54777526855469,
          -94.71166229248047,
          101.46016693115234,
          -107.86981964111328,
          -126.21501922607422,
          30.46293067932129,
          37.201988220214844,
          128.8301544189453,
          -43.76167678833008,
          30.076601028442383,
          -100.71328735351562,
          143.87850952148438,
          -95.94283294677734,
          81.5632095336914,
          -94.92621612548828,
          -65.09622955322266,
          -87.27750396728516,
          -59.415122985839844,
          122.04684448242188,
          -46.88398742675781,
          -14.745344161987305,
          -100.27452850341797,
          -67.29747009277344,
          -69.51920318603516,
          76.52088165283203,
          -145.00106811523438,
          -66.63270568847656
         ],
         "z": [
          76.68716430664062,
          -60.16841506958008,
          -44.928871154785156,
          11.308538436889648,
          1.9188436269760132,
          13.562653541564941,
          -69.6412124633789,
          -125.89281463623047,
          65.37638092041016,
          50.06044006347656,
          -19.630239486694336,
          -34.909950256347656,
          -16.672828674316406,
          52.39434814453125,
          14.541043281555176,
          -45.383792877197266,
          -21.622394561767578,
          27.274396896362305,
          -126.39949035644531,
          -25.89492416381836,
          45.27424621582031,
          -95.40794372558594,
          -114.17125701904297,
          85.06884002685547,
          67.302001953125,
          -125.42407989501953,
          -76.23143005371094,
          -54.99952697753906,
          131.41607666015625,
          -67.3256607055664,
          41.78120803833008,
          -51.021888732910156,
          -85.71044158935547,
          83.54199981689453,
          -40.51890182495117,
          -114.78224182128906,
          41.52553939819336,
          35.988162994384766,
          -5.409367084503174,
          133.703857421875,
          -62.33420944213867,
          -13.113478660583496,
          67.96807861328125,
          43.25319290161133,
          116.15425872802734,
          -36.88965606689453,
          107.67314147949219,
          -75.41392517089844,
          72.87886047363281,
          -78.11701965332031,
          -47.64518737792969,
          75.21614837646484,
          46.15631866455078,
          37.74441146850586,
          -104.4773941040039,
          10.668771743774414,
          24.356534957885742,
          -57.09767150878906,
          -65.3037338256836,
          27.076351165771484,
          -53.06542205810547,
          -75.79356384277344,
          -35.17510986328125,
          30.74512481689453,
          -37.50163650512695,
          73.69967651367188,
          27.160844802856445,
          69.88887023925781,
          102.69493103027344,
          -59.565773010253906,
          125.81240844726562,
          -152.19363403320312,
          51.97926330566406,
          -22.550613403320312,
          -93.31024169921875,
          -5.147665500640869,
          97.2107162475586,
          89.66182708740234,
          -11.708014488220215,
          -33.978511810302734,
          10.235057830810547,
          4.075023174285889,
          46.29903793334961,
          73.32177734375,
          0.9404386281967163,
          -66.10272216796875,
          -72.35386657714844,
          -35.49503707885742,
          -96.09758758544922,
          7.374067783355713,
          117.21012115478516,
          110.016357421875,
          -25.526611328125,
          79.8416976928711,
          91.81315612792969,
          26.901294708251953,
          -56.461997985839844,
          99.63939666748047,
          -124.18142700195312,
          -23.03921127319336,
          -23.74141502380371,
          33.92457580566406,
          100.79283142089844,
          49.8601188659668,
          25.058382034301758,
          62.16724395751953,
          2.3373637199401855,
          -62.210872650146484,
          0.3742339015007019,
          60.969032287597656,
          17.56024169921875,
          -53.41996383666992,
          149.51153564453125,
          -37.51752853393555,
          -57.9405403137207,
          -35.72560119628906,
          -30.299335479736328,
          -134.0894317626953,
          -61.30132293701172,
          -25.08587074279785,
          96.96524047851562,
          3.8147177696228027,
          -40.962711334228516,
          -94.98117065429688,
          -43.65204620361328,
          -59.74250030517578,
          -17.978227615356445,
          28.536344528198242,
          66.38154602050781,
          38.565364837646484,
          -57.36008834838867,
          92.61434173583984,
          33.8768310546875,
          22.086610794067383,
          -63.5362548828125,
          -116.10513305664062,
          63.09353256225586,
          4.245284557342529,
          -96.37873840332031,
          -134.48109436035156,
          99.74200439453125,
          -62.000972747802734,
          -25.553163528442383,
          -15.958842277526855,
          -52.18999099731445,
          70.1304702758789,
          -22.619319915771484,
          -130.5493621826172,
          118.59268951416016,
          -110.175048828125,
          -15.659836769104004,
          36.08729553222656,
          21.583871841430664,
          -41.18024826049805,
          -97.76332092285156,
          -5.012174129486084,
          -4.537457466125488,
          42.15256118774414,
          -21.65314292907715,
          53.6843147277832,
          -117.98307037353516,
          -44.017417907714844,
          -108.58805084228516,
          -5.6232991218566895,
          -6.381340980529785,
          80.8464584350586,
          109.92971801757812,
          17.30350112915039,
          56.89628982543945,
          -90.90314483642578,
          90.31775665283203,
          -101.82979583740234,
          102.62210845947266,
          -55.941593170166016,
          76.6607437133789,
          35.71405029296875,
          70.40695190429688,
          25.900177001953125,
          35.107261657714844,
          74.62080383300781,
          -10.196227073669434,
          -37.95048141479492,
          87.15381622314453,
          -68.64075469970703,
          40.572296142578125,
          -90.23674011230469,
          66.58208465576172,
          5.624014854431152,
          -39.7341423034668,
          101.99652862548828,
          44.915767669677734,
          -87.4586410522461,
          31.392452239990234,
          4.39762544631958,
          129.419921875,
          -90.38729858398438,
          64.03445434570312,
          67.33685302734375,
          -53.7190055847168,
          -119.97962951660156,
          -42.65672302246094,
          20.74639320373535,
          -85.96142578125,
          -33.5429573059082,
          -13.384653091430664,
          -12.167516708374023,
          -134.27676391601562,
          61.493988037109375,
          3.322781801223755,
          -51.297149658203125,
          91.71434783935547,
          8.567211151123047,
          -12.148785591125488,
          -4.727302551269531,
          30.251110076904297,
          31.877197265625,
          21.186656951904297,
          19.57944107055664,
          35.72980880737305,
          68.23236083984375,
          -1.3382551670074463,
          -16.32406997680664,
          5.479594707489014,
          -2.1855733394622803,
          58.693817138671875,
          28.608640670776367,
          140.4110107421875,
          105.38097381591797,
          102.13345336914062,
          118.60363006591797,
          -127.05762481689453,
          -27.02029037475586,
          11.29246711730957,
          26.185331344604492
         ]
        }
       ],
       "layout": {
        "coloraxis": {
         "colorbar": {
          "title": {
           "text": "Label"
          }
         },
         "colorscale": [
          [
           0,
           "#0d0887"
          ],
          [
           0.1111111111111111,
           "#46039f"
          ],
          [
           0.2222222222222222,
           "#7201a8"
          ],
          [
           0.3333333333333333,
           "#9c179e"
          ],
          [
           0.4444444444444444,
           "#bd3786"
          ],
          [
           0.5555555555555556,
           "#d8576b"
          ],
          [
           0.6666666666666666,
           "#ed7953"
          ],
          [
           0.7777777777777778,
           "#fb9f3a"
          ],
          [
           0.8888888888888888,
           "#fdca26"
          ],
          [
           1,
           "#f0f921"
          ]
         ]
        },
        "height": 800,
        "legend": {
         "tracegroupgap": 0
        },
        "scene": {
         "domain": {
          "x": [
           0,
           1
          ],
          "y": [
           0,
           1
          ]
         },
         "xaxis": {
          "title": {
           "text": "0"
          }
         },
         "yaxis": {
          "title": {
           "text": "1"
          }
         },
         "zaxis": {
          "title": {
           "text": "2"
          }
         }
        },
        "template": {
         "data": {
          "bar": [
           {
            "error_x": {
             "color": "#2a3f5f"
            },
            "error_y": {
             "color": "#2a3f5f"
            },
            "marker": {
             "line": {
              "color": "#E5ECF6",
              "width": 0.5
             }
            },
            "type": "bar"
           }
          ],
          "barpolar": [
           {
            "marker": {
             "line": {
              "color": "#E5ECF6",
              "width": 0.5
             }
            },
            "type": "barpolar"
           }
          ],
          "carpet": [
           {
            "aaxis": {
             "endlinecolor": "#2a3f5f",
             "gridcolor": "white",
             "linecolor": "white",
             "minorgridcolor": "white",
             "startlinecolor": "#2a3f5f"
            },
            "baxis": {
             "endlinecolor": "#2a3f5f",
             "gridcolor": "white",
             "linecolor": "white",
             "minorgridcolor": "white",
             "startlinecolor": "#2a3f5f"
            },
            "type": "carpet"
           }
          ],
          "choropleth": [
           {
            "colorbar": {
             "outlinewidth": 0,
             "ticks": ""
            },
            "type": "choropleth"
           }
          ],
          "contour": [
           {
            "colorbar": {
             "outlinewidth": 0,
             "ticks": ""
            },
            "colorscale": [
             [
              0,
              "#0d0887"
             ],
             [
              0.1111111111111111,
              "#46039f"
             ],
             [
              0.2222222222222222,
              "#7201a8"
             ],
             [
              0.3333333333333333,
              "#9c179e"
             ],
             [
              0.4444444444444444,
              "#bd3786"
             ],
             [
              0.5555555555555556,
              "#d8576b"
             ],
             [
              0.6666666666666666,
              "#ed7953"
             ],
             [
              0.7777777777777778,
              "#fb9f3a"
             ],
             [
              0.8888888888888888,
              "#fdca26"
             ],
             [
              1,
              "#f0f921"
             ]
            ],
            "type": "contour"
           }
          ],
          "contourcarpet": [
           {
            "colorbar": {
             "outlinewidth": 0,
             "ticks": ""
            },
            "type": "contourcarpet"
           }
          ],
          "heatmap": [
           {
            "colorbar": {
             "outlinewidth": 0,
             "ticks": ""
            },
            "colorscale": [
             [
              0,
              "#0d0887"
             ],
             [
              0.1111111111111111,
              "#46039f"
             ],
             [
              0.2222222222222222,
              "#7201a8"
             ],
             [
              0.3333333333333333,
              "#9c179e"
             ],
             [
              0.4444444444444444,
              "#bd3786"
             ],
             [
              0.5555555555555556,
              "#d8576b"
             ],
             [
              0.6666666666666666,
              "#ed7953"
             ],
             [
              0.7777777777777778,
              "#fb9f3a"
             ],
             [
              0.8888888888888888,
              "#fdca26"
             ],
             [
              1,
              "#f0f921"
             ]
            ],
            "type": "heatmap"
           }
          ],
          "heatmapgl": [
           {
            "colorbar": {
             "outlinewidth": 0,
             "ticks": ""
            },
            "colorscale": [
             [
              0,
              "#0d0887"
             ],
             [
              0.1111111111111111,
              "#46039f"
             ],
             [
              0.2222222222222222,
              "#7201a8"
             ],
             [
              0.3333333333333333,
              "#9c179e"
             ],
             [
              0.4444444444444444,
              "#bd3786"
             ],
             [
              0.5555555555555556,
              "#d8576b"
             ],
             [
              0.6666666666666666,
              "#ed7953"
             ],
             [
              0.7777777777777778,
              "#fb9f3a"
             ],
             [
              0.8888888888888888,
              "#fdca26"
             ],
             [
              1,
              "#f0f921"
             ]
            ],
            "type": "heatmapgl"
           }
          ],
          "histogram": [
           {
            "marker": {
             "colorbar": {
              "outlinewidth": 0,
              "ticks": ""
             }
            },
            "type": "histogram"
           }
          ],
          "histogram2d": [
           {
            "colorbar": {
             "outlinewidth": 0,
             "ticks": ""
            },
            "colorscale": [
             [
              0,
              "#0d0887"
             ],
             [
              0.1111111111111111,
              "#46039f"
             ],
             [
              0.2222222222222222,
              "#7201a8"
             ],
             [
              0.3333333333333333,
              "#9c179e"
             ],
             [
              0.4444444444444444,
              "#bd3786"
             ],
             [
              0.5555555555555556,
              "#d8576b"
             ],
             [
              0.6666666666666666,
              "#ed7953"
             ],
             [
              0.7777777777777778,
              "#fb9f3a"
             ],
             [
              0.8888888888888888,
              "#fdca26"
             ],
             [
              1,
              "#f0f921"
             ]
            ],
            "type": "histogram2d"
           }
          ],
          "histogram2dcontour": [
           {
            "colorbar": {
             "outlinewidth": 0,
             "ticks": ""
            },
            "colorscale": [
             [
              0,
              "#0d0887"
             ],
             [
              0.1111111111111111,
              "#46039f"
             ],
             [
              0.2222222222222222,
              "#7201a8"
             ],
             [
              0.3333333333333333,
              "#9c179e"
             ],
             [
              0.4444444444444444,
              "#bd3786"
             ],
             [
              0.5555555555555556,
              "#d8576b"
             ],
             [
              0.6666666666666666,
              "#ed7953"
             ],
             [
              0.7777777777777778,
              "#fb9f3a"
             ],
             [
              0.8888888888888888,
              "#fdca26"
             ],
             [
              1,
              "#f0f921"
             ]
            ],
            "type": "histogram2dcontour"
           }
          ],
          "mesh3d": [
           {
            "colorbar": {
             "outlinewidth": 0,
             "ticks": ""
            },
            "type": "mesh3d"
           }
          ],
          "parcoords": [
           {
            "line": {
             "colorbar": {
              "outlinewidth": 0,
              "ticks": ""
             }
            },
            "type": "parcoords"
           }
          ],
          "pie": [
           {
            "automargin": true,
            "type": "pie"
           }
          ],
          "scatter": [
           {
            "marker": {
             "colorbar": {
              "outlinewidth": 0,
              "ticks": ""
             }
            },
            "type": "scatter"
           }
          ],
          "scatter3d": [
           {
            "line": {
             "colorbar": {
              "outlinewidth": 0,
              "ticks": ""
             }
            },
            "marker": {
             "colorbar": {
              "outlinewidth": 0,
              "ticks": ""
             }
            },
            "type": "scatter3d"
           }
          ],
          "scattercarpet": [
           {
            "marker": {
             "colorbar": {
              "outlinewidth": 0,
              "ticks": ""
             }
            },
            "type": "scattercarpet"
           }
          ],
          "scattergeo": [
           {
            "marker": {
             "colorbar": {
              "outlinewidth": 0,
              "ticks": ""
             }
            },
            "type": "scattergeo"
           }
          ],
          "scattergl": [
           {
            "marker": {
             "colorbar": {
              "outlinewidth": 0,
              "ticks": ""
             }
            },
            "type": "scattergl"
           }
          ],
          "scattermapbox": [
           {
            "marker": {
             "colorbar": {
              "outlinewidth": 0,
              "ticks": ""
             }
            },
            "type": "scattermapbox"
           }
          ],
          "scatterpolar": [
           {
            "marker": {
             "colorbar": {
              "outlinewidth": 0,
              "ticks": ""
             }
            },
            "type": "scatterpolar"
           }
          ],
          "scatterpolargl": [
           {
            "marker": {
             "colorbar": {
              "outlinewidth": 0,
              "ticks": ""
             }
            },
            "type": "scatterpolargl"
           }
          ],
          "scatterternary": [
           {
            "marker": {
             "colorbar": {
              "outlinewidth": 0,
              "ticks": ""
             }
            },
            "type": "scatterternary"
           }
          ],
          "surface": [
           {
            "colorbar": {
             "outlinewidth": 0,
             "ticks": ""
            },
            "colorscale": [
             [
              0,
              "#0d0887"
             ],
             [
              0.1111111111111111,
              "#46039f"
             ],
             [
              0.2222222222222222,
              "#7201a8"
             ],
             [
              0.3333333333333333,
              "#9c179e"
             ],
             [
              0.4444444444444444,
              "#bd3786"
             ],
             [
              0.5555555555555556,
              "#d8576b"
             ],
             [
              0.6666666666666666,
              "#ed7953"
             ],
             [
              0.7777777777777778,
              "#fb9f3a"
             ],
             [
              0.8888888888888888,
              "#fdca26"
             ],
             [
              1,
              "#f0f921"
             ]
            ],
            "type": "surface"
           }
          ],
          "table": [
           {
            "cells": {
             "fill": {
              "color": "#EBF0F8"
             },
             "line": {
              "color": "white"
             }
            },
            "header": {
             "fill": {
              "color": "#C8D4E3"
             },
             "line": {
              "color": "white"
             }
            },
            "type": "table"
           }
          ]
         },
         "layout": {
          "annotationdefaults": {
           "arrowcolor": "#2a3f5f",
           "arrowhead": 0,
           "arrowwidth": 1
          },
          "coloraxis": {
           "colorbar": {
            "outlinewidth": 0,
            "ticks": ""
           }
          },
          "colorscale": {
           "diverging": [
            [
             0,
             "#8e0152"
            ],
            [
             0.1,
             "#c51b7d"
            ],
            [
             0.2,
             "#de77ae"
            ],
            [
             0.3,
             "#f1b6da"
            ],
            [
             0.4,
             "#fde0ef"
            ],
            [
             0.5,
             "#f7f7f7"
            ],
            [
             0.6,
             "#e6f5d0"
            ],
            [
             0.7,
             "#b8e186"
            ],
            [
             0.8,
             "#7fbc41"
            ],
            [
             0.9,
             "#4d9221"
            ],
            [
             1,
             "#276419"
            ]
           ],
           "sequential": [
            [
             0,
             "#0d0887"
            ],
            [
             0.1111111111111111,
             "#46039f"
            ],
            [
             0.2222222222222222,
             "#7201a8"
            ],
            [
             0.3333333333333333,
             "#9c179e"
            ],
            [
             0.4444444444444444,
             "#bd3786"
            ],
            [
             0.5555555555555556,
             "#d8576b"
            ],
            [
             0.6666666666666666,
             "#ed7953"
            ],
            [
             0.7777777777777778,
             "#fb9f3a"
            ],
            [
             0.8888888888888888,
             "#fdca26"
            ],
            [
             1,
             "#f0f921"
            ]
           ],
           "sequentialminus": [
            [
             0,
             "#0d0887"
            ],
            [
             0.1111111111111111,
             "#46039f"
            ],
            [
             0.2222222222222222,
             "#7201a8"
            ],
            [
             0.3333333333333333,
             "#9c179e"
            ],
            [
             0.4444444444444444,
             "#bd3786"
            ],
            [
             0.5555555555555556,
             "#d8576b"
            ],
            [
             0.6666666666666666,
             "#ed7953"
            ],
            [
             0.7777777777777778,
             "#fb9f3a"
            ],
            [
             0.8888888888888888,
             "#fdca26"
            ],
            [
             1,
             "#f0f921"
            ]
           ]
          },
          "colorway": [
           "#636efa",
           "#EF553B",
           "#00cc96",
           "#ab63fa",
           "#FFA15A",
           "#19d3f3",
           "#FF6692",
           "#B6E880",
           "#FF97FF",
           "#FECB52"
          ],
          "font": {
           "color": "#2a3f5f"
          },
          "geo": {
           "bgcolor": "white",
           "lakecolor": "white",
           "landcolor": "#E5ECF6",
           "showlakes": true,
           "showland": true,
           "subunitcolor": "white"
          },
          "hoverlabel": {
           "align": "left"
          },
          "hovermode": "closest",
          "mapbox": {
           "style": "light"
          },
          "paper_bgcolor": "white",
          "plot_bgcolor": "#E5ECF6",
          "polar": {
           "angularaxis": {
            "gridcolor": "white",
            "linecolor": "white",
            "ticks": ""
           },
           "bgcolor": "#E5ECF6",
           "radialaxis": {
            "gridcolor": "white",
            "linecolor": "white",
            "ticks": ""
           }
          },
          "scene": {
           "xaxis": {
            "backgroundcolor": "#E5ECF6",
            "gridcolor": "white",
            "gridwidth": 2,
            "linecolor": "white",
            "showbackground": true,
            "ticks": "",
            "zerolinecolor": "white"
           },
           "yaxis": {
            "backgroundcolor": "#E5ECF6",
            "gridcolor": "white",
            "gridwidth": 2,
            "linecolor": "white",
            "showbackground": true,
            "ticks": "",
            "zerolinecolor": "white"
           },
           "zaxis": {
            "backgroundcolor": "#E5ECF6",
            "gridcolor": "white",
            "gridwidth": 2,
            "linecolor": "white",
            "showbackground": true,
            "ticks": "",
            "zerolinecolor": "white"
           }
          },
          "shapedefaults": {
           "line": {
            "color": "#2a3f5f"
           }
          },
          "ternary": {
           "aaxis": {
            "gridcolor": "white",
            "linecolor": "white",
            "ticks": ""
           },
           "baxis": {
            "gridcolor": "white",
            "linecolor": "white",
            "ticks": ""
           },
           "bgcolor": "#E5ECF6",
           "caxis": {
            "gridcolor": "white",
            "linecolor": "white",
            "ticks": ""
           }
          },
          "title": {
           "x": 0.05
          },
          "xaxis": {
           "automargin": true,
           "gridcolor": "white",
           "linecolor": "white",
           "ticks": "",
           "title": {
            "standoff": 15
           },
           "zerolinecolor": "white",
           "zerolinewidth": 2
          },
          "yaxis": {
           "automargin": true,
           "gridcolor": "white",
           "linecolor": "white",
           "ticks": "",
           "title": {
            "standoff": 15
           },
           "zerolinecolor": "white",
           "zerolinewidth": 2
          }
         }
        },
        "title": {
         "text": "3d TSNE Plot for Outliers"
        },
        "width": 900
       }
      },
      "text/html": [
       "<div>\n",
       "        \n",
       "        \n",
       "            <div id=\"2737d65d-0b63-4f89-a3d3-83258429aa2b\" class=\"plotly-graph-div\" style=\"height:800px; width:900px;\"></div>\n",
       "            <script type=\"text/javascript\">\n",
       "                require([\"plotly\"], function(Plotly) {\n",
       "                    window.PLOTLYENV=window.PLOTLYENV || {};\n",
       "                    \n",
       "                if (document.getElementById(\"2737d65d-0b63-4f89-a3d3-83258429aa2b\")) {\n",
       "                    Plotly.newPlot(\n",
       "                        '2737d65d-0b63-4f89-a3d3-83258429aa2b',\n",
       "                        [{\"customdata\": [[0], [0], [0], [0], [0], [0], [0], [0], [0], [0], [0], [0], [0], [0], [0], [0], [0], [0], [0], [0], [0], [0], [0], [0], [0], [0], [0], [0], [0], [0], [0], [0], [0], [0], [0], [0], [0], [0], [0], [0], [0], [0], [0], [0], [0], [0], [0], [0], [0], [0], [0], [0], [0], [0], [0], [0], [0], [0], [0], [0], [0], [0], [0], [0], [0], [0], [0], [0], [0], [0], [0], [0], [0], [0], [0], [0], [0], [0], [0], [0], [0], [0], [0], [0], [0], [0], [0], [0], [0], [0], [0], [0], [0], [0], [0], [0], [0], [0], [0], [0], [0], [0], [0], [0], [0], [0], [0], [0], [0], [0], [0], [0], [0], [0], [0], [0], [0], [0], [0], [0], [0], [0], [0], [0], [0], [0], [0], [0], [0], [0], [0], [0], [0], [0], [0], [0], [0], [0], [0], [0], [0], [0], [0], [0], [0], [0], [0], [0], [0], [0], [0], [0], [0], [0], [0], [0], [0], [0], [0], [0], [0], [0], [0], [0], [0], [0], [0], [0], [0], [0], [0], [0], [0], [0], [0], [0], [0], [0], [0], [0], [0], [0], [0], [0], [0], [0], [0], [0], [0], [0], [0], [1], [1], [1], [1], [1], [1], [1], [1], [1], [1], [1], [1], [1], [1], [1], [1], [1], [1], [1], [1], [1], [1], [1], [1], [1], [1], [1], [1], [1], [1], [1], [1], [1], [1], [1], [1], [1], [1], [1], [1], [1], [1], [1]], \"hoverlabel\": {\"namelength\": 0}, \"hovertemplate\": \"0=%{x}<br>1=%{y}<br>2=%{z}<br>Feature=%{customdata[0]}<br>Label=%{marker.color}\", \"legendgroup\": \"\", \"marker\": {\"color\": [0, 0, 0, 0, 0, 0, 0, 1, 0, 0, 0, 0, 0, 0, 0, 0, 0, 0, 0, 0, 0, 0, 0, 0, 0, 1, 0, 0, 0, 0, 0, 0, 0, 0, 0, 0, 0, 0, 0, 0, 0, 0, 0, 0, 0, 0, 0, 0, 0, 0, 0, 0, 0, 0, 0, 0, 0, 0, 0, 0, 0, 0, 0, 0, 0, 0, 0, 0, 0, 0, 0, 1, 0, 0, 0, 0, 1, 0, 0, 0, 0, 0, 0, 0, 0, 0, 0, 0, 0, 0, 0, 0, 0, 0, 0, 0, 0, 0, 0, 0, 0, 0, 0, 0, 0, 0, 0, 0, 0, 0, 0, 0, 0, 0, 0, 0, 0, 1, 0, 0, 0, 0, 0, 0, 0, 0, 0, 0, 0, 0, 0, 0, 0, 0, 0, 0, 0, 0, 0, 0, 0, 0, 0, 0, 0, 0, 0, 1, 0, 1, 0, 0, 0, 0, 0, 0, 0, 0, 0, 0, 0, 0, 0, 0, 0, 0, 0, 0, 0, 0, 0, 1, 0, 0, 1, 0, 0, 0, 0, 0, 0, 0, 0, 0, 0, 0, 0, 0, 0, 0, 1, 0, 0, 0, 0, 0, 0, 0, 0, 0, 0, 0, 0, 0, 0, 0, 0, 0, 0, 0, 0, 0, 0, 0, 0, 0, 0, 0, 0, 0, 0, 0, 0, 0, 0, 0, 0, 0, 1, 0, 0, 0, 0, 0], \"coloraxis\": \"coloraxis\", \"opacity\": 0.7, \"symbol\": \"circle\"}, \"mode\": \"markers\", \"name\": \"\", \"scene\": \"scene\", \"showlegend\": false, \"type\": \"scatter3d\", \"x\": [-87.87669372558594, -1.3450716733932495, -172.99905395507812, 102.91700744628906, -17.607507705688477, -48.673580169677734, 47.23955154418945, -67.01337432861328, 93.75406646728516, 110.15251159667969, 118.71778869628906, -152.2669677734375, 11.009502410888672, -92.15129852294922, 16.546627044677734, -28.07342529296875, 2.371408700942993, 35.732749938964844, 106.16069793701172, -54.87571334838867, 108.40386199951172, 32.745052337646484, 26.950639724731445, 4.112330913543701, 43.99127197265625, -97.51976013183594, 43.116912841796875, -56.00812911987305, 88.71932220458984, -46.14818572998047, 78.07340240478516, 15.381952285766602, 0.9127807021141052, 58.813682556152344, 80.8942642211914, -12.321370124816895, 33.96134567260742, 99.70006561279297, -142.50624084472656, 18.183433532714844, 17.643259048461914, 44.19967269897461, 18.250591278076172, -140.4040985107422, 2.1996824741363525, -10.00910472869873, -36.864402770996094, 79.99222564697266, -46.731849670410156, -150.25245666503906, -72.79646301269531, -25.2535400390625, 2.336216926574707, -75.34253692626953, -126.60005187988281, 92.30606842041016, -105.9426040649414, 37.19748306274414, 93.59953308105469, 68.64081573486328, -98.38154602050781, -25.918813705444336, 35.448585510253906, 66.2408447265625, 50.353633880615234, -10.957528114318848, 92.14512634277344, 23.568681716918945, 33.81157302856445, 59.89471435546875, 43.60182189941406, -89.50845336914062, 1.5816057920455933, 106.0904769897461, 67.32284545898438, 12.218412399291992, 88.74600982666016, 56.803443908691406, -113.30559539794922, -32.272804260253906, 119.1882553100586, -16.77810287475586, 18.100921630859375, 112.06121063232422, 77.96300506591797, -4.396561622619629, -86.2560806274414, 33.27481460571289, -44.485939025878906, 123.34056091308594, -11.643317222595215, 13.700248718261719, -116.88323211669922, -8.857244491577148, 76.19263458251953, -1.5230485200881958, 101.82852935791016, 66.4614028930664, 92.21961975097656, 19.482316970825195, -21.28582763671875, 6.426711559295654, 95.54895782470703, 91.5963134765625, -43.59677505493164, 133.51246643066406, 87.41265869140625, 112.39198303222656, -16.590288162231445, 70.64275360107422, -112.65172576904297, -155.69248962402344, 79.32054138183594, -143.62533569335938, 58.558204650878906, -87.28781127929688, -53.33424377441406, -123.64433288574219, -28.596487045288086, -56.09781265258789, 129.41549682617188, -93.58048248291016, -104.7481460571289, -17.79136085510254, -69.6990966796875, -36.4444580078125, 45.079524993896484, -108.78770446777344, -88.10233306884766, 7.48361873626709, -73.68828582763672, -3.9652256965637207, -92.93559265136719, 44.42715072631836, -58.74353790283203, -49.163490295410156, 56.17127227783203, 144.47938537597656, 33.47373962402344, 53.126495361328125, -47.33595275878906, -126.69770812988281, 67.39856719970703, -149.160888671875, 25.509136199951172, -56.8305549621582, -1.6383984088897705, -94.56122589111328, 48.33177947998047, -98.53591918945312, -100.78746795654297, 39.20111083984375, 157.7270965576172, 55.35839080810547, 101.97774505615234, -74.05366516113281, -38.16145706176758, -49.14216613769531, 0.14430584013462067, -85.64930725097656, 60.11628723144531, 27.753402709960938, 115.146484375, -41.75687789916992, 54.33037185668945, -128.9105682373047, -47.87921142578125, 53.34180450439453, -1.6728339195251465, 59.076019287109375, 23.720569610595703, -133.15562438964844, -84.29811096191406, -118.94932556152344, 115.4417724609375, 120.98279571533203, 43.4133415222168, 86.96636199951172, -20.146343231201172, -34.96219253540039, 150.6374053955078, 6.49628210067749, -28.8038330078125, -15.504997253417969, -50.875755310058594, -58.26488494873047, -110.77132415771484, -75.05331420898438, -132.6693115234375, -62.88334274291992, 136.32723999023438, -98.1844711303711, 83.93197631835938, 14.347838401794434, -60.857765197753906, -96.61246490478516, 11.026308059692383, -24.53536033630371, -113.05197143554688, -18.152605056762695, 106.23668670654297, 38.35860824584961, 100.67262268066406, 141.07322692871094, -81.91533660888672, 67.03285217285156, -5.42104434967041, 120.04692077636719, 44.40314483642578, -89.6688003540039, 35.41520690917969, 24.03396224975586, -15.814311027526855, 11.578034400939941, 5.523831367492676, -43.87027359008789, -8.534135818481445, -57.98094940185547, -27.49311637878418, 93.5760269165039, 8.436738967895508, 117.73158264160156, -52.98262023925781, -77.40519714355469, 145.86782836914062, 94.69574737548828, -24.677753448486328, -90.01032257080078, 118.69570922851562, 2.3523805141448975, -12.581230163574219, -77.36083221435547, -14.407644271850586, -72.77994537353516], \"y\": [-72.00154876708984, -120.99224853515625, 66.10550689697266, -129.4182586669922, 2.764716625213623, 125.78341674804688, -123.0601806640625, 40.74296188354492, 81.72596740722656, 0.7459558844566345, -15.738319396972656, 94.49935913085938, 3.1354753971099854, -101.39408874511719, 6.83159065246582, -103.77885437011719, -122.65349578857422, 42.32329559326172, 36.27960968017578, 43.954673767089844, -118.78974151611328, -80.30648803710938, 28.318693161010742, 1.698534607887268, 12.585585594177246, 70.25577545166016, 4.160425662994385, 23.743690490722656, 22.23579978942871, -34.36294174194336, -55.338741302490234, 9.115163803100586, 52.40744400024414, 37.950321197509766, 5.965728759765625, 86.31157684326172, -41.252315521240234, -34.10151290893555, 69.04536437988281, -2.620640754699707, -21.031843185424805, 115.25538635253906, -67.38935852050781, 0.15677613019943237, 19.598712921142578, -22.0720157623291, -68.18229675292969, 12.79207706451416, 117.6524658203125, 64.05400085449219, -110.5042495727539, -61.306861877441406, -39.08067321777344, 6.4552001953125, 66.39276123046875, -62.68019485473633, -34.23029708862305, 33.34677505493164, -105.1321792602539, -134.6285858154297, 56.52861785888672, 31.795198440551758, -17.908832550048828, -26.4942626953125, 10.549247741699219, 118.77267456054688, 42.693050384521484, -22.385826110839844, 3.8501808643341064, -17.108642578125, 46.73883819580078, 35.736351013183594, -8.33722972869873, -56.23897171020508, -16.99369239807129, -25.544153213500977, -121.3487777709961, -29.734619140625, 13.839608192443848, 81.45639038085938, -0.7067084312438965, -36.16756820678711, 97.56053161621094, -65.51953887939453, 80.68351745605469, -74.03974914550781, 29.37613868713379, 62.81700897216797, -71.90824890136719, -45.90102767944336, -14.834976196289062, -29.99618911743164, 85.78058624267578, -29.931583404541016, -0.5699271559715271, -101.23875427246094, 33.587310791015625, 91.62397003173828, -44.17839813232422, -91.56407165527344, -73.90767669677734, 64.71224212646484, 66.25086975097656, -150.30503845214844, 0.8615814447402954, -102.81012725830078, -25.270341873168945, 5.0528974533081055, -91.39254760742188, -122.2217025756836, 95.45454406738281, 33.159114837646484, -63.771270751953125, 4.670085906982422, -53.06013107299805, 25.230056762695312, 142.32330322265625, 42.27543640136719, 122.4483413696289, 6.456472873687744, -8.835660934448242, 138.6470184326172, -2.2799315452575684, 0.8549801707267761, -42.76458740234375, -2.0314462184906006, 34.458492279052734, 2.2791826725006104, 53.58822250366211, -70.02479553222656, -3.489919424057007, 90.96483612060547, 31.86940574645996, 80.1554183959961, 53.741764068603516, -38.42751693725586, -63.53828048706055, -77.1270980834961, -20.270658493041992, -36.99085998535156, -36.21797561645508, 85.00019836425781, 56.329158782958984, 37.722381591796875, 115.19464111328125, -13.237812042236328, 109.04658508300781, 7.7439398765563965, -51.918701171875, 36.62264633178711, 44.93007278442383, -86.84577941894531, -44.934303283691406, -76.75762176513672, 73.62137603759766, 22.839641571044922, 60.94445037841797, 88.38148498535156, 141.2122802734375, 92.0599136352539, 25.31879425048828, -50.16164016723633, 1.1146942377090454, 96.06959533691406, 2.5091686248779297, 28.862951278686523, 9.092060089111328, -58.6580810546875, -133.02687072753906, 52.53215026855469, 55.24174499511719, 28.276918411254883, 36.46852493286133, 27.893102645874023, -132.45333862304688, -79.73702239990234, 130.38182067871094, 4.720069408416748, 104.17750549316406, 21.853357315063477, -27.4158878326416, 43.49565887451172, -112.49850463867188, 81.97462463378906, 42.2935791015625, 2.3034112453460693, -4.708696365356445, 58.33716583251953, 56.69274139404297, 75.47975158691406, -140.8577117919922, 83.37699127197266, -101.78670501708984, -64.78255462646484, -45.63905715942383, -61.9554328918457, 25.110620498657227, 71.74595642089844, -69.76244354248047, 30.75845718383789, 81.06857299804688, 131.62196350097656, -67.52662658691406, -64.88875579833984, -12.503511428833008, -46.68115234375, -29.873750686645508, 35.54777526855469, -94.71166229248047, 101.46016693115234, -107.86981964111328, -126.21501922607422, 30.46293067932129, 37.201988220214844, 128.8301544189453, -43.76167678833008, 30.076601028442383, -100.71328735351562, 143.87850952148438, -95.94283294677734, 81.5632095336914, -94.92621612548828, -65.09622955322266, -87.27750396728516, -59.415122985839844, 122.04684448242188, -46.88398742675781, -14.745344161987305, -100.27452850341797, -67.29747009277344, -69.51920318603516, 76.52088165283203, -145.00106811523438, -66.63270568847656], \"z\": [76.68716430664062, -60.16841506958008, -44.928871154785156, 11.308538436889648, 1.9188436269760132, 13.562653541564941, -69.6412124633789, -125.89281463623047, 65.37638092041016, 50.06044006347656, -19.630239486694336, -34.909950256347656, -16.672828674316406, 52.39434814453125, 14.541043281555176, -45.383792877197266, -21.622394561767578, 27.274396896362305, -126.39949035644531, -25.89492416381836, 45.27424621582031, -95.40794372558594, -114.17125701904297, 85.06884002685547, 67.302001953125, -125.42407989501953, -76.23143005371094, -54.99952697753906, 131.41607666015625, -67.3256607055664, 41.78120803833008, -51.021888732910156, -85.71044158935547, 83.54199981689453, -40.51890182495117, -114.78224182128906, 41.52553939819336, 35.988162994384766, -5.409367084503174, 133.703857421875, -62.33420944213867, -13.113478660583496, 67.96807861328125, 43.25319290161133, 116.15425872802734, -36.88965606689453, 107.67314147949219, -75.41392517089844, 72.87886047363281, -78.11701965332031, -47.64518737792969, 75.21614837646484, 46.15631866455078, 37.74441146850586, -104.4773941040039, 10.668771743774414, 24.356534957885742, -57.09767150878906, -65.3037338256836, 27.076351165771484, -53.06542205810547, -75.79356384277344, -35.17510986328125, 30.74512481689453, -37.50163650512695, 73.69967651367188, 27.160844802856445, 69.88887023925781, 102.69493103027344, -59.565773010253906, 125.81240844726562, -152.19363403320312, 51.97926330566406, -22.550613403320312, -93.31024169921875, -5.147665500640869, 97.2107162475586, 89.66182708740234, -11.708014488220215, -33.978511810302734, 10.235057830810547, 4.075023174285889, 46.29903793334961, 73.32177734375, 0.9404386281967163, -66.10272216796875, -72.35386657714844, -35.49503707885742, -96.09758758544922, 7.374067783355713, 117.21012115478516, 110.016357421875, -25.526611328125, 79.8416976928711, 91.81315612792969, 26.901294708251953, -56.461997985839844, 99.63939666748047, -124.18142700195312, -23.03921127319336, -23.74141502380371, 33.92457580566406, 100.79283142089844, 49.8601188659668, 25.058382034301758, 62.16724395751953, 2.3373637199401855, -62.210872650146484, 0.3742339015007019, 60.969032287597656, 17.56024169921875, -53.41996383666992, 149.51153564453125, -37.51752853393555, -57.9405403137207, -35.72560119628906, -30.299335479736328, -134.0894317626953, -61.30132293701172, -25.08587074279785, 96.96524047851562, 3.8147177696228027, -40.962711334228516, -94.98117065429688, -43.65204620361328, -59.74250030517578, -17.978227615356445, 28.536344528198242, 66.38154602050781, 38.565364837646484, -57.36008834838867, 92.61434173583984, 33.8768310546875, 22.086610794067383, -63.5362548828125, -116.10513305664062, 63.09353256225586, 4.245284557342529, -96.37873840332031, -134.48109436035156, 99.74200439453125, -62.000972747802734, -25.553163528442383, -15.958842277526855, -52.18999099731445, 70.1304702758789, -22.619319915771484, -130.5493621826172, 118.59268951416016, -110.175048828125, -15.659836769104004, 36.08729553222656, 21.583871841430664, -41.18024826049805, -97.76332092285156, -5.012174129486084, -4.537457466125488, 42.15256118774414, -21.65314292907715, 53.6843147277832, -117.98307037353516, -44.017417907714844, -108.58805084228516, -5.6232991218566895, -6.381340980529785, 80.8464584350586, 109.92971801757812, 17.30350112915039, 56.89628982543945, -90.90314483642578, 90.31775665283203, -101.82979583740234, 102.62210845947266, -55.941593170166016, 76.6607437133789, 35.71405029296875, 70.40695190429688, 25.900177001953125, 35.107261657714844, 74.62080383300781, -10.196227073669434, -37.95048141479492, 87.15381622314453, -68.64075469970703, 40.572296142578125, -90.23674011230469, 66.58208465576172, 5.624014854431152, -39.7341423034668, 101.99652862548828, 44.915767669677734, -87.4586410522461, 31.392452239990234, 4.39762544631958, 129.419921875, -90.38729858398438, 64.03445434570312, 67.33685302734375, -53.7190055847168, -119.97962951660156, -42.65672302246094, 20.74639320373535, -85.96142578125, -33.5429573059082, -13.384653091430664, -12.167516708374023, -134.27676391601562, 61.493988037109375, 3.322781801223755, -51.297149658203125, 91.71434783935547, 8.567211151123047, -12.148785591125488, -4.727302551269531, 30.251110076904297, 31.877197265625, 21.186656951904297, 19.57944107055664, 35.72980880737305, 68.23236083984375, -1.3382551670074463, -16.32406997680664, 5.479594707489014, -2.1855733394622803, 58.693817138671875, 28.608640670776367, 140.4110107421875, 105.38097381591797, 102.13345336914062, 118.60363006591797, -127.05762481689453, -27.02029037475586, 11.29246711730957, 26.185331344604492]}],\n",
       "                        {\"coloraxis\": {\"colorbar\": {\"title\": {\"text\": \"Label\"}}, \"colorscale\": [[0.0, \"#0d0887\"], [0.1111111111111111, \"#46039f\"], [0.2222222222222222, \"#7201a8\"], [0.3333333333333333, \"#9c179e\"], [0.4444444444444444, \"#bd3786\"], [0.5555555555555556, \"#d8576b\"], [0.6666666666666666, \"#ed7953\"], [0.7777777777777778, \"#fb9f3a\"], [0.8888888888888888, \"#fdca26\"], [1.0, \"#f0f921\"]]}, \"height\": 800, \"legend\": {\"tracegroupgap\": 0}, \"scene\": {\"domain\": {\"x\": [0.0, 1.0], \"y\": [0.0, 1.0]}, \"xaxis\": {\"title\": {\"text\": \"0\"}}, \"yaxis\": {\"title\": {\"text\": \"1\"}}, \"zaxis\": {\"title\": {\"text\": \"2\"}}}, \"template\": {\"data\": {\"bar\": [{\"error_x\": {\"color\": \"#2a3f5f\"}, \"error_y\": {\"color\": \"#2a3f5f\"}, \"marker\": {\"line\": {\"color\": \"#E5ECF6\", \"width\": 0.5}}, \"type\": \"bar\"}], \"barpolar\": [{\"marker\": {\"line\": {\"color\": \"#E5ECF6\", \"width\": 0.5}}, \"type\": \"barpolar\"}], \"carpet\": [{\"aaxis\": {\"endlinecolor\": \"#2a3f5f\", \"gridcolor\": \"white\", \"linecolor\": \"white\", \"minorgridcolor\": \"white\", \"startlinecolor\": \"#2a3f5f\"}, \"baxis\": {\"endlinecolor\": \"#2a3f5f\", \"gridcolor\": \"white\", \"linecolor\": \"white\", \"minorgridcolor\": \"white\", \"startlinecolor\": \"#2a3f5f\"}, \"type\": \"carpet\"}], \"choropleth\": [{\"colorbar\": {\"outlinewidth\": 0, \"ticks\": \"\"}, \"type\": \"choropleth\"}], \"contour\": [{\"colorbar\": {\"outlinewidth\": 0, \"ticks\": \"\"}, \"colorscale\": [[0.0, \"#0d0887\"], [0.1111111111111111, \"#46039f\"], [0.2222222222222222, \"#7201a8\"], [0.3333333333333333, \"#9c179e\"], [0.4444444444444444, \"#bd3786\"], [0.5555555555555556, \"#d8576b\"], [0.6666666666666666, \"#ed7953\"], [0.7777777777777778, \"#fb9f3a\"], [0.8888888888888888, \"#fdca26\"], [1.0, \"#f0f921\"]], \"type\": \"contour\"}], \"contourcarpet\": [{\"colorbar\": {\"outlinewidth\": 0, \"ticks\": \"\"}, \"type\": \"contourcarpet\"}], \"heatmap\": [{\"colorbar\": {\"outlinewidth\": 0, \"ticks\": \"\"}, \"colorscale\": [[0.0, \"#0d0887\"], [0.1111111111111111, \"#46039f\"], [0.2222222222222222, \"#7201a8\"], [0.3333333333333333, \"#9c179e\"], [0.4444444444444444, \"#bd3786\"], [0.5555555555555556, \"#d8576b\"], [0.6666666666666666, \"#ed7953\"], [0.7777777777777778, \"#fb9f3a\"], [0.8888888888888888, \"#fdca26\"], [1.0, \"#f0f921\"]], \"type\": \"heatmap\"}], \"heatmapgl\": [{\"colorbar\": {\"outlinewidth\": 0, \"ticks\": \"\"}, \"colorscale\": [[0.0, \"#0d0887\"], [0.1111111111111111, \"#46039f\"], [0.2222222222222222, \"#7201a8\"], [0.3333333333333333, \"#9c179e\"], [0.4444444444444444, \"#bd3786\"], [0.5555555555555556, \"#d8576b\"], [0.6666666666666666, \"#ed7953\"], [0.7777777777777778, \"#fb9f3a\"], [0.8888888888888888, \"#fdca26\"], [1.0, \"#f0f921\"]], \"type\": \"heatmapgl\"}], \"histogram\": [{\"marker\": {\"colorbar\": {\"outlinewidth\": 0, \"ticks\": \"\"}}, \"type\": \"histogram\"}], \"histogram2d\": [{\"colorbar\": {\"outlinewidth\": 0, \"ticks\": \"\"}, \"colorscale\": [[0.0, \"#0d0887\"], [0.1111111111111111, \"#46039f\"], [0.2222222222222222, \"#7201a8\"], [0.3333333333333333, \"#9c179e\"], [0.4444444444444444, \"#bd3786\"], [0.5555555555555556, \"#d8576b\"], [0.6666666666666666, \"#ed7953\"], [0.7777777777777778, \"#fb9f3a\"], [0.8888888888888888, \"#fdca26\"], [1.0, \"#f0f921\"]], \"type\": \"histogram2d\"}], \"histogram2dcontour\": [{\"colorbar\": {\"outlinewidth\": 0, \"ticks\": \"\"}, \"colorscale\": [[0.0, \"#0d0887\"], [0.1111111111111111, \"#46039f\"], [0.2222222222222222, \"#7201a8\"], [0.3333333333333333, \"#9c179e\"], [0.4444444444444444, \"#bd3786\"], [0.5555555555555556, \"#d8576b\"], [0.6666666666666666, \"#ed7953\"], [0.7777777777777778, \"#fb9f3a\"], [0.8888888888888888, \"#fdca26\"], [1.0, \"#f0f921\"]], \"type\": \"histogram2dcontour\"}], \"mesh3d\": [{\"colorbar\": {\"outlinewidth\": 0, \"ticks\": \"\"}, \"type\": \"mesh3d\"}], \"parcoords\": [{\"line\": {\"colorbar\": {\"outlinewidth\": 0, \"ticks\": \"\"}}, \"type\": \"parcoords\"}], \"pie\": [{\"automargin\": true, \"type\": \"pie\"}], \"scatter\": [{\"marker\": {\"colorbar\": {\"outlinewidth\": 0, \"ticks\": \"\"}}, \"type\": \"scatter\"}], \"scatter3d\": [{\"line\": {\"colorbar\": {\"outlinewidth\": 0, \"ticks\": \"\"}}, \"marker\": {\"colorbar\": {\"outlinewidth\": 0, \"ticks\": \"\"}}, \"type\": \"scatter3d\"}], \"scattercarpet\": [{\"marker\": {\"colorbar\": {\"outlinewidth\": 0, \"ticks\": \"\"}}, \"type\": \"scattercarpet\"}], \"scattergeo\": [{\"marker\": {\"colorbar\": {\"outlinewidth\": 0, \"ticks\": \"\"}}, \"type\": \"scattergeo\"}], \"scattergl\": [{\"marker\": {\"colorbar\": {\"outlinewidth\": 0, \"ticks\": \"\"}}, \"type\": \"scattergl\"}], \"scattermapbox\": [{\"marker\": {\"colorbar\": {\"outlinewidth\": 0, \"ticks\": \"\"}}, \"type\": \"scattermapbox\"}], \"scatterpolar\": [{\"marker\": {\"colorbar\": {\"outlinewidth\": 0, \"ticks\": \"\"}}, \"type\": \"scatterpolar\"}], \"scatterpolargl\": [{\"marker\": {\"colorbar\": {\"outlinewidth\": 0, \"ticks\": \"\"}}, \"type\": \"scatterpolargl\"}], \"scatterternary\": [{\"marker\": {\"colorbar\": {\"outlinewidth\": 0, \"ticks\": \"\"}}, \"type\": \"scatterternary\"}], \"surface\": [{\"colorbar\": {\"outlinewidth\": 0, \"ticks\": \"\"}, \"colorscale\": [[0.0, \"#0d0887\"], [0.1111111111111111, \"#46039f\"], [0.2222222222222222, \"#7201a8\"], [0.3333333333333333, \"#9c179e\"], [0.4444444444444444, \"#bd3786\"], [0.5555555555555556, \"#d8576b\"], [0.6666666666666666, \"#ed7953\"], [0.7777777777777778, \"#fb9f3a\"], [0.8888888888888888, \"#fdca26\"], [1.0, \"#f0f921\"]], \"type\": \"surface\"}], \"table\": [{\"cells\": {\"fill\": {\"color\": \"#EBF0F8\"}, \"line\": {\"color\": \"white\"}}, \"header\": {\"fill\": {\"color\": \"#C8D4E3\"}, \"line\": {\"color\": \"white\"}}, \"type\": \"table\"}]}, \"layout\": {\"annotationdefaults\": {\"arrowcolor\": \"#2a3f5f\", \"arrowhead\": 0, \"arrowwidth\": 1}, \"coloraxis\": {\"colorbar\": {\"outlinewidth\": 0, \"ticks\": \"\"}}, \"colorscale\": {\"diverging\": [[0, \"#8e0152\"], [0.1, \"#c51b7d\"], [0.2, \"#de77ae\"], [0.3, \"#f1b6da\"], [0.4, \"#fde0ef\"], [0.5, \"#f7f7f7\"], [0.6, \"#e6f5d0\"], [0.7, \"#b8e186\"], [0.8, \"#7fbc41\"], [0.9, \"#4d9221\"], [1, \"#276419\"]], \"sequential\": [[0.0, \"#0d0887\"], [0.1111111111111111, \"#46039f\"], [0.2222222222222222, \"#7201a8\"], [0.3333333333333333, \"#9c179e\"], [0.4444444444444444, \"#bd3786\"], [0.5555555555555556, \"#d8576b\"], [0.6666666666666666, \"#ed7953\"], [0.7777777777777778, \"#fb9f3a\"], [0.8888888888888888, \"#fdca26\"], [1.0, \"#f0f921\"]], \"sequentialminus\": [[0.0, \"#0d0887\"], [0.1111111111111111, \"#46039f\"], [0.2222222222222222, \"#7201a8\"], [0.3333333333333333, \"#9c179e\"], [0.4444444444444444, \"#bd3786\"], [0.5555555555555556, \"#d8576b\"], [0.6666666666666666, \"#ed7953\"], [0.7777777777777778, \"#fb9f3a\"], [0.8888888888888888, \"#fdca26\"], [1.0, \"#f0f921\"]]}, \"colorway\": [\"#636efa\", \"#EF553B\", \"#00cc96\", \"#ab63fa\", \"#FFA15A\", \"#19d3f3\", \"#FF6692\", \"#B6E880\", \"#FF97FF\", \"#FECB52\"], \"font\": {\"color\": \"#2a3f5f\"}, \"geo\": {\"bgcolor\": \"white\", \"lakecolor\": \"white\", \"landcolor\": \"#E5ECF6\", \"showlakes\": true, \"showland\": true, \"subunitcolor\": \"white\"}, \"hoverlabel\": {\"align\": \"left\"}, \"hovermode\": \"closest\", \"mapbox\": {\"style\": \"light\"}, \"paper_bgcolor\": \"white\", \"plot_bgcolor\": \"#E5ECF6\", \"polar\": {\"angularaxis\": {\"gridcolor\": \"white\", \"linecolor\": \"white\", \"ticks\": \"\"}, \"bgcolor\": \"#E5ECF6\", \"radialaxis\": {\"gridcolor\": \"white\", \"linecolor\": \"white\", \"ticks\": \"\"}}, \"scene\": {\"xaxis\": {\"backgroundcolor\": \"#E5ECF6\", \"gridcolor\": \"white\", \"gridwidth\": 2, \"linecolor\": \"white\", \"showbackground\": true, \"ticks\": \"\", \"zerolinecolor\": \"white\"}, \"yaxis\": {\"backgroundcolor\": \"#E5ECF6\", \"gridcolor\": \"white\", \"gridwidth\": 2, \"linecolor\": \"white\", \"showbackground\": true, \"ticks\": \"\", \"zerolinecolor\": \"white\"}, \"zaxis\": {\"backgroundcolor\": \"#E5ECF6\", \"gridcolor\": \"white\", \"gridwidth\": 2, \"linecolor\": \"white\", \"showbackground\": true, \"ticks\": \"\", \"zerolinecolor\": \"white\"}}, \"shapedefaults\": {\"line\": {\"color\": \"#2a3f5f\"}}, \"ternary\": {\"aaxis\": {\"gridcolor\": \"white\", \"linecolor\": \"white\", \"ticks\": \"\"}, \"baxis\": {\"gridcolor\": \"white\", \"linecolor\": \"white\", \"ticks\": \"\"}, \"bgcolor\": \"#E5ECF6\", \"caxis\": {\"gridcolor\": \"white\", \"linecolor\": \"white\", \"ticks\": \"\"}}, \"title\": {\"x\": 0.05}, \"xaxis\": {\"automargin\": true, \"gridcolor\": \"white\", \"linecolor\": \"white\", \"ticks\": \"\", \"title\": {\"standoff\": 15}, \"zerolinecolor\": \"white\", \"zerolinewidth\": 2}, \"yaxis\": {\"automargin\": true, \"gridcolor\": \"white\", \"linecolor\": \"white\", \"ticks\": \"\", \"title\": {\"standoff\": 15}, \"zerolinecolor\": \"white\", \"zerolinewidth\": 2}}}, \"title\": {\"text\": \"3d TSNE Plot for Outliers\"}, \"width\": 900},\n",
       "                        {\"responsive\": true}\n",
       "                    ).then(function(){\n",
       "                            \n",
       "var gd = document.getElementById('2737d65d-0b63-4f89-a3d3-83258429aa2b');\n",
       "var x = new MutationObserver(function (mutations, observer) {{\n",
       "        var display = window.getComputedStyle(gd).display;\n",
       "        if (!display || display === 'none') {{\n",
       "            console.log([gd, 'removed!']);\n",
       "            Plotly.purge(gd);\n",
       "            observer.disconnect();\n",
       "        }}\n",
       "}});\n",
       "\n",
       "// Listen for the removal of the full notebook cells\n",
       "var notebookContainer = gd.closest('#notebook-container');\n",
       "if (notebookContainer) {{\n",
       "    x.observe(notebookContainer, {childList: true});\n",
       "}}\n",
       "\n",
       "// Listen for the clearing of the current output cell\n",
       "var outputEl = gd.closest('.output');\n",
       "if (outputEl) {{\n",
       "    x.observe(outputEl, {childList: true});\n",
       "}}\n",
       "\n",
       "                        })\n",
       "                };\n",
       "                });\n",
       "            </script>\n",
       "        </div>"
      ]
     },
     "metadata": {},
     "output_type": "display_data"
    }
   ],
   "source": [
    "plot_model(knn)"
   ]
  },
  {
   "cell_type": "code",
   "execution_count": 8,
   "metadata": {},
   "outputs": [
    {
     "data": {
      "text/plain": [
       "<matplotlib.axes._subplots.AxesSubplot at 0x7f41602818d0>"
      ]
     },
     "execution_count": 8,
     "metadata": {},
     "output_type": "execute_result"
    },
    {
     "data": {
      "image/png": "[encoded data removed]",
      "text/plain": [
       "<Figure size 432x288 with 1 Axes>"
      ]
     },
     "metadata": {
      "needs_background": "light"
     },
     "output_type": "display_data"
    }
   ],
   "source": [
    "knn_df['Label'].value_counts().plot.bar()"
   ]
  },
  {
   "cell_type": "code",
   "execution_count": 9,
   "metadata": {},
   "outputs": [
    {
     "data": {
      "text/plain": [
       "0    223\n",
       "1     11\n",
       "Name: Label, dtype: int64"
      ]
     },
     "execution_count": 9,
     "metadata": {},
     "output_type": "execute_result"
    }
   ],
   "source": [
    "knn_df['Label'].value_counts()"
   ]
  },
  {
   "cell_type": "markdown",
   "metadata": {},
   "source": [
    "# Separating Anomaly Label 0 and 1"
   ]
  },
  {
   "cell_type": "code",
   "execution_count": 10,
   "metadata": {},
   "outputs": [],
   "source": [
    "df = knn_df.loc[knn_df['Label'] == 0] "
   ]
  },
  {
   "cell_type": "code",
   "execution_count": 11,
   "metadata": {},
   "outputs": [
    {
     "data": {
      "text/html": [
       "<div>\n",
       "<style scoped>\n",
       "    .dataframe tbody tr th:only-of-type {\n",
       "        vertical-align: middle;\n",
       "    }\n",
       "\n",
       "    .dataframe tbody tr th {\n",
       "        vertical-align: top;\n",
       "    }\n",
       "\n",
       "    .dataframe thead th {\n",
       "        text-align: right;\n",
       "    }\n",
       "</style>\n",
       "<table border=\"1\" class=\"dataframe\">\n",
       "  <thead>\n",
       "    <tr style=\"text-align: right;\">\n",
       "      <th></th>\n",
       "      <th>target</th>\n",
       "      <th>tumor size</th>\n",
       "      <th>node status of the tumor</th>\n",
       "      <th>Age of the patient</th>\n",
       "      <th>tumor grade</th>\n",
       "      <th>Label</th>\n",
       "      <th>Score</th>\n",
       "    </tr>\n",
       "  </thead>\n",
       "  <tbody>\n",
       "    <tr>\n",
       "      <th>0</th>\n",
       "      <td>0</td>\n",
       "      <td>2</td>\n",
       "      <td>1</td>\n",
       "      <td>60</td>\n",
       "      <td>3</td>\n",
       "      <td>0</td>\n",
       "      <td>1.414214</td>\n",
       "    </tr>\n",
       "    <tr>\n",
       "      <th>1</th>\n",
       "      <td>0</td>\n",
       "      <td>1</td>\n",
       "      <td>1</td>\n",
       "      <td>55</td>\n",
       "      <td>2</td>\n",
       "      <td>0</td>\n",
       "      <td>2.000000</td>\n",
       "    </tr>\n",
       "    <tr>\n",
       "      <th>2</th>\n",
       "      <td>0</td>\n",
       "      <td>1</td>\n",
       "      <td>1</td>\n",
       "      <td>33</td>\n",
       "      <td>3</td>\n",
       "      <td>0</td>\n",
       "      <td>2.449490</td>\n",
       "    </tr>\n",
       "    <tr>\n",
       "      <th>3</th>\n",
       "      <td>0</td>\n",
       "      <td>1</td>\n",
       "      <td>1</td>\n",
       "      <td>67</td>\n",
       "      <td>2</td>\n",
       "      <td>0</td>\n",
       "      <td>2.236068</td>\n",
       "    </tr>\n",
       "    <tr>\n",
       "      <th>4</th>\n",
       "      <td>0</td>\n",
       "      <td>1</td>\n",
       "      <td>1</td>\n",
       "      <td>47</td>\n",
       "      <td>2</td>\n",
       "      <td>0</td>\n",
       "      <td>1.732051</td>\n",
       "    </tr>\n",
       "    <tr>\n",
       "      <th>...</th>\n",
       "      <td>...</td>\n",
       "      <td>...</td>\n",
       "      <td>...</td>\n",
       "      <td>...</td>\n",
       "      <td>...</td>\n",
       "      <td>...</td>\n",
       "      <td>...</td>\n",
       "    </tr>\n",
       "    <tr>\n",
       "      <th>229</th>\n",
       "      <td>1</td>\n",
       "      <td>2</td>\n",
       "      <td>2</td>\n",
       "      <td>55</td>\n",
       "      <td>2</td>\n",
       "      <td>0</td>\n",
       "      <td>2.236068</td>\n",
       "    </tr>\n",
       "    <tr>\n",
       "      <th>230</th>\n",
       "      <td>1</td>\n",
       "      <td>3</td>\n",
       "      <td>2</td>\n",
       "      <td>45</td>\n",
       "      <td>2</td>\n",
       "      <td>0</td>\n",
       "      <td>2.236068</td>\n",
       "    </tr>\n",
       "    <tr>\n",
       "      <th>231</th>\n",
       "      <td>1</td>\n",
       "      <td>3</td>\n",
       "      <td>2</td>\n",
       "      <td>37</td>\n",
       "      <td>3</td>\n",
       "      <td>0</td>\n",
       "      <td>2.236068</td>\n",
       "    </tr>\n",
       "    <tr>\n",
       "      <th>232</th>\n",
       "      <td>1</td>\n",
       "      <td>3</td>\n",
       "      <td>2</td>\n",
       "      <td>58</td>\n",
       "      <td>2</td>\n",
       "      <td>0</td>\n",
       "      <td>2.449490</td>\n",
       "    </tr>\n",
       "    <tr>\n",
       "      <th>233</th>\n",
       "      <td>1</td>\n",
       "      <td>1</td>\n",
       "      <td>1</td>\n",
       "      <td>52</td>\n",
       "      <td>2</td>\n",
       "      <td>0</td>\n",
       "      <td>2.236068</td>\n",
       "    </tr>\n",
       "  </tbody>\n",
       "</table>\n",
       "<p>223 rows × 7 columns</p>\n",
       "</div>"
      ],
      "text/plain": [
       "     target  tumor size  node status of the tumor  Age of the patient  \\\n",
       "0         0           2                         1                  60   \n",
       "1         0           1                         1                  55   \n",
       "2         0           1                         1                  33   \n",
       "3         0           1                         1                  67   \n",
       "4         0           1                         1                  47   \n",
       "..      ...         ...                       ...                 ...   \n",
       "229       1           2                         2                  55   \n",
       "230       1           3                         2                  45   \n",
       "231       1           3                         2                  37   \n",
       "232       1           3                         2                  58   \n",
       "233       1           1                         1                  52   \n",
       "\n",
       "     tumor grade  Label     Score  \n",
       "0              3      0  1.414214  \n",
       "1              2      0  2.000000  \n",
       "2              3      0  2.449490  \n",
       "3              2      0  2.236068  \n",
       "4              2      0  1.732051  \n",
       "..           ...    ...       ...  \n",
       "229            2      0  2.236068  \n",
       "230            2      0  2.236068  \n",
       "231            3      0  2.236068  \n",
       "232            2      0  2.449490  \n",
       "233            2      0  2.236068  \n",
       "\n",
       "[223 rows x 7 columns]"
      ]
     },
     "execution_count": 11,
     "metadata": {},
     "output_type": "execute_result"
    }
   ],
   "source": [
    "df"
   ]
  },
  {
   "cell_type": "code",
   "execution_count": 12,
   "metadata": {},
   "outputs": [],
   "source": [
    "raw = knn_df.loc[knn_df['Label'] == 1] "
   ]
  },
  {
   "cell_type": "code",
   "execution_count": 13,
   "metadata": {},
   "outputs": [
    {
     "data": {
      "text/html": [
       "<div>\n",
       "<style scoped>\n",
       "    .dataframe tbody tr th:only-of-type {\n",
       "        vertical-align: middle;\n",
       "    }\n",
       "\n",
       "    .dataframe tbody tr th {\n",
       "        vertical-align: top;\n",
       "    }\n",
       "\n",
       "    .dataframe thead th {\n",
       "        text-align: right;\n",
       "    }\n",
       "</style>\n",
       "<table border=\"1\" class=\"dataframe\">\n",
       "  <thead>\n",
       "    <tr style=\"text-align: right;\">\n",
       "      <th></th>\n",
       "      <th>target</th>\n",
       "      <th>tumor size</th>\n",
       "      <th>node status of the tumor</th>\n",
       "      <th>Age of the patient</th>\n",
       "      <th>tumor grade</th>\n",
       "      <th>Label</th>\n",
       "      <th>Score</th>\n",
       "    </tr>\n",
       "  </thead>\n",
       "  <tbody>\n",
       "    <tr>\n",
       "      <th>7</th>\n",
       "      <td>0</td>\n",
       "      <td>1</td>\n",
       "      <td>1</td>\n",
       "      <td>26</td>\n",
       "      <td>2</td>\n",
       "      <td>1</td>\n",
       "      <td>2.828427</td>\n",
       "    </tr>\n",
       "    <tr>\n",
       "      <th>25</th>\n",
       "      <td>0</td>\n",
       "      <td>2</td>\n",
       "      <td>0</td>\n",
       "      <td>30</td>\n",
       "      <td>2</td>\n",
       "      <td>1</td>\n",
       "      <td>2.828427</td>\n",
       "    </tr>\n",
       "    <tr>\n",
       "      <th>71</th>\n",
       "      <td>0</td>\n",
       "      <td>2</td>\n",
       "      <td>0</td>\n",
       "      <td>25</td>\n",
       "      <td>3</td>\n",
       "      <td>1</td>\n",
       "      <td>3.316625</td>\n",
       "    </tr>\n",
       "    <tr>\n",
       "      <th>76</th>\n",
       "      <td>0</td>\n",
       "      <td>1</td>\n",
       "      <td>1</td>\n",
       "      <td>72</td>\n",
       "      <td>2</td>\n",
       "      <td>1</td>\n",
       "      <td>4.242641</td>\n",
       "    </tr>\n",
       "    <tr>\n",
       "      <th>117</th>\n",
       "      <td>0</td>\n",
       "      <td>2</td>\n",
       "      <td>1</td>\n",
       "      <td>29</td>\n",
       "      <td>3</td>\n",
       "      <td>1</td>\n",
       "      <td>3.000000</td>\n",
       "    </tr>\n",
       "    <tr>\n",
       "      <th>147</th>\n",
       "      <td>0</td>\n",
       "      <td>2</td>\n",
       "      <td>1</td>\n",
       "      <td>25</td>\n",
       "      <td>3</td>\n",
       "      <td>1</td>\n",
       "      <td>3.000000</td>\n",
       "    </tr>\n",
       "    <tr>\n",
       "      <th>149</th>\n",
       "      <td>0</td>\n",
       "      <td>2</td>\n",
       "      <td>1</td>\n",
       "      <td>28</td>\n",
       "      <td>3</td>\n",
       "      <td>1</td>\n",
       "      <td>2.828427</td>\n",
       "    </tr>\n",
       "    <tr>\n",
       "      <th>171</th>\n",
       "      <td>0</td>\n",
       "      <td>2</td>\n",
       "      <td>2</td>\n",
       "      <td>30</td>\n",
       "      <td>2</td>\n",
       "      <td>1</td>\n",
       "      <td>2.828427</td>\n",
       "    </tr>\n",
       "    <tr>\n",
       "      <th>174</th>\n",
       "      <td>0</td>\n",
       "      <td>3</td>\n",
       "      <td>1</td>\n",
       "      <td>70</td>\n",
       "      <td>3</td>\n",
       "      <td>1</td>\n",
       "      <td>3.162278</td>\n",
       "    </tr>\n",
       "    <tr>\n",
       "      <th>190</th>\n",
       "      <td>0</td>\n",
       "      <td>2</td>\n",
       "      <td>3</td>\n",
       "      <td>73</td>\n",
       "      <td>3</td>\n",
       "      <td>1</td>\n",
       "      <td>5.196152</td>\n",
       "    </tr>\n",
       "    <tr>\n",
       "      <th>228</th>\n",
       "      <td>1</td>\n",
       "      <td>2</td>\n",
       "      <td>2</td>\n",
       "      <td>75</td>\n",
       "      <td>3</td>\n",
       "      <td>1</td>\n",
       "      <td>7.141428</td>\n",
       "    </tr>\n",
       "  </tbody>\n",
       "</table>\n",
       "</div>"
      ],
      "text/plain": [
       "     target  tumor size  node status of the tumor  Age of the patient  \\\n",
       "7         0           1                         1                  26   \n",
       "25        0           2                         0                  30   \n",
       "71        0           2                         0                  25   \n",
       "76        0           1                         1                  72   \n",
       "117       0           2                         1                  29   \n",
       "147       0           2                         1                  25   \n",
       "149       0           2                         1                  28   \n",
       "171       0           2                         2                  30   \n",
       "174       0           3                         1                  70   \n",
       "190       0           2                         3                  73   \n",
       "228       1           2                         2                  75   \n",
       "\n",
       "     tumor grade  Label     Score  \n",
       "7              2      1  2.828427  \n",
       "25             2      1  2.828427  \n",
       "71             3      1  3.316625  \n",
       "76             2      1  4.242641  \n",
       "117            3      1  3.000000  \n",
       "147            3      1  3.000000  \n",
       "149            3      1  2.828427  \n",
       "171            2      1  2.828427  \n",
       "174            3      1  3.162278  \n",
       "190            3      1  5.196152  \n",
       "228            3      1  7.141428  "
      ]
     },
     "execution_count": 13,
     "metadata": {},
     "output_type": "execute_result"
    }
   ],
   "source": [
    "raw"
   ]
  },
  {
   "cell_type": "code",
   "execution_count": 14,
   "metadata": {},
   "outputs": [],
   "source": [
    "df = df.drop([\"Label\"],axis=1)"
   ]
  },
  {
   "cell_type": "code",
   "execution_count": 15,
   "metadata": {},
   "outputs": [
    {
     "data": {
      "text/html": [
       "<div>\n",
       "<style scoped>\n",
       "    .dataframe tbody tr th:only-of-type {\n",
       "        vertical-align: middle;\n",
       "    }\n",
       "\n",
       "    .dataframe tbody tr th {\n",
       "        vertical-align: top;\n",
       "    }\n",
       "\n",
       "    .dataframe thead th {\n",
       "        text-align: right;\n",
       "    }\n",
       "</style>\n",
       "<table border=\"1\" class=\"dataframe\">\n",
       "  <thead>\n",
       "    <tr style=\"text-align: right;\">\n",
       "      <th></th>\n",
       "      <th>target</th>\n",
       "      <th>tumor size</th>\n",
       "      <th>node status of the tumor</th>\n",
       "      <th>Age of the patient</th>\n",
       "      <th>tumor grade</th>\n",
       "      <th>Score</th>\n",
       "    </tr>\n",
       "  </thead>\n",
       "  <tbody>\n",
       "    <tr>\n",
       "      <th>0</th>\n",
       "      <td>0</td>\n",
       "      <td>2</td>\n",
       "      <td>1</td>\n",
       "      <td>60</td>\n",
       "      <td>3</td>\n",
       "      <td>1.414214</td>\n",
       "    </tr>\n",
       "    <tr>\n",
       "      <th>1</th>\n",
       "      <td>0</td>\n",
       "      <td>1</td>\n",
       "      <td>1</td>\n",
       "      <td>55</td>\n",
       "      <td>2</td>\n",
       "      <td>2.000000</td>\n",
       "    </tr>\n",
       "    <tr>\n",
       "      <th>2</th>\n",
       "      <td>0</td>\n",
       "      <td>1</td>\n",
       "      <td>1</td>\n",
       "      <td>33</td>\n",
       "      <td>3</td>\n",
       "      <td>2.449490</td>\n",
       "    </tr>\n",
       "    <tr>\n",
       "      <th>3</th>\n",
       "      <td>0</td>\n",
       "      <td>1</td>\n",
       "      <td>1</td>\n",
       "      <td>67</td>\n",
       "      <td>2</td>\n",
       "      <td>2.236068</td>\n",
       "    </tr>\n",
       "    <tr>\n",
       "      <th>4</th>\n",
       "      <td>0</td>\n",
       "      <td>1</td>\n",
       "      <td>1</td>\n",
       "      <td>47</td>\n",
       "      <td>2</td>\n",
       "      <td>1.732051</td>\n",
       "    </tr>\n",
       "    <tr>\n",
       "      <th>...</th>\n",
       "      <td>...</td>\n",
       "      <td>...</td>\n",
       "      <td>...</td>\n",
       "      <td>...</td>\n",
       "      <td>...</td>\n",
       "      <td>...</td>\n",
       "    </tr>\n",
       "    <tr>\n",
       "      <th>229</th>\n",
       "      <td>1</td>\n",
       "      <td>2</td>\n",
       "      <td>2</td>\n",
       "      <td>55</td>\n",
       "      <td>2</td>\n",
       "      <td>2.236068</td>\n",
       "    </tr>\n",
       "    <tr>\n",
       "      <th>230</th>\n",
       "      <td>1</td>\n",
       "      <td>3</td>\n",
       "      <td>2</td>\n",
       "      <td>45</td>\n",
       "      <td>2</td>\n",
       "      <td>2.236068</td>\n",
       "    </tr>\n",
       "    <tr>\n",
       "      <th>231</th>\n",
       "      <td>1</td>\n",
       "      <td>3</td>\n",
       "      <td>2</td>\n",
       "      <td>37</td>\n",
       "      <td>3</td>\n",
       "      <td>2.236068</td>\n",
       "    </tr>\n",
       "    <tr>\n",
       "      <th>232</th>\n",
       "      <td>1</td>\n",
       "      <td>3</td>\n",
       "      <td>2</td>\n",
       "      <td>58</td>\n",
       "      <td>2</td>\n",
       "      <td>2.449490</td>\n",
       "    </tr>\n",
       "    <tr>\n",
       "      <th>233</th>\n",
       "      <td>1</td>\n",
       "      <td>1</td>\n",
       "      <td>1</td>\n",
       "      <td>52</td>\n",
       "      <td>2</td>\n",
       "      <td>2.236068</td>\n",
       "    </tr>\n",
       "  </tbody>\n",
       "</table>\n",
       "<p>223 rows × 6 columns</p>\n",
       "</div>"
      ],
      "text/plain": [
       "     target  tumor size  node status of the tumor  Age of the patient  \\\n",
       "0         0           2                         1                  60   \n",
       "1         0           1                         1                  55   \n",
       "2         0           1                         1                  33   \n",
       "3         0           1                         1                  67   \n",
       "4         0           1                         1                  47   \n",
       "..      ...         ...                       ...                 ...   \n",
       "229       1           2                         2                  55   \n",
       "230       1           3                         2                  45   \n",
       "231       1           3                         2                  37   \n",
       "232       1           3                         2                  58   \n",
       "233       1           1                         1                  52   \n",
       "\n",
       "     tumor grade     Score  \n",
       "0              3  1.414214  \n",
       "1              2  2.000000  \n",
       "2              3  2.449490  \n",
       "3              2  2.236068  \n",
       "4              2  1.732051  \n",
       "..           ...       ...  \n",
       "229            2  2.236068  \n",
       "230            2  2.236068  \n",
       "231            3  2.236068  \n",
       "232            2  2.449490  \n",
       "233            2  2.236068  \n",
       "\n",
       "[223 rows x 6 columns]"
      ]
     },
     "execution_count": 15,
     "metadata": {},
     "output_type": "execute_result"
    }
   ],
   "source": [
    "df\n"
   ]
  },
  {
   "cell_type": "code",
   "execution_count": 16,
   "metadata": {},
   "outputs": [],
   "source": [
    "columns = df.columns\n"
   ]
  },
  {
   "cell_type": "code",
   "execution_count": 17,
   "metadata": {},
   "outputs": [
    {
     "data": {
      "text/plain": [
       "0    223\n",
       "1     11\n",
       "Name: Label, dtype: int64"
      ]
     },
     "execution_count": 17,
     "metadata": {},
     "output_type": "execute_result"
    },
    {
     "data": {
      "image/png": "[encoded data removed]",
      "text/plain": [
       "<Figure size 432x288 with 1 Axes>"
      ]
     },
     "metadata": {
      "needs_background": "light"
     },
     "output_type": "display_data"
    }
   ],
   "source": [
    "df['target'].value_counts().plot.bar()\n",
    "knn_df['Label'].value_counts()\n"
   ]
  },
  {
   "cell_type": "markdown",
   "metadata": {},
   "source": [
    "# Splitting Dependent and Independent coloumns"
   ]
  },
  {
   "cell_type": "code",
   "execution_count": 18,
   "metadata": {},
   "outputs": [],
   "source": [
    "from sklearn.model_selection import train_test_split"
   ]
  },
  {
   "cell_type": "code",
   "execution_count": 19,
   "metadata": {},
   "outputs": [],
   "source": [
    "X_res = df.iloc[:,1:].values\n",
    "y_res = df.iloc[:,0].values"
   ]
  },
  {
   "cell_type": "markdown",
   "metadata": {},
   "source": [
    "# Appling Data Balancing Techinque using RandomOversampler"
   ]
  },
  {
   "cell_type": "code",
   "execution_count": 20,
   "metadata": {},
   "outputs": [
    {
     "name": "stderr",
     "output_type": "stream",
     "text": [
      "Using TensorFlow backend.\n"
     ]
    }
   ],
   "source": [
    "from imblearn.over_sampling import RandomOverSampler"
   ]
  },
  {
   "cell_type": "code",
   "execution_count": 21,
   "metadata": {},
   "outputs": [],
   "source": [
    "os = RandomOverSampler()\n",
    "X_res,y_res = os.fit_sample(X_res,y_res)"
   ]
  },
  {
   "cell_type": "code",
   "execution_count": 22,
   "metadata": {},
   "outputs": [
    {
     "data": {
      "text/plain": [
       "(362, 5)"
      ]
     },
     "execution_count": 22,
     "metadata": {},
     "output_type": "execute_result"
    }
   ],
   "source": [
    "X_res.shape"
   ]
  },
  {
   "cell_type": "code",
   "execution_count": 23,
   "metadata": {},
   "outputs": [
    {
     "data": {
      "text/plain": [
       "(362,)"
      ]
     },
     "execution_count": 23,
     "metadata": {},
     "output_type": "execute_result"
    }
   ],
   "source": [
    "y_res.shape"
   ]
  },
  {
   "cell_type": "code",
   "execution_count": 24,
   "metadata": {},
   "outputs": [],
   "source": [
    "x = pd.DataFrame(X_res)\n",
    "y = pd.DataFrame(y_res)"
   ]
  },
  {
   "cell_type": "code",
   "execution_count": 25,
   "metadata": {},
   "outputs": [],
   "source": [
    "df = pd.concat([y,x],axis=1)"
   ]
  },
  {
   "cell_type": "code",
   "execution_count": 26,
   "metadata": {},
   "outputs": [
    {
     "data": {
      "text/html": [
       "<div>\n",
       "<style scoped>\n",
       "    .dataframe tbody tr th:only-of-type {\n",
       "        vertical-align: middle;\n",
       "    }\n",
       "\n",
       "    .dataframe tbody tr th {\n",
       "        vertical-align: top;\n",
       "    }\n",
       "\n",
       "    .dataframe thead th {\n",
       "        text-align: right;\n",
       "    }\n",
       "</style>\n",
       "<table border=\"1\" class=\"dataframe\">\n",
       "  <thead>\n",
       "    <tr style=\"text-align: right;\">\n",
       "      <th></th>\n",
       "      <th>0</th>\n",
       "      <th>0</th>\n",
       "      <th>1</th>\n",
       "      <th>2</th>\n",
       "      <th>3</th>\n",
       "      <th>4</th>\n",
       "    </tr>\n",
       "  </thead>\n",
       "  <tbody>\n",
       "    <tr>\n",
       "      <th>0</th>\n",
       "      <td>0</td>\n",
       "      <td>2.0</td>\n",
       "      <td>1.0</td>\n",
       "      <td>60.0</td>\n",
       "      <td>3.0</td>\n",
       "      <td>1.414214</td>\n",
       "    </tr>\n",
       "    <tr>\n",
       "      <th>1</th>\n",
       "      <td>0</td>\n",
       "      <td>1.0</td>\n",
       "      <td>1.0</td>\n",
       "      <td>55.0</td>\n",
       "      <td>2.0</td>\n",
       "      <td>2.000000</td>\n",
       "    </tr>\n",
       "    <tr>\n",
       "      <th>2</th>\n",
       "      <td>0</td>\n",
       "      <td>1.0</td>\n",
       "      <td>1.0</td>\n",
       "      <td>33.0</td>\n",
       "      <td>3.0</td>\n",
       "      <td>2.449490</td>\n",
       "    </tr>\n",
       "    <tr>\n",
       "      <th>3</th>\n",
       "      <td>0</td>\n",
       "      <td>1.0</td>\n",
       "      <td>1.0</td>\n",
       "      <td>67.0</td>\n",
       "      <td>2.0</td>\n",
       "      <td>2.236068</td>\n",
       "    </tr>\n",
       "    <tr>\n",
       "      <th>4</th>\n",
       "      <td>0</td>\n",
       "      <td>1.0</td>\n",
       "      <td>1.0</td>\n",
       "      <td>47.0</td>\n",
       "      <td>2.0</td>\n",
       "      <td>1.732051</td>\n",
       "    </tr>\n",
       "    <tr>\n",
       "      <th>...</th>\n",
       "      <td>...</td>\n",
       "      <td>...</td>\n",
       "      <td>...</td>\n",
       "      <td>...</td>\n",
       "      <td>...</td>\n",
       "      <td>...</td>\n",
       "    </tr>\n",
       "    <tr>\n",
       "      <th>357</th>\n",
       "      <td>1</td>\n",
       "      <td>2.0</td>\n",
       "      <td>0.0</td>\n",
       "      <td>68.0</td>\n",
       "      <td>3.0</td>\n",
       "      <td>2.449490</td>\n",
       "    </tr>\n",
       "    <tr>\n",
       "      <th>358</th>\n",
       "      <td>1</td>\n",
       "      <td>2.0</td>\n",
       "      <td>1.0</td>\n",
       "      <td>60.0</td>\n",
       "      <td>3.0</td>\n",
       "      <td>2.000000</td>\n",
       "    </tr>\n",
       "    <tr>\n",
       "      <th>359</th>\n",
       "      <td>1</td>\n",
       "      <td>2.0</td>\n",
       "      <td>1.0</td>\n",
       "      <td>45.0</td>\n",
       "      <td>2.0</td>\n",
       "      <td>1.732051</td>\n",
       "    </tr>\n",
       "    <tr>\n",
       "      <th>360</th>\n",
       "      <td>1</td>\n",
       "      <td>2.0</td>\n",
       "      <td>1.0</td>\n",
       "      <td>66.0</td>\n",
       "      <td>3.0</td>\n",
       "      <td>2.236068</td>\n",
       "    </tr>\n",
       "    <tr>\n",
       "      <th>361</th>\n",
       "      <td>1</td>\n",
       "      <td>2.0</td>\n",
       "      <td>0.0</td>\n",
       "      <td>53.0</td>\n",
       "      <td>3.0</td>\n",
       "      <td>2.000000</td>\n",
       "    </tr>\n",
       "  </tbody>\n",
       "</table>\n",
       "<p>362 rows × 6 columns</p>\n",
       "</div>"
      ],
      "text/plain": [
       "     0    0    1     2    3         4\n",
       "0    0  2.0  1.0  60.0  3.0  1.414214\n",
       "1    0  1.0  1.0  55.0  2.0  2.000000\n",
       "2    0  1.0  1.0  33.0  3.0  2.449490\n",
       "3    0  1.0  1.0  67.0  2.0  2.236068\n",
       "4    0  1.0  1.0  47.0  2.0  1.732051\n",
       "..  ..  ...  ...   ...  ...       ...\n",
       "357  1  2.0  0.0  68.0  3.0  2.449490\n",
       "358  1  2.0  1.0  60.0  3.0  2.000000\n",
       "359  1  2.0  1.0  45.0  2.0  1.732051\n",
       "360  1  2.0  1.0  66.0  3.0  2.236068\n",
       "361  1  2.0  0.0  53.0  3.0  2.000000\n",
       "\n",
       "[362 rows x 6 columns]"
      ]
     },
     "execution_count": 26,
     "metadata": {},
     "output_type": "execute_result"
    }
   ],
   "source": [
    "df"
   ]
  },
  {
   "cell_type": "code",
   "execution_count": 27,
   "metadata": {},
   "outputs": [],
   "source": [
    "df.columns = columns"
   ]
  },
  {
   "cell_type": "code",
   "execution_count": 28,
   "metadata": {},
   "outputs": [
    {
     "data": {
      "text/html": [
       "<div>\n",
       "<style scoped>\n",
       "    .dataframe tbody tr th:only-of-type {\n",
       "        vertical-align: middle;\n",
       "    }\n",
       "\n",
       "    .dataframe tbody tr th {\n",
       "        vertical-align: top;\n",
       "    }\n",
       "\n",
       "    .dataframe thead th {\n",
       "        text-align: right;\n",
       "    }\n",
       "</style>\n",
       "<table border=\"1\" class=\"dataframe\">\n",
       "  <thead>\n",
       "    <tr style=\"text-align: right;\">\n",
       "      <th></th>\n",
       "      <th>target</th>\n",
       "      <th>tumor size</th>\n",
       "      <th>node status of the tumor</th>\n",
       "      <th>Age of the patient</th>\n",
       "      <th>tumor grade</th>\n",
       "      <th>Score</th>\n",
       "    </tr>\n",
       "  </thead>\n",
       "  <tbody>\n",
       "    <tr>\n",
       "      <th>0</th>\n",
       "      <td>0</td>\n",
       "      <td>2.0</td>\n",
       "      <td>1.0</td>\n",
       "      <td>60.0</td>\n",
       "      <td>3.0</td>\n",
       "      <td>1.414214</td>\n",
       "    </tr>\n",
       "    <tr>\n",
       "      <th>1</th>\n",
       "      <td>0</td>\n",
       "      <td>1.0</td>\n",
       "      <td>1.0</td>\n",
       "      <td>55.0</td>\n",
       "      <td>2.0</td>\n",
       "      <td>2.000000</td>\n",
       "    </tr>\n",
       "    <tr>\n",
       "      <th>2</th>\n",
       "      <td>0</td>\n",
       "      <td>1.0</td>\n",
       "      <td>1.0</td>\n",
       "      <td>33.0</td>\n",
       "      <td>3.0</td>\n",
       "      <td>2.449490</td>\n",
       "    </tr>\n",
       "    <tr>\n",
       "      <th>3</th>\n",
       "      <td>0</td>\n",
       "      <td>1.0</td>\n",
       "      <td>1.0</td>\n",
       "      <td>67.0</td>\n",
       "      <td>2.0</td>\n",
       "      <td>2.236068</td>\n",
       "    </tr>\n",
       "    <tr>\n",
       "      <th>4</th>\n",
       "      <td>0</td>\n",
       "      <td>1.0</td>\n",
       "      <td>1.0</td>\n",
       "      <td>47.0</td>\n",
       "      <td>2.0</td>\n",
       "      <td>1.732051</td>\n",
       "    </tr>\n",
       "    <tr>\n",
       "      <th>...</th>\n",
       "      <td>...</td>\n",
       "      <td>...</td>\n",
       "      <td>...</td>\n",
       "      <td>...</td>\n",
       "      <td>...</td>\n",
       "      <td>...</td>\n",
       "    </tr>\n",
       "    <tr>\n",
       "      <th>357</th>\n",
       "      <td>1</td>\n",
       "      <td>2.0</td>\n",
       "      <td>0.0</td>\n",
       "      <td>68.0</td>\n",
       "      <td>3.0</td>\n",
       "      <td>2.449490</td>\n",
       "    </tr>\n",
       "    <tr>\n",
       "      <th>358</th>\n",
       "      <td>1</td>\n",
       "      <td>2.0</td>\n",
       "      <td>1.0</td>\n",
       "      <td>60.0</td>\n",
       "      <td>3.0</td>\n",
       "      <td>2.000000</td>\n",
       "    </tr>\n",
       "    <tr>\n",
       "      <th>359</th>\n",
       "      <td>1</td>\n",
       "      <td>2.0</td>\n",
       "      <td>1.0</td>\n",
       "      <td>45.0</td>\n",
       "      <td>2.0</td>\n",
       "      <td>1.732051</td>\n",
       "    </tr>\n",
       "    <tr>\n",
       "      <th>360</th>\n",
       "      <td>1</td>\n",
       "      <td>2.0</td>\n",
       "      <td>1.0</td>\n",
       "      <td>66.0</td>\n",
       "      <td>3.0</td>\n",
       "      <td>2.236068</td>\n",
       "    </tr>\n",
       "    <tr>\n",
       "      <th>361</th>\n",
       "      <td>1</td>\n",
       "      <td>2.0</td>\n",
       "      <td>0.0</td>\n",
       "      <td>53.0</td>\n",
       "      <td>3.0</td>\n",
       "      <td>2.000000</td>\n",
       "    </tr>\n",
       "  </tbody>\n",
       "</table>\n",
       "<p>362 rows × 6 columns</p>\n",
       "</div>"
      ],
      "text/plain": [
       "     target  tumor size  node status of the tumor  Age of the patient  \\\n",
       "0         0         2.0                       1.0                60.0   \n",
       "1         0         1.0                       1.0                55.0   \n",
       "2         0         1.0                       1.0                33.0   \n",
       "3         0         1.0                       1.0                67.0   \n",
       "4         0         1.0                       1.0                47.0   \n",
       "..      ...         ...                       ...                 ...   \n",
       "357       1         2.0                       0.0                68.0   \n",
       "358       1         2.0                       1.0                60.0   \n",
       "359       1         2.0                       1.0                45.0   \n",
       "360       1         2.0                       1.0                66.0   \n",
       "361       1         2.0                       0.0                53.0   \n",
       "\n",
       "     tumor grade     Score  \n",
       "0            3.0  1.414214  \n",
       "1            2.0  2.000000  \n",
       "2            3.0  2.449490  \n",
       "3            2.0  2.236068  \n",
       "4            2.0  1.732051  \n",
       "..           ...       ...  \n",
       "357          3.0  2.449490  \n",
       "358          3.0  2.000000  \n",
       "359          2.0  1.732051  \n",
       "360          3.0  2.236068  \n",
       "361          3.0  2.000000  \n",
       "\n",
       "[362 rows x 6 columns]"
      ]
     },
     "execution_count": 28,
     "metadata": {},
     "output_type": "execute_result"
    }
   ],
   "source": [
    "df"
   ]
  },
  {
   "cell_type": "markdown",
   "metadata": {},
   "source": [
    "# Compare Models Using pycaret"
   ]
  },
  {
   "cell_type": "code",
   "execution_count": 29,
   "metadata": {},
   "outputs": [
    {
     "data": {
      "text/html": [
       "<style  type=\"text/css\" >\n",
       "    #T_78cffaf6_9823_11ea_ac44_13eae6a9e58c th {\n",
       "          text-align: left;\n",
       "    }    #T_78cffaf6_9823_11ea_ac44_13eae6a9e58crow0_col0 {\n",
       "            text-align:  left;\n",
       "        }    #T_78cffaf6_9823_11ea_ac44_13eae6a9e58crow0_col1 {\n",
       "            background-color:  yellow;\n",
       "            text-align:  left;\n",
       "        }    #T_78cffaf6_9823_11ea_ac44_13eae6a9e58crow0_col2 {\n",
       "            : ;\n",
       "            text-align:  left;\n",
       "        }    #T_78cffaf6_9823_11ea_ac44_13eae6a9e58crow0_col3 {\n",
       "            : ;\n",
       "            text-align:  left;\n",
       "        }    #T_78cffaf6_9823_11ea_ac44_13eae6a9e58crow0_col4 {\n",
       "            background-color:  yellow;\n",
       "            text-align:  left;\n",
       "        }    #T_78cffaf6_9823_11ea_ac44_13eae6a9e58crow0_col5 {\n",
       "            background-color:  yellow;\n",
       "            text-align:  left;\n",
       "        }    #T_78cffaf6_9823_11ea_ac44_13eae6a9e58crow0_col6 {\n",
       "            background-color:  yellow;\n",
       "            text-align:  left;\n",
       "        }    #T_78cffaf6_9823_11ea_ac44_13eae6a9e58crow1_col0 {\n",
       "            text-align:  left;\n",
       "        }    #T_78cffaf6_9823_11ea_ac44_13eae6a9e58crow1_col1 {\n",
       "            : ;\n",
       "            text-align:  left;\n",
       "        }    #T_78cffaf6_9823_11ea_ac44_13eae6a9e58crow1_col2 {\n",
       "            : ;\n",
       "            text-align:  left;\n",
       "        }    #T_78cffaf6_9823_11ea_ac44_13eae6a9e58crow1_col3 {\n",
       "            background-color:  yellow;\n",
       "            text-align:  left;\n",
       "        }    #T_78cffaf6_9823_11ea_ac44_13eae6a9e58crow1_col4 {\n",
       "            : ;\n",
       "            text-align:  left;\n",
       "        }    #T_78cffaf6_9823_11ea_ac44_13eae6a9e58crow1_col5 {\n",
       "            : ;\n",
       "            text-align:  left;\n",
       "        }    #T_78cffaf6_9823_11ea_ac44_13eae6a9e58crow1_col6 {\n",
       "            : ;\n",
       "            text-align:  left;\n",
       "        }    #T_78cffaf6_9823_11ea_ac44_13eae6a9e58crow2_col0 {\n",
       "            text-align:  left;\n",
       "        }    #T_78cffaf6_9823_11ea_ac44_13eae6a9e58crow2_col1 {\n",
       "            : ;\n",
       "            text-align:  left;\n",
       "        }    #T_78cffaf6_9823_11ea_ac44_13eae6a9e58crow2_col2 {\n",
       "            background-color:  yellow;\n",
       "            text-align:  left;\n",
       "        }    #T_78cffaf6_9823_11ea_ac44_13eae6a9e58crow2_col3 {\n",
       "            : ;\n",
       "            text-align:  left;\n",
       "        }    #T_78cffaf6_9823_11ea_ac44_13eae6a9e58crow2_col4 {\n",
       "            : ;\n",
       "            text-align:  left;\n",
       "        }    #T_78cffaf6_9823_11ea_ac44_13eae6a9e58crow2_col5 {\n",
       "            : ;\n",
       "            text-align:  left;\n",
       "        }    #T_78cffaf6_9823_11ea_ac44_13eae6a9e58crow2_col6 {\n",
       "            : ;\n",
       "            text-align:  left;\n",
       "        }    #T_78cffaf6_9823_11ea_ac44_13eae6a9e58crow3_col0 {\n",
       "            text-align:  left;\n",
       "        }    #T_78cffaf6_9823_11ea_ac44_13eae6a9e58crow3_col1 {\n",
       "            : ;\n",
       "            text-align:  left;\n",
       "        }    #T_78cffaf6_9823_11ea_ac44_13eae6a9e58crow3_col2 {\n",
       "            : ;\n",
       "            text-align:  left;\n",
       "        }    #T_78cffaf6_9823_11ea_ac44_13eae6a9e58crow3_col3 {\n",
       "            : ;\n",
       "            text-align:  left;\n",
       "        }    #T_78cffaf6_9823_11ea_ac44_13eae6a9e58crow3_col4 {\n",
       "            : ;\n",
       "            text-align:  left;\n",
       "        }    #T_78cffaf6_9823_11ea_ac44_13eae6a9e58crow3_col5 {\n",
       "            : ;\n",
       "            text-align:  left;\n",
       "        }    #T_78cffaf6_9823_11ea_ac44_13eae6a9e58crow3_col6 {\n",
       "            : ;\n",
       "            text-align:  left;\n",
       "        }    #T_78cffaf6_9823_11ea_ac44_13eae6a9e58crow4_col0 {\n",
       "            text-align:  left;\n",
       "        }    #T_78cffaf6_9823_11ea_ac44_13eae6a9e58crow4_col1 {\n",
       "            : ;\n",
       "            text-align:  left;\n",
       "        }    #T_78cffaf6_9823_11ea_ac44_13eae6a9e58crow4_col2 {\n",
       "            : ;\n",
       "            text-align:  left;\n",
       "        }    #T_78cffaf6_9823_11ea_ac44_13eae6a9e58crow4_col3 {\n",
       "            : ;\n",
       "            text-align:  left;\n",
       "        }    #T_78cffaf6_9823_11ea_ac44_13eae6a9e58crow4_col4 {\n",
       "            : ;\n",
       "            text-align:  left;\n",
       "        }    #T_78cffaf6_9823_11ea_ac44_13eae6a9e58crow4_col5 {\n",
       "            : ;\n",
       "            text-align:  left;\n",
       "        }    #T_78cffaf6_9823_11ea_ac44_13eae6a9e58crow4_col6 {\n",
       "            : ;\n",
       "            text-align:  left;\n",
       "        }    #T_78cffaf6_9823_11ea_ac44_13eae6a9e58crow5_col0 {\n",
       "            text-align:  left;\n",
       "        }    #T_78cffaf6_9823_11ea_ac44_13eae6a9e58crow5_col1 {\n",
       "            : ;\n",
       "            text-align:  left;\n",
       "        }    #T_78cffaf6_9823_11ea_ac44_13eae6a9e58crow5_col2 {\n",
       "            : ;\n",
       "            text-align:  left;\n",
       "        }    #T_78cffaf6_9823_11ea_ac44_13eae6a9e58crow5_col3 {\n",
       "            : ;\n",
       "            text-align:  left;\n",
       "        }    #T_78cffaf6_9823_11ea_ac44_13eae6a9e58crow5_col4 {\n",
       "            : ;\n",
       "            text-align:  left;\n",
       "        }    #T_78cffaf6_9823_11ea_ac44_13eae6a9e58crow5_col5 {\n",
       "            : ;\n",
       "            text-align:  left;\n",
       "        }    #T_78cffaf6_9823_11ea_ac44_13eae6a9e58crow5_col6 {\n",
       "            : ;\n",
       "            text-align:  left;\n",
       "        }    #T_78cffaf6_9823_11ea_ac44_13eae6a9e58crow6_col0 {\n",
       "            text-align:  left;\n",
       "        }    #T_78cffaf6_9823_11ea_ac44_13eae6a9e58crow6_col1 {\n",
       "            : ;\n",
       "            text-align:  left;\n",
       "        }    #T_78cffaf6_9823_11ea_ac44_13eae6a9e58crow6_col2 {\n",
       "            : ;\n",
       "            text-align:  left;\n",
       "        }    #T_78cffaf6_9823_11ea_ac44_13eae6a9e58crow6_col3 {\n",
       "            : ;\n",
       "            text-align:  left;\n",
       "        }    #T_78cffaf6_9823_11ea_ac44_13eae6a9e58crow6_col4 {\n",
       "            : ;\n",
       "            text-align:  left;\n",
       "        }    #T_78cffaf6_9823_11ea_ac44_13eae6a9e58crow6_col5 {\n",
       "            : ;\n",
       "            text-align:  left;\n",
       "        }    #T_78cffaf6_9823_11ea_ac44_13eae6a9e58crow6_col6 {\n",
       "            : ;\n",
       "            text-align:  left;\n",
       "        }    #T_78cffaf6_9823_11ea_ac44_13eae6a9e58crow7_col0 {\n",
       "            text-align:  left;\n",
       "        }    #T_78cffaf6_9823_11ea_ac44_13eae6a9e58crow7_col1 {\n",
       "            : ;\n",
       "            text-align:  left;\n",
       "        }    #T_78cffaf6_9823_11ea_ac44_13eae6a9e58crow7_col2 {\n",
       "            : ;\n",
       "            text-align:  left;\n",
       "        }    #T_78cffaf6_9823_11ea_ac44_13eae6a9e58crow7_col3 {\n",
       "            : ;\n",
       "            text-align:  left;\n",
       "        }    #T_78cffaf6_9823_11ea_ac44_13eae6a9e58crow7_col4 {\n",
       "            : ;\n",
       "            text-align:  left;\n",
       "        }    #T_78cffaf6_9823_11ea_ac44_13eae6a9e58crow7_col5 {\n",
       "            : ;\n",
       "            text-align:  left;\n",
       "        }    #T_78cffaf6_9823_11ea_ac44_13eae6a9e58crow7_col6 {\n",
       "            : ;\n",
       "            text-align:  left;\n",
       "        }    #T_78cffaf6_9823_11ea_ac44_13eae6a9e58crow8_col0 {\n",
       "            text-align:  left;\n",
       "        }    #T_78cffaf6_9823_11ea_ac44_13eae6a9e58crow8_col1 {\n",
       "            : ;\n",
       "            text-align:  left;\n",
       "        }    #T_78cffaf6_9823_11ea_ac44_13eae6a9e58crow8_col2 {\n",
       "            : ;\n",
       "            text-align:  left;\n",
       "        }    #T_78cffaf6_9823_11ea_ac44_13eae6a9e58crow8_col3 {\n",
       "            : ;\n",
       "            text-align:  left;\n",
       "        }    #T_78cffaf6_9823_11ea_ac44_13eae6a9e58crow8_col4 {\n",
       "            : ;\n",
       "            text-align:  left;\n",
       "        }    #T_78cffaf6_9823_11ea_ac44_13eae6a9e58crow8_col5 {\n",
       "            : ;\n",
       "            text-align:  left;\n",
       "        }    #T_78cffaf6_9823_11ea_ac44_13eae6a9e58crow8_col6 {\n",
       "            : ;\n",
       "            text-align:  left;\n",
       "        }    #T_78cffaf6_9823_11ea_ac44_13eae6a9e58crow9_col0 {\n",
       "            text-align:  left;\n",
       "        }    #T_78cffaf6_9823_11ea_ac44_13eae6a9e58crow9_col1 {\n",
       "            : ;\n",
       "            text-align:  left;\n",
       "        }    #T_78cffaf6_9823_11ea_ac44_13eae6a9e58crow9_col2 {\n",
       "            : ;\n",
       "            text-align:  left;\n",
       "        }    #T_78cffaf6_9823_11ea_ac44_13eae6a9e58crow9_col3 {\n",
       "            : ;\n",
       "            text-align:  left;\n",
       "        }    #T_78cffaf6_9823_11ea_ac44_13eae6a9e58crow9_col4 {\n",
       "            : ;\n",
       "            text-align:  left;\n",
       "        }    #T_78cffaf6_9823_11ea_ac44_13eae6a9e58crow9_col5 {\n",
       "            : ;\n",
       "            text-align:  left;\n",
       "        }    #T_78cffaf6_9823_11ea_ac44_13eae6a9e58crow9_col6 {\n",
       "            : ;\n",
       "            text-align:  left;\n",
       "        }    #T_78cffaf6_9823_11ea_ac44_13eae6a9e58crow10_col0 {\n",
       "            text-align:  left;\n",
       "        }    #T_78cffaf6_9823_11ea_ac44_13eae6a9e58crow10_col1 {\n",
       "            : ;\n",
       "            text-align:  left;\n",
       "        }    #T_78cffaf6_9823_11ea_ac44_13eae6a9e58crow10_col2 {\n",
       "            : ;\n",
       "            text-align:  left;\n",
       "        }    #T_78cffaf6_9823_11ea_ac44_13eae6a9e58crow10_col3 {\n",
       "            : ;\n",
       "            text-align:  left;\n",
       "        }    #T_78cffaf6_9823_11ea_ac44_13eae6a9e58crow10_col4 {\n",
       "            : ;\n",
       "            text-align:  left;\n",
       "        }    #T_78cffaf6_9823_11ea_ac44_13eae6a9e58crow10_col5 {\n",
       "            : ;\n",
       "            text-align:  left;\n",
       "        }    #T_78cffaf6_9823_11ea_ac44_13eae6a9e58crow10_col6 {\n",
       "            : ;\n",
       "            text-align:  left;\n",
       "        }    #T_78cffaf6_9823_11ea_ac44_13eae6a9e58crow11_col0 {\n",
       "            text-align:  left;\n",
       "        }    #T_78cffaf6_9823_11ea_ac44_13eae6a9e58crow11_col1 {\n",
       "            : ;\n",
       "            text-align:  left;\n",
       "        }    #T_78cffaf6_9823_11ea_ac44_13eae6a9e58crow11_col2 {\n",
       "            : ;\n",
       "            text-align:  left;\n",
       "        }    #T_78cffaf6_9823_11ea_ac44_13eae6a9e58crow11_col3 {\n",
       "            : ;\n",
       "            text-align:  left;\n",
       "        }    #T_78cffaf6_9823_11ea_ac44_13eae6a9e58crow11_col4 {\n",
       "            : ;\n",
       "            text-align:  left;\n",
       "        }    #T_78cffaf6_9823_11ea_ac44_13eae6a9e58crow11_col5 {\n",
       "            : ;\n",
       "            text-align:  left;\n",
       "        }    #T_78cffaf6_9823_11ea_ac44_13eae6a9e58crow11_col6 {\n",
       "            : ;\n",
       "            text-align:  left;\n",
       "        }    #T_78cffaf6_9823_11ea_ac44_13eae6a9e58crow12_col0 {\n",
       "            text-align:  left;\n",
       "        }    #T_78cffaf6_9823_11ea_ac44_13eae6a9e58crow12_col1 {\n",
       "            : ;\n",
       "            text-align:  left;\n",
       "        }    #T_78cffaf6_9823_11ea_ac44_13eae6a9e58crow12_col2 {\n",
       "            : ;\n",
       "            text-align:  left;\n",
       "        }    #T_78cffaf6_9823_11ea_ac44_13eae6a9e58crow12_col3 {\n",
       "            : ;\n",
       "            text-align:  left;\n",
       "        }    #T_78cffaf6_9823_11ea_ac44_13eae6a9e58crow12_col4 {\n",
       "            : ;\n",
       "            text-align:  left;\n",
       "        }    #T_78cffaf6_9823_11ea_ac44_13eae6a9e58crow12_col5 {\n",
       "            : ;\n",
       "            text-align:  left;\n",
       "        }    #T_78cffaf6_9823_11ea_ac44_13eae6a9e58crow12_col6 {\n",
       "            : ;\n",
       "            text-align:  left;\n",
       "        }    #T_78cffaf6_9823_11ea_ac44_13eae6a9e58crow13_col0 {\n",
       "            text-align:  left;\n",
       "        }    #T_78cffaf6_9823_11ea_ac44_13eae6a9e58crow13_col1 {\n",
       "            : ;\n",
       "            text-align:  left;\n",
       "        }    #T_78cffaf6_9823_11ea_ac44_13eae6a9e58crow13_col2 {\n",
       "            : ;\n",
       "            text-align:  left;\n",
       "        }    #T_78cffaf6_9823_11ea_ac44_13eae6a9e58crow13_col3 {\n",
       "            : ;\n",
       "            text-align:  left;\n",
       "        }    #T_78cffaf6_9823_11ea_ac44_13eae6a9e58crow13_col4 {\n",
       "            : ;\n",
       "            text-align:  left;\n",
       "        }    #T_78cffaf6_9823_11ea_ac44_13eae6a9e58crow13_col5 {\n",
       "            : ;\n",
       "            text-align:  left;\n",
       "        }    #T_78cffaf6_9823_11ea_ac44_13eae6a9e58crow13_col6 {\n",
       "            : ;\n",
       "            text-align:  left;\n",
       "        }    #T_78cffaf6_9823_11ea_ac44_13eae6a9e58crow14_col0 {\n",
       "            text-align:  left;\n",
       "        }    #T_78cffaf6_9823_11ea_ac44_13eae6a9e58crow14_col1 {\n",
       "            : ;\n",
       "            text-align:  left;\n",
       "        }    #T_78cffaf6_9823_11ea_ac44_13eae6a9e58crow14_col2 {\n",
       "            : ;\n",
       "            text-align:  left;\n",
       "        }    #T_78cffaf6_9823_11ea_ac44_13eae6a9e58crow14_col3 {\n",
       "            : ;\n",
       "            text-align:  left;\n",
       "        }    #T_78cffaf6_9823_11ea_ac44_13eae6a9e58crow14_col4 {\n",
       "            : ;\n",
       "            text-align:  left;\n",
       "        }    #T_78cffaf6_9823_11ea_ac44_13eae6a9e58crow14_col5 {\n",
       "            : ;\n",
       "            text-align:  left;\n",
       "        }    #T_78cffaf6_9823_11ea_ac44_13eae6a9e58crow14_col6 {\n",
       "            : ;\n",
       "            text-align:  left;\n",
       "        }</style><table id=\"T_78cffaf6_9823_11ea_ac44_13eae6a9e58c\" ><thead>    <tr>        <th class=\"blank level0\" ></th>        <th class=\"col_heading level0 col0\" >Model</th>        <th class=\"col_heading level0 col1\" >Accuracy</th>        <th class=\"col_heading level0 col2\" >AUC</th>        <th class=\"col_heading level0 col3\" >Recall</th>        <th class=\"col_heading level0 col4\" >Prec.</th>        <th class=\"col_heading level0 col5\" >F1</th>        <th class=\"col_heading level0 col6\" >Kappa</th>    </tr></thead><tbody>\n",
       "                <tr>\n",
       "                        <th id=\"T_78cffaf6_9823_11ea_ac44_13eae6a9e58clevel0_row0\" class=\"row_heading level0 row0\" >0</th>\n",
       "                        <td id=\"T_78cffaf6_9823_11ea_ac44_13eae6a9e58crow0_col0\" class=\"data row0 col0\" >Random Forest Classifier</td>\n",
       "                        <td id=\"T_78cffaf6_9823_11ea_ac44_13eae6a9e58crow0_col1\" class=\"data row0 col1\" >0.9248</td>\n",
       "                        <td id=\"T_78cffaf6_9823_11ea_ac44_13eae6a9e58crow0_col2\" class=\"data row0 col2\" >0.9639</td>\n",
       "                        <td id=\"T_78cffaf6_9823_11ea_ac44_13eae6a9e58crow0_col3\" class=\"data row0 col3\" >0.9526</td>\n",
       "                        <td id=\"T_78cffaf6_9823_11ea_ac44_13eae6a9e58crow0_col4\" class=\"data row0 col4\" >0.906</td>\n",
       "                        <td id=\"T_78cffaf6_9823_11ea_ac44_13eae6a9e58crow0_col5\" class=\"data row0 col5\" >0.9277</td>\n",
       "                        <td id=\"T_78cffaf6_9823_11ea_ac44_13eae6a9e58crow0_col6\" class=\"data row0 col6\" >0.8493</td>\n",
       "            </tr>\n",
       "            <tr>\n",
       "                        <th id=\"T_78cffaf6_9823_11ea_ac44_13eae6a9e58clevel0_row1\" class=\"row_heading level0 row1\" >1</th>\n",
       "                        <td id=\"T_78cffaf6_9823_11ea_ac44_13eae6a9e58crow1_col0\" class=\"data row1 col0\" >Decision Tree Classifier</td>\n",
       "                        <td id=\"T_78cffaf6_9823_11ea_ac44_13eae6a9e58crow1_col1\" class=\"data row1 col1\" >0.9131</td>\n",
       "                        <td id=\"T_78cffaf6_9823_11ea_ac44_13eae6a9e58crow1_col2\" class=\"data row1 col2\" >0.9157</td>\n",
       "                        <td id=\"T_78cffaf6_9823_11ea_ac44_13eae6a9e58crow1_col3\" class=\"data row1 col3\" >0.9756</td>\n",
       "                        <td id=\"T_78cffaf6_9823_11ea_ac44_13eae6a9e58crow1_col4\" class=\"data row1 col4\" >0.8689</td>\n",
       "                        <td id=\"T_78cffaf6_9823_11ea_ac44_13eae6a9e58crow1_col5\" class=\"data row1 col5\" >0.918</td>\n",
       "                        <td id=\"T_78cffaf6_9823_11ea_ac44_13eae6a9e58crow1_col6\" class=\"data row1 col6\" >0.8262</td>\n",
       "            </tr>\n",
       "            <tr>\n",
       "                        <th id=\"T_78cffaf6_9823_11ea_ac44_13eae6a9e58clevel0_row2\" class=\"row_heading level0 row2\" >2</th>\n",
       "                        <td id=\"T_78cffaf6_9823_11ea_ac44_13eae6a9e58crow2_col0\" class=\"data row2 col0\" >Extra Trees Classifier</td>\n",
       "                        <td id=\"T_78cffaf6_9823_11ea_ac44_13eae6a9e58crow2_col1\" class=\"data row2 col1\" >0.9126</td>\n",
       "                        <td id=\"T_78cffaf6_9823_11ea_ac44_13eae6a9e58crow2_col2\" class=\"data row2 col2\" >0.9842</td>\n",
       "                        <td id=\"T_78cffaf6_9823_11ea_ac44_13eae6a9e58crow2_col3\" class=\"data row2 col3\" >0.9603</td>\n",
       "                        <td id=\"T_78cffaf6_9823_11ea_ac44_13eae6a9e58crow2_col4\" class=\"data row2 col4\" >0.8795</td>\n",
       "                        <td id=\"T_78cffaf6_9823_11ea_ac44_13eae6a9e58crow2_col5\" class=\"data row2 col5\" >0.9169</td>\n",
       "                        <td id=\"T_78cffaf6_9823_11ea_ac44_13eae6a9e58crow2_col6\" class=\"data row2 col6\" >0.8251</td>\n",
       "            </tr>\n",
       "            <tr>\n",
       "                        <th id=\"T_78cffaf6_9823_11ea_ac44_13eae6a9e58clevel0_row3\" class=\"row_heading level0 row3\" >3</th>\n",
       "                        <td id=\"T_78cffaf6_9823_11ea_ac44_13eae6a9e58crow3_col0\" class=\"data row3 col0\" >Gradient Boosting Classifier</td>\n",
       "                        <td id=\"T_78cffaf6_9823_11ea_ac44_13eae6a9e58crow3_col1\" class=\"data row3 col1\" >0.9089</td>\n",
       "                        <td id=\"T_78cffaf6_9823_11ea_ac44_13eae6a9e58crow3_col2\" class=\"data row3 col2\" >0.9444</td>\n",
       "                        <td id=\"T_78cffaf6_9823_11ea_ac44_13eae6a9e58crow3_col3\" class=\"data row3 col3\" >0.9679</td>\n",
       "                        <td id=\"T_78cffaf6_9823_11ea_ac44_13eae6a9e58crow3_col4\" class=\"data row3 col4\" >0.8685</td>\n",
       "                        <td id=\"T_78cffaf6_9823_11ea_ac44_13eae6a9e58crow3_col5\" class=\"data row3 col5\" >0.9136</td>\n",
       "                        <td id=\"T_78cffaf6_9823_11ea_ac44_13eae6a9e58crow3_col6\" class=\"data row3 col6\" >0.8179</td>\n",
       "            </tr>\n",
       "            <tr>\n",
       "                        <th id=\"T_78cffaf6_9823_11ea_ac44_13eae6a9e58clevel0_row4\" class=\"row_heading level0 row4\" >4</th>\n",
       "                        <td id=\"T_78cffaf6_9823_11ea_ac44_13eae6a9e58crow4_col0\" class=\"data row4 col0\" >CatBoost Classifier</td>\n",
       "                        <td id=\"T_78cffaf6_9823_11ea_ac44_13eae6a9e58crow4_col1\" class=\"data row4 col1\" >0.9052</td>\n",
       "                        <td id=\"T_78cffaf6_9823_11ea_ac44_13eae6a9e58crow4_col2\" class=\"data row4 col2\" >0.9617</td>\n",
       "                        <td id=\"T_78cffaf6_9823_11ea_ac44_13eae6a9e58crow4_col3\" class=\"data row4 col3\" >0.9679</td>\n",
       "                        <td id=\"T_78cffaf6_9823_11ea_ac44_13eae6a9e58crow4_col4\" class=\"data row4 col4\" >0.8623</td>\n",
       "                        <td id=\"T_78cffaf6_9823_11ea_ac44_13eae6a9e58crow4_col5\" class=\"data row4 col5\" >0.9109</td>\n",
       "                        <td id=\"T_78cffaf6_9823_11ea_ac44_13eae6a9e58crow4_col6\" class=\"data row4 col6\" >0.8105</td>\n",
       "            </tr>\n",
       "            <tr>\n",
       "                        <th id=\"T_78cffaf6_9823_11ea_ac44_13eae6a9e58clevel0_row5\" class=\"row_heading level0 row5\" >5</th>\n",
       "                        <td id=\"T_78cffaf6_9823_11ea_ac44_13eae6a9e58crow5_col0\" class=\"data row5 col0\" >Light Gradient Boosting Machine</td>\n",
       "                        <td id=\"T_78cffaf6_9823_11ea_ac44_13eae6a9e58crow5_col1\" class=\"data row5 col1\" >0.8777</td>\n",
       "                        <td id=\"T_78cffaf6_9823_11ea_ac44_13eae6a9e58crow5_col2\" class=\"data row5 col2\" >0.9212</td>\n",
       "                        <td id=\"T_78cffaf6_9823_11ea_ac44_13eae6a9e58crow5_col3\" class=\"data row5 col3\" >0.9519</td>\n",
       "                        <td id=\"T_78cffaf6_9823_11ea_ac44_13eae6a9e58crow5_col4\" class=\"data row5 col4\" >0.8285</td>\n",
       "                        <td id=\"T_78cffaf6_9823_11ea_ac44_13eae6a9e58crow5_col5\" class=\"data row5 col5\" >0.8855</td>\n",
       "                        <td id=\"T_78cffaf6_9823_11ea_ac44_13eae6a9e58crow5_col6\" class=\"data row5 col6\" >0.7554</td>\n",
       "            </tr>\n",
       "            <tr>\n",
       "                        <th id=\"T_78cffaf6_9823_11ea_ac44_13eae6a9e58clevel0_row6\" class=\"row_heading level0 row6\" >6</th>\n",
       "                        <td id=\"T_78cffaf6_9823_11ea_ac44_13eae6a9e58crow6_col0\" class=\"data row6 col0\" >Ada Boost Classifier</td>\n",
       "                        <td id=\"T_78cffaf6_9823_11ea_ac44_13eae6a9e58crow6_col1\" class=\"data row6 col1\" >0.8732</td>\n",
       "                        <td id=\"T_78cffaf6_9823_11ea_ac44_13eae6a9e58crow6_col2\" class=\"data row6 col2\" >0.9366</td>\n",
       "                        <td id=\"T_78cffaf6_9823_11ea_ac44_13eae6a9e58crow6_col3\" class=\"data row6 col3\" >0.9353</td>\n",
       "                        <td id=\"T_78cffaf6_9823_11ea_ac44_13eae6a9e58crow6_col4\" class=\"data row6 col4\" >0.8308</td>\n",
       "                        <td id=\"T_78cffaf6_9823_11ea_ac44_13eae6a9e58crow6_col5\" class=\"data row6 col5\" >0.8788</td>\n",
       "                        <td id=\"T_78cffaf6_9823_11ea_ac44_13eae6a9e58crow6_col6\" class=\"data row6 col6\" >0.7464</td>\n",
       "            </tr>\n",
       "            <tr>\n",
       "                        <th id=\"T_78cffaf6_9823_11ea_ac44_13eae6a9e58clevel0_row7\" class=\"row_heading level0 row7\" >7</th>\n",
       "                        <td id=\"T_78cffaf6_9823_11ea_ac44_13eae6a9e58crow7_col0\" class=\"data row7 col0\" >Extreme Gradient Boosting</td>\n",
       "                        <td id=\"T_78cffaf6_9823_11ea_ac44_13eae6a9e58crow7_col1\" class=\"data row7 col1\" >0.8618</td>\n",
       "                        <td id=\"T_78cffaf6_9823_11ea_ac44_13eae6a9e58crow7_col2\" class=\"data row7 col2\" >0.919</td>\n",
       "                        <td id=\"T_78cffaf6_9823_11ea_ac44_13eae6a9e58crow7_col3\" class=\"data row7 col3\" >0.9212</td>\n",
       "                        <td id=\"T_78cffaf6_9823_11ea_ac44_13eae6a9e58crow7_col4\" class=\"data row7 col4\" >0.8264</td>\n",
       "                        <td id=\"T_78cffaf6_9823_11ea_ac44_13eae6a9e58crow7_col5\" class=\"data row7 col5\" >0.8698</td>\n",
       "                        <td id=\"T_78cffaf6_9823_11ea_ac44_13eae6a9e58crow7_col6\" class=\"data row7 col6\" >0.7237</td>\n",
       "            </tr>\n",
       "            <tr>\n",
       "                        <th id=\"T_78cffaf6_9823_11ea_ac44_13eae6a9e58clevel0_row8\" class=\"row_heading level0 row8\" >8</th>\n",
       "                        <td id=\"T_78cffaf6_9823_11ea_ac44_13eae6a9e58crow8_col0\" class=\"data row8 col0\" >Ridge Classifier</td>\n",
       "                        <td id=\"T_78cffaf6_9823_11ea_ac44_13eae6a9e58crow8_col1\" class=\"data row8 col1\" >0.8103</td>\n",
       "                        <td id=\"T_78cffaf6_9823_11ea_ac44_13eae6a9e58crow8_col2\" class=\"data row8 col2\" >0</td>\n",
       "                        <td id=\"T_78cffaf6_9823_11ea_ac44_13eae6a9e58crow8_col3\" class=\"data row8 col3\" >0.8333</td>\n",
       "                        <td id=\"T_78cffaf6_9823_11ea_ac44_13eae6a9e58crow8_col4\" class=\"data row8 col4\" >0.8064</td>\n",
       "                        <td id=\"T_78cffaf6_9823_11ea_ac44_13eae6a9e58crow8_col5\" class=\"data row8 col5\" >0.813</td>\n",
       "                        <td id=\"T_78cffaf6_9823_11ea_ac44_13eae6a9e58crow8_col6\" class=\"data row8 col6\" >0.6212</td>\n",
       "            </tr>\n",
       "            <tr>\n",
       "                        <th id=\"T_78cffaf6_9823_11ea_ac44_13eae6a9e58clevel0_row9\" class=\"row_heading level0 row9\" >9</th>\n",
       "                        <td id=\"T_78cffaf6_9823_11ea_ac44_13eae6a9e58crow9_col0\" class=\"data row9 col0\" >Linear Discriminant Analysis</td>\n",
       "                        <td id=\"T_78cffaf6_9823_11ea_ac44_13eae6a9e58crow9_col1\" class=\"data row9 col1\" >0.8063</td>\n",
       "                        <td id=\"T_78cffaf6_9823_11ea_ac44_13eae6a9e58crow9_col2\" class=\"data row9 col2\" >0.8869</td>\n",
       "                        <td id=\"T_78cffaf6_9823_11ea_ac44_13eae6a9e58crow9_col3\" class=\"data row9 col3\" >0.8333</td>\n",
       "                        <td id=\"T_78cffaf6_9823_11ea_ac44_13eae6a9e58crow9_col4\" class=\"data row9 col4\" >0.8007</td>\n",
       "                        <td id=\"T_78cffaf6_9823_11ea_ac44_13eae6a9e58crow9_col5\" class=\"data row9 col5\" >0.8098</td>\n",
       "                        <td id=\"T_78cffaf6_9823_11ea_ac44_13eae6a9e58crow9_col6\" class=\"data row9 col6\" >0.613</td>\n",
       "            </tr>\n",
       "            <tr>\n",
       "                        <th id=\"T_78cffaf6_9823_11ea_ac44_13eae6a9e58clevel0_row10\" class=\"row_heading level0 row10\" >10</th>\n",
       "                        <td id=\"T_78cffaf6_9823_11ea_ac44_13eae6a9e58crow10_col0\" class=\"data row10 col0\" >Logistic Regression</td>\n",
       "                        <td id=\"T_78cffaf6_9823_11ea_ac44_13eae6a9e58crow10_col1\" class=\"data row10 col1\" >0.8062</td>\n",
       "                        <td id=\"T_78cffaf6_9823_11ea_ac44_13eae6a9e58crow10_col2\" class=\"data row10 col2\" >0.8777</td>\n",
       "                        <td id=\"T_78cffaf6_9823_11ea_ac44_13eae6a9e58crow10_col3\" class=\"data row10 col3\" >0.8256</td>\n",
       "                        <td id=\"T_78cffaf6_9823_11ea_ac44_13eae6a9e58crow10_col4\" class=\"data row10 col4\" >0.8075</td>\n",
       "                        <td id=\"T_78cffaf6_9823_11ea_ac44_13eae6a9e58crow10_col5\" class=\"data row10 col5\" >0.8097</td>\n",
       "                        <td id=\"T_78cffaf6_9823_11ea_ac44_13eae6a9e58crow10_col6\" class=\"data row10 col6\" >0.6129</td>\n",
       "            </tr>\n",
       "            <tr>\n",
       "                        <th id=\"T_78cffaf6_9823_11ea_ac44_13eae6a9e58clevel0_row11\" class=\"row_heading level0 row11\" >11</th>\n",
       "                        <td id=\"T_78cffaf6_9823_11ea_ac44_13eae6a9e58crow11_col0\" class=\"data row11 col0\" >Quadratic Discriminant Analysis</td>\n",
       "                        <td id=\"T_78cffaf6_9823_11ea_ac44_13eae6a9e58crow11_col1\" class=\"data row11 col1\" >0.7945</td>\n",
       "                        <td id=\"T_78cffaf6_9823_11ea_ac44_13eae6a9e58crow11_col2\" class=\"data row11 col2\" >0.8706</td>\n",
       "                        <td id=\"T_78cffaf6_9823_11ea_ac44_13eae6a9e58crow11_col3\" class=\"data row11 col3\" >0.8019</td>\n",
       "                        <td id=\"T_78cffaf6_9823_11ea_ac44_13eae6a9e58crow11_col4\" class=\"data row11 col4\" >0.7977</td>\n",
       "                        <td id=\"T_78cffaf6_9823_11ea_ac44_13eae6a9e58crow11_col5\" class=\"data row11 col5\" >0.795</td>\n",
       "                        <td id=\"T_78cffaf6_9823_11ea_ac44_13eae6a9e58crow11_col6\" class=\"data row11 col6\" >0.5895</td>\n",
       "            </tr>\n",
       "            <tr>\n",
       "                        <th id=\"T_78cffaf6_9823_11ea_ac44_13eae6a9e58clevel0_row12\" class=\"row_heading level0 row12\" >12</th>\n",
       "                        <td id=\"T_78cffaf6_9823_11ea_ac44_13eae6a9e58crow12_col0\" class=\"data row12 col0\" >Naive Bayes</td>\n",
       "                        <td id=\"T_78cffaf6_9823_11ea_ac44_13eae6a9e58crow12_col1\" class=\"data row12 col1\" >0.7746</td>\n",
       "                        <td id=\"T_78cffaf6_9823_11ea_ac44_13eae6a9e58crow12_col2\" class=\"data row12 col2\" >0.8584</td>\n",
       "                        <td id=\"T_78cffaf6_9823_11ea_ac44_13eae6a9e58crow12_col3\" class=\"data row12 col3\" >0.8019</td>\n",
       "                        <td id=\"T_78cffaf6_9823_11ea_ac44_13eae6a9e58crow12_col4\" class=\"data row12 col4\" >0.773</td>\n",
       "                        <td id=\"T_78cffaf6_9823_11ea_ac44_13eae6a9e58crow12_col5\" class=\"data row12 col5\" >0.7795</td>\n",
       "                        <td id=\"T_78cffaf6_9823_11ea_ac44_13eae6a9e58crow12_col6\" class=\"data row12 col6\" >0.55</td>\n",
       "            </tr>\n",
       "            <tr>\n",
       "                        <th id=\"T_78cffaf6_9823_11ea_ac44_13eae6a9e58clevel0_row13\" class=\"row_heading level0 row13\" >13</th>\n",
       "                        <td id=\"T_78cffaf6_9823_11ea_ac44_13eae6a9e58crow13_col0\" class=\"data row13 col0\" >K Neighbors Classifier</td>\n",
       "                        <td id=\"T_78cffaf6_9823_11ea_ac44_13eae6a9e58crow13_col1\" class=\"data row13 col1\" >0.7583</td>\n",
       "                        <td id=\"T_78cffaf6_9823_11ea_ac44_13eae6a9e58crow13_col2\" class=\"data row13 col2\" >0.8254</td>\n",
       "                        <td id=\"T_78cffaf6_9823_11ea_ac44_13eae6a9e58crow13_col3\" class=\"data row13 col3\" >0.8795</td>\n",
       "                        <td id=\"T_78cffaf6_9823_11ea_ac44_13eae6a9e58crow13_col4\" class=\"data row13 col4\" >0.7113</td>\n",
       "                        <td id=\"T_78cffaf6_9823_11ea_ac44_13eae6a9e58crow13_col5\" class=\"data row13 col5\" >0.7837</td>\n",
       "                        <td id=\"T_78cffaf6_9823_11ea_ac44_13eae6a9e58crow13_col6\" class=\"data row13 col6\" >0.5179</td>\n",
       "            </tr>\n",
       "            <tr>\n",
       "                        <th id=\"T_78cffaf6_9823_11ea_ac44_13eae6a9e58clevel0_row14\" class=\"row_heading level0 row14\" >14</th>\n",
       "                        <td id=\"T_78cffaf6_9823_11ea_ac44_13eae6a9e58crow14_col0\" class=\"data row14 col0\" >SVM - Linear Kernel</td>\n",
       "                        <td id=\"T_78cffaf6_9823_11ea_ac44_13eae6a9e58crow14_col1\" class=\"data row14 col1\" >0.5378</td>\n",
       "                        <td id=\"T_78cffaf6_9823_11ea_ac44_13eae6a9e58crow14_col2\" class=\"data row14 col2\" >0</td>\n",
       "                        <td id=\"T_78cffaf6_9823_11ea_ac44_13eae6a9e58crow14_col3\" class=\"data row14 col3\" >0.4237</td>\n",
       "                        <td id=\"T_78cffaf6_9823_11ea_ac44_13eae6a9e58crow14_col4\" class=\"data row14 col4\" >0.4746</td>\n",
       "                        <td id=\"T_78cffaf6_9823_11ea_ac44_13eae6a9e58crow14_col5\" class=\"data row14 col5\" >0.3459</td>\n",
       "                        <td id=\"T_78cffaf6_9823_11ea_ac44_13eae6a9e58crow14_col6\" class=\"data row14 col6\" >0.0814</td>\n",
       "            </tr>\n",
       "    </tbody></table>"
      ],
      "text/plain": [
       "<pandas.io.formats.style.Styler at 0x7f414814cc10>"
      ]
     },
     "execution_count": 29,
     "metadata": {},
     "output_type": "execute_result"
    }
   ],
   "source": [
    "from pycaret.classification import *\n",
    "clf1 = setup(data = df, target = 'target')\n",
    "# comparing all models\n",
    "compare_models()"
   ]
  },
  {
   "cell_type": "markdown",
   "metadata": {},
   "source": [
    "# Tunening Xg_Boost  Model"
   ]
  },
  {
   "cell_type": "code",
   "execution_count": 30,
   "metadata": {},
   "outputs": [
    {
     "data": {
      "text/html": [
       "<div>\n",
       "<style scoped>\n",
       "    .dataframe tbody tr th:only-of-type {\n",
       "        vertical-align: middle;\n",
       "    }\n",
       "\n",
       "    .dataframe tbody tr th {\n",
       "        vertical-align: top;\n",
       "    }\n",
       "\n",
       "    .dataframe thead th {\n",
       "        text-align: right;\n",
       "    }\n",
       "</style>\n",
       "<table border=\"1\" class=\"dataframe\">\n",
       "  <thead>\n",
       "    <tr style=\"text-align: right;\">\n",
       "      <th></th>\n",
       "      <th>Accuracy</th>\n",
       "      <th>AUC</th>\n",
       "      <th>Recall</th>\n",
       "      <th>Prec.</th>\n",
       "      <th>F1</th>\n",
       "      <th>Kappa</th>\n",
       "    </tr>\n",
       "  </thead>\n",
       "  <tbody>\n",
       "    <tr>\n",
       "      <th>0</th>\n",
       "      <td>0.9231</td>\n",
       "      <td>0.9586</td>\n",
       "      <td>1.0000</td>\n",
       "      <td>0.8667</td>\n",
       "      <td>0.9286</td>\n",
       "      <td>0.8462</td>\n",
       "    </tr>\n",
       "    <tr>\n",
       "      <th>1</th>\n",
       "      <td>0.9231</td>\n",
       "      <td>0.8846</td>\n",
       "      <td>1.0000</td>\n",
       "      <td>0.8667</td>\n",
       "      <td>0.9286</td>\n",
       "      <td>0.8462</td>\n",
       "    </tr>\n",
       "    <tr>\n",
       "      <th>2</th>\n",
       "      <td>0.8077</td>\n",
       "      <td>0.9112</td>\n",
       "      <td>0.9231</td>\n",
       "      <td>0.7500</td>\n",
       "      <td>0.8276</td>\n",
       "      <td>0.6154</td>\n",
       "    </tr>\n",
       "    <tr>\n",
       "      <th>3</th>\n",
       "      <td>0.7600</td>\n",
       "      <td>0.8269</td>\n",
       "      <td>0.7500</td>\n",
       "      <td>0.7500</td>\n",
       "      <td>0.7500</td>\n",
       "      <td>0.5192</td>\n",
       "    </tr>\n",
       "    <tr>\n",
       "      <th>4</th>\n",
       "      <td>0.8800</td>\n",
       "      <td>0.9679</td>\n",
       "      <td>0.9167</td>\n",
       "      <td>0.8462</td>\n",
       "      <td>0.8800</td>\n",
       "      <td>0.7604</td>\n",
       "    </tr>\n",
       "    <tr>\n",
       "      <th>5</th>\n",
       "      <td>0.8400</td>\n",
       "      <td>0.8333</td>\n",
       "      <td>1.0000</td>\n",
       "      <td>0.7500</td>\n",
       "      <td>0.8571</td>\n",
       "      <td>0.6835</td>\n",
       "    </tr>\n",
       "    <tr>\n",
       "      <th>6</th>\n",
       "      <td>0.8400</td>\n",
       "      <td>0.8526</td>\n",
       "      <td>0.9167</td>\n",
       "      <td>0.7857</td>\n",
       "      <td>0.8462</td>\n",
       "      <td>0.6815</td>\n",
       "    </tr>\n",
       "    <tr>\n",
       "      <th>7</th>\n",
       "      <td>0.8000</td>\n",
       "      <td>0.9231</td>\n",
       "      <td>0.7692</td>\n",
       "      <td>0.8333</td>\n",
       "      <td>0.8000</td>\n",
       "      <td>0.6006</td>\n",
       "    </tr>\n",
       "    <tr>\n",
       "      <th>8</th>\n",
       "      <td>0.8400</td>\n",
       "      <td>0.8590</td>\n",
       "      <td>0.9231</td>\n",
       "      <td>0.8000</td>\n",
       "      <td>0.8571</td>\n",
       "      <td>0.6774</td>\n",
       "    </tr>\n",
       "    <tr>\n",
       "      <th>9</th>\n",
       "      <td>0.8400</td>\n",
       "      <td>0.8590</td>\n",
       "      <td>0.9231</td>\n",
       "      <td>0.8000</td>\n",
       "      <td>0.8571</td>\n",
       "      <td>0.6774</td>\n",
       "    </tr>\n",
       "    <tr>\n",
       "      <th>Mean</th>\n",
       "      <td>0.8454</td>\n",
       "      <td>0.8876</td>\n",
       "      <td>0.9122</td>\n",
       "      <td>0.8049</td>\n",
       "      <td>0.8532</td>\n",
       "      <td>0.6908</td>\n",
       "    </tr>\n",
       "    <tr>\n",
       "      <th>SD</th>\n",
       "      <td>0.0492</td>\n",
       "      <td>0.0478</td>\n",
       "      <td>0.0838</td>\n",
       "      <td>0.0443</td>\n",
       "      <td>0.0513</td>\n",
       "      <td>0.0984</td>\n",
       "    </tr>\n",
       "  </tbody>\n",
       "</table>\n",
       "</div>"
      ],
      "text/plain": [
       "      Accuracy     AUC  Recall   Prec.      F1   Kappa\n",
       "0       0.9231  0.9586  1.0000  0.8667  0.9286  0.8462\n",
       "1       0.9231  0.8846  1.0000  0.8667  0.9286  0.8462\n",
       "2       0.8077  0.9112  0.9231  0.7500  0.8276  0.6154\n",
       "3       0.7600  0.8269  0.7500  0.7500  0.7500  0.5192\n",
       "4       0.8800  0.9679  0.9167  0.8462  0.8800  0.7604\n",
       "5       0.8400  0.8333  1.0000  0.7500  0.8571  0.6835\n",
       "6       0.8400  0.8526  0.9167  0.7857  0.8462  0.6815\n",
       "7       0.8000  0.9231  0.7692  0.8333  0.8000  0.6006\n",
       "8       0.8400  0.8590  0.9231  0.8000  0.8571  0.6774\n",
       "9       0.8400  0.8590  0.9231  0.8000  0.8571  0.6774\n",
       "Mean    0.8454  0.8876  0.9122  0.8049  0.8532  0.6908\n",
       "SD      0.0492  0.0478  0.0838  0.0443  0.0513  0.0984"
      ]
     },
     "metadata": {},
     "output_type": "display_data"
    }
   ],
   "source": [
    "from pycaret.classification import *\n",
    "clf1 = setup(data = df, target = 'target')\n",
    "# tuning LightGBM Model\n",
    "tuned_xgboost = tune_model('xgboost')"
   ]
  },
  {
   "cell_type": "markdown",
   "metadata": {},
   "source": [
    "# Getting Best Xg_Boost Model Hyperparameter"
   ]
  },
  {
   "cell_type": "code",
   "execution_count": 31,
   "metadata": {},
   "outputs": [
    {
     "data": {
      "text/plain": [
       "XGBClassifier(base_score=0.5, booster='gbtree', colsample_bylevel=1,\n",
       "              colsample_bynode=1, colsample_bytree=1, gamma=0,\n",
       "              learning_rate=0.78, max_delta_step=0, max_depth=40,\n",
       "              min_child_weight=3, missing=None, n_estimators=30, n_jobs=-1,\n",
       "              nthread=None, objective='binary:logistic', random_state=5817,\n",
       "              reg_alpha=0, reg_lambda=1, scale_pos_weight=1, seed=None,\n",
       "              silent=None, subsample=0.7, verbosity=0)"
      ]
     },
     "execution_count": 31,
     "metadata": {},
     "output_type": "execute_result"
    }
   ],
   "source": [
    "tuned_xgboost"
   ]
  },
  {
   "cell_type": "markdown",
   "metadata": {},
   "source": [
    "# Getting Best Random Forest Model Hyperparameter"
   ]
  },
  {
   "cell_type": "code",
   "execution_count": 32,
   "metadata": {},
   "outputs": [
    {
     "data": {
      "text/html": [
       "<div>\n",
       "<style scoped>\n",
       "    .dataframe tbody tr th:only-of-type {\n",
       "        vertical-align: middle;\n",
       "    }\n",
       "\n",
       "    .dataframe tbody tr th {\n",
       "        vertical-align: top;\n",
       "    }\n",
       "\n",
       "    .dataframe thead th {\n",
       "        text-align: right;\n",
       "    }\n",
       "</style>\n",
       "<table border=\"1\" class=\"dataframe\">\n",
       "  <thead>\n",
       "    <tr style=\"text-align: right;\">\n",
       "      <th></th>\n",
       "      <th>Accuracy</th>\n",
       "      <th>AUC</th>\n",
       "      <th>Recall</th>\n",
       "      <th>Prec.</th>\n",
       "      <th>F1</th>\n",
       "      <th>Kappa</th>\n",
       "    </tr>\n",
       "  </thead>\n",
       "  <tbody>\n",
       "    <tr>\n",
       "      <th>0</th>\n",
       "      <td>0.9231</td>\n",
       "      <td>0.9645</td>\n",
       "      <td>0.9231</td>\n",
       "      <td>0.9231</td>\n",
       "      <td>0.9231</td>\n",
       "      <td>0.8462</td>\n",
       "    </tr>\n",
       "    <tr>\n",
       "      <th>1</th>\n",
       "      <td>0.9615</td>\n",
       "      <td>0.9941</td>\n",
       "      <td>1.0000</td>\n",
       "      <td>0.9286</td>\n",
       "      <td>0.9630</td>\n",
       "      <td>0.9231</td>\n",
       "    </tr>\n",
       "    <tr>\n",
       "      <th>2</th>\n",
       "      <td>0.8846</td>\n",
       "      <td>0.9527</td>\n",
       "      <td>0.8462</td>\n",
       "      <td>0.9167</td>\n",
       "      <td>0.8800</td>\n",
       "      <td>0.7692</td>\n",
       "    </tr>\n",
       "    <tr>\n",
       "      <th>3</th>\n",
       "      <td>0.8800</td>\n",
       "      <td>0.8910</td>\n",
       "      <td>1.0000</td>\n",
       "      <td>0.8000</td>\n",
       "      <td>0.8889</td>\n",
       "      <td>0.7619</td>\n",
       "    </tr>\n",
       "    <tr>\n",
       "      <th>4</th>\n",
       "      <td>0.8000</td>\n",
       "      <td>0.9487</td>\n",
       "      <td>1.0000</td>\n",
       "      <td>0.7059</td>\n",
       "      <td>0.8276</td>\n",
       "      <td>0.6057</td>\n",
       "    </tr>\n",
       "    <tr>\n",
       "      <th>5</th>\n",
       "      <td>0.9200</td>\n",
       "      <td>1.0000</td>\n",
       "      <td>1.0000</td>\n",
       "      <td>0.8571</td>\n",
       "      <td>0.9231</td>\n",
       "      <td>0.8408</td>\n",
       "    </tr>\n",
       "    <tr>\n",
       "      <th>6</th>\n",
       "      <td>0.8400</td>\n",
       "      <td>0.9295</td>\n",
       "      <td>0.9231</td>\n",
       "      <td>0.8000</td>\n",
       "      <td>0.8571</td>\n",
       "      <td>0.6774</td>\n",
       "    </tr>\n",
       "    <tr>\n",
       "      <th>7</th>\n",
       "      <td>0.9200</td>\n",
       "      <td>0.9295</td>\n",
       "      <td>0.9231</td>\n",
       "      <td>0.9231</td>\n",
       "      <td>0.9231</td>\n",
       "      <td>0.8397</td>\n",
       "    </tr>\n",
       "    <tr>\n",
       "      <th>8</th>\n",
       "      <td>0.9200</td>\n",
       "      <td>0.9744</td>\n",
       "      <td>1.0000</td>\n",
       "      <td>0.8667</td>\n",
       "      <td>0.9286</td>\n",
       "      <td>0.8387</td>\n",
       "    </tr>\n",
       "    <tr>\n",
       "      <th>9</th>\n",
       "      <td>0.8000</td>\n",
       "      <td>0.8654</td>\n",
       "      <td>0.9231</td>\n",
       "      <td>0.7500</td>\n",
       "      <td>0.8276</td>\n",
       "      <td>0.5955</td>\n",
       "    </tr>\n",
       "    <tr>\n",
       "      <th>Mean</th>\n",
       "      <td>0.8849</td>\n",
       "      <td>0.9450</td>\n",
       "      <td>0.9538</td>\n",
       "      <td>0.8471</td>\n",
       "      <td>0.8942</td>\n",
       "      <td>0.7698</td>\n",
       "    </tr>\n",
       "    <tr>\n",
       "      <th>SD</th>\n",
       "      <td>0.0524</td>\n",
       "      <td>0.0406</td>\n",
       "      <td>0.0510</td>\n",
       "      <td>0.0757</td>\n",
       "      <td>0.0435</td>\n",
       "      <td>0.1048</td>\n",
       "    </tr>\n",
       "  </tbody>\n",
       "</table>\n",
       "</div>"
      ],
      "text/plain": [
       "      Accuracy     AUC  Recall   Prec.      F1   Kappa\n",
       "0       0.9231  0.9645  0.9231  0.9231  0.9231  0.8462\n",
       "1       0.9615  0.9941  1.0000  0.9286  0.9630  0.9231\n",
       "2       0.8846  0.9527  0.8462  0.9167  0.8800  0.7692\n",
       "3       0.8800  0.8910  1.0000  0.8000  0.8889  0.7619\n",
       "4       0.8000  0.9487  1.0000  0.7059  0.8276  0.6057\n",
       "5       0.9200  1.0000  1.0000  0.8571  0.9231  0.8408\n",
       "6       0.8400  0.9295  0.9231  0.8000  0.8571  0.6774\n",
       "7       0.9200  0.9295  0.9231  0.9231  0.9231  0.8397\n",
       "8       0.9200  0.9744  1.0000  0.8667  0.9286  0.8387\n",
       "9       0.8000  0.8654  0.9231  0.7500  0.8276  0.5955\n",
       "Mean    0.8849  0.9450  0.9538  0.8471  0.8942  0.7698\n",
       "SD      0.0524  0.0406  0.0510  0.0757  0.0435  0.1048"
      ]
     },
     "metadata": {},
     "output_type": "display_data"
    }
   ],
   "source": [
    "from pycaret.classification import *\n",
    "clf1 = setup(data = df, target = 'target')\n",
    "# tuning LightGBM Model\n",
    "tuned_rf = tune_model('rf')"
   ]
  },
  {
   "cell_type": "code",
   "execution_count": 33,
   "metadata": {},
   "outputs": [],
   "source": [
    "X_res = df.iloc[:,1:].values\n",
    "y_res = df.iloc[:,0].values"
   ]
  },
  {
   "cell_type": "markdown",
   "metadata": {},
   "source": [
    "# Spliting Training and Test Data"
   ]
  },
  {
   "cell_type": "code",
   "execution_count": 34,
   "metadata": {},
   "outputs": [],
   "source": [
    "X_train, X_test, y_train, y_test = train_test_split(X_res,y_res, test_size=0.2, random_state=42)"
   ]
  },
  {
   "cell_type": "markdown",
   "metadata": {},
   "source": [
    "# RandomForestClassifier"
   ]
  },
  {
   "cell_type": "code",
   "execution_count": 35,
   "metadata": {},
   "outputs": [],
   "source": [
    "from sklearn.ensemble import RandomForestClassifier\n",
    "from sklearn.metrics import accuracy_score,confusion_matrix,classification_report"
   ]
  },
  {
   "cell_type": "code",
   "execution_count": 36,
   "metadata": {},
   "outputs": [],
   "source": [
    "model = RandomForestClassifier(bootstrap=True, ccp_alpha=0.0, class_weight=None,\n",
    "                       criterion='gini', max_depth=30, max_features='log2',\n",
    "                       max_leaf_nodes=None, max_samples=None,\n",
    "                       min_impurity_decrease=0.0, min_impurity_split=None,\n",
    "                       min_samples_leaf=1, min_samples_split=2,\n",
    "                       min_weight_fraction_leaf=0.0, n_estimators=60,\n",
    "                       n_jobs=None, oob_score=False, random_state=1575,\n",
    "                       verbose=0, warm_start=False)"
   ]
  },
  {
   "cell_type": "code",
   "execution_count": 37,
   "metadata": {},
   "outputs": [
    {
     "name": "stdout",
     "output_type": "stream",
     "text": [
      "0.8904109589041096\n",
      "[[32  8]\n",
      " [ 0 33]]\n",
      "              precision    recall  f1-score   support\n",
      "\n",
      "           0       1.00      0.80      0.89        40\n",
      "           1       0.80      1.00      0.89        33\n",
      "\n",
      "    accuracy                           0.89        73\n",
      "   macro avg       0.90      0.90      0.89        73\n",
      "weighted avg       0.91      0.89      0.89        73\n",
      "\n"
     ]
    }
   ],
   "source": [
    "model.fit(X_train,y_train)\n",
    "y_pred = model.predict(X_test)\n",
    "print(accuracy_score(y_test,y_pred))\n",
    "print(confusion_matrix(y_test,y_pred))\n",
    "print(classification_report(y_test,y_pred))"
   ]
  },
  {
   "cell_type": "markdown",
   "metadata": {},
   "source": [
    "# XGBClassifier"
   ]
  },
  {
   "cell_type": "code",
   "execution_count": 38,
   "metadata": {},
   "outputs": [],
   "source": [
    "import xgboost as xgb\n",
    "xgb_model = xgb.XGBClassifier(base_score=0.5, booster='gbtree', colsample_bylevel=1,\n",
    "              colsample_bynode=1, colsample_bytree=0.7, gamma=0,\n",
    "              learning_rate=0.68, max_delta_step=0, max_depth=50,\n",
    "              min_child_weight=1, missing=None, n_estimators=30, n_jobs=-1,\n",
    "              nthread=None, objective='binary:logistic', random_state=3824,\n",
    "              reg_alpha=0, reg_lambda=1, scale_pos_weight=1, seed=None,\n",
    "              silent=None, subsample=0.9, verbosity=0)"
   ]
  },
  {
   "cell_type": "code",
   "execution_count": 39,
   "metadata": {},
   "outputs": [
    {
     "name": "stdout",
     "output_type": "stream",
     "text": [
      "0.8904109589041096\n",
      "[[32  8]\n",
      " [ 0 33]]\n",
      "              precision    recall  f1-score   support\n",
      "\n",
      "           0       1.00      0.80      0.89        40\n",
      "           1       0.80      1.00      0.89        33\n",
      "\n",
      "    accuracy                           0.89        73\n",
      "   macro avg       0.90      0.90      0.89        73\n",
      "weighted avg       0.91      0.89      0.89        73\n",
      "\n"
     ]
    }
   ],
   "source": [
    "xgb_model.fit(X_train,y_train)\n",
    "\n",
    "\n",
    "y_pred = model.predict(X_test)\n",
    "print(accuracy_score(y_test,y_pred))\n",
    "print(confusion_matrix(y_test,y_pred))\n",
    "print(classification_report(y_test,y_pred))"
   ]
  },
  {
   "cell_type": "markdown",
   "metadata": {},
   "source": [
    "# saving Machine learning Model in Mongodb server "
   ]
  },
  {
   "cell_type": "code",
   "execution_count": 40,
   "metadata": {},
   "outputs": [],
   "source": [
    "def save_model_to_db(model, client, db, dbconnection, model_name):\n",
    "    import pickle\n",
    "    import time\n",
    "    import pymongo\n",
    "    #pickling the model\n",
    "    pickled_model = pickle.dumps(model)\n",
    "    \n",
    "    #saving model to mongoDB\n",
    "    # creating connection\n",
    "    myclient = pymongo.MongoClient(client)\n",
    "    \n",
    "    #creating database in mongodb\n",
    "    mydb = myclient[db]\n",
    "    \n",
    "    #creating collection\n",
    "    mycon = mydb[dbconnection]\n",
    "    info = mycon.insert_one({model_name: pickled_model, 'name': model_name, 'created_time':time.time()})\n",
    "    print(info.inserted_id, ' saved with this id successfully!')\n",
    "    \n",
    "    details = {\n",
    "        'inserted_id':info.inserted_id,\n",
    "        'model_name':model_name,\n",
    "        'created_time':time.time()\n",
    "    }\n",
    "    print(details)\n",
    "    return details"
   ]
  },
  {
   "cell_type": "code",
   "execution_count": null,
   "metadata": {},
   "outputs": [],
   "source": [
    "# "
   ]
  },
  {
   "cell_type": "code",
   "execution_count": 41,
   "metadata": {},
   "outputs": [
    {
     "name": "stdout",
     "output_type": "stream",
     "text": [
      "5ec1085d6b499e699478364d  saved with this id successfully!\n",
      "{'inserted_id': ObjectId('5ec1085d6b499e699478364d'), 'model_name': 'cancer', 'created_time': 1589708893.3798246}\n"
     ]
    }
   ],
   "source": [
    "details = save_model_to_db(model = xgb_model , client ='mongodb://localhost:27017/', db = 'Oncosteammachinelearning', \n",
    "                 dbconnection = \"model\", model_name = \"cancer\")"
   ]
  },
  {
   "cell_type": "markdown",
   "metadata": {},
   "source": [
    "# Plot Model Area Under the Curve"
   ]
  },
  {
   "cell_type": "code",
   "execution_count": 42,
   "metadata": {},
   "outputs": [],
   "source": [
    "from pycaret.classification import *"
   ]
  },
  {
   "cell_type": "code",
   "execution_count": 43,
   "metadata": {},
   "outputs": [
    {
     "data": {
      "image/png": "[encoded data removed]",
      "text/plain": [
       "<Figure size 576x396 with 1 Axes>"
      ]
     },
     "metadata": {},
     "output_type": "display_data"
    }
   ],
   "source": [
    "xgboost = create_model('xgboost')\n",
    "# plotting a model\n",
    "plot_model(xgboost)"
   ]
  },
  {
   "cell_type": "markdown",
   "metadata": {},
   "source": [
    "# Cross Validation "
   ]
  },
  {
   "cell_type": "markdown",
   "metadata": {},
   "source": [
    "# cross_val_score"
   ]
  },
  {
   "cell_type": "code",
   "execution_count": 44,
   "metadata": {},
   "outputs": [],
   "source": [
    "from sklearn.model_selection import cross_val_score\n",
    "score=cross_val_score(xgb_model,X_res,y_res,cv=10)"
   ]
  },
  {
   "cell_type": "code",
   "execution_count": 45,
   "metadata": {},
   "outputs": [
    {
     "data": {
      "text/plain": [
       "array([0.7027027 , 0.94594595, 0.97222222, 0.94444444, 0.97222222,\n",
       "       0.91666667, 1.        , 0.91666667, 0.94444444, 0.86111111])"
      ]
     },
     "execution_count": 45,
     "metadata": {},
     "output_type": "execute_result"
    }
   ],
   "source": [
    "\n",
    "score"
   ]
  },
  {
   "cell_type": "code",
   "execution_count": 46,
   "metadata": {},
   "outputs": [
    {
     "data": {
      "text/plain": [
       "0.9176426426426426"
      ]
     },
     "execution_count": 46,
     "metadata": {},
     "output_type": "execute_result"
    }
   ],
   "source": [
    "score.mean()"
   ]
  },
  {
   "cell_type": "code",
   "execution_count": 47,
   "metadata": {},
   "outputs": [],
   "source": [
    "X_res = pd.DataFrame(X_res)\n",
    "y_res = pd.DataFrame(y_res)"
   ]
  },
  {
   "cell_type": "markdown",
   "metadata": {},
   "source": [
    "# StratifiedKFold Cross Validation"
   ]
  },
  {
   "cell_type": "code",
   "execution_count": 48,
   "metadata": {},
   "outputs": [
    {
     "name": "stdout",
     "output_type": "stream",
     "text": [
      "Train: [ 19  20  21  22  23  24  25  26  27  28  29  30  31  32  33  34  35  36\n",
      "  37  38  39  40  41  42  43  44  45  46  47  48  49  50  51  52  53  54\n",
      "  55  56  57  58  59  60  61  62  63  64  65  66  67  68  69  70  71  72\n",
      "  73  74  75  76  77  78  79  80  81  82  83  84  85  86  87  88  89  90\n",
      "  91  92  93  94  95  96  97  98  99 100 101 102 103 104 105 106 107 108\n",
      " 109 110 111 112 113 114 115 116 117 118 119 120 121 122 123 124 125 126\n",
      " 127 128 129 130 131 132 133 134 135 136 137 138 139 140 141 142 143 144\n",
      " 145 146 147 148 149 150 151 152 153 154 155 156 157 158 159 160 161 162\n",
      " 163 164 165 166 167 168 169 170 171 172 173 174 175 176 177 178 179 180\n",
      " 199 200 201 202 203 204 205 206 207 208 209 210 211 212 213 214 215 216\n",
      " 217 218 219 220 221 222 223 224 225 226 227 228 229 230 231 232 233 234\n",
      " 235 236 237 238 239 240 241 242 243 244 245 246 247 248 249 250 251 252\n",
      " 253 254 255 256 257 258 259 260 261 262 263 264 265 266 267 268 269 270\n",
      " 271 272 273 274 275 276 277 278 279 280 281 282 283 284 285 286 287 288\n",
      " 289 290 291 292 293 294 295 296 297 298 299 300 301 302 303 304 305 306\n",
      " 307 308 309 310 311 312 313 314 315 316 317 318 319 320 321 322 323 324\n",
      " 325 326 327 328 329 330 331 332 333 334 335 336 337 338 339 340 341 342\n",
      " 343 344 345 346 347 348 349 350 351 352 353 354 355 356 357 358 359 360\n",
      " 361] Val [  0   1   2   3   4   5   6   7   8   9  10  11  12  13  14  15  16  17\n",
      "  18 181 182 183 184 185 186 187 188 189 190 191 192 193 194 195 196 197\n",
      " 198]\n",
      "Train: [  0   1   2   3   4   5   6   7   8   9  10  11  12  13  14  15  16  17\n",
      "  18  37  38  39  40  41  42  43  44  45  46  47  48  49  50  51  52  53\n",
      "  54  55  56  57  58  59  60  61  62  63  64  65  66  67  68  69  70  71\n",
      "  72  73  74  75  76  77  78  79  80  81  82  83  84  85  86  87  88  89\n",
      "  90  91  92  93  94  95  96  97  98  99 100 101 102 103 104 105 106 107\n",
      " 108 109 110 111 112 113 114 115 116 117 118 119 120 121 122 123 124 125\n",
      " 126 127 128 129 130 131 132 133 134 135 136 137 138 139 140 141 142 143\n",
      " 144 145 146 147 148 149 150 151 152 153 154 155 156 157 158 159 160 161\n",
      " 162 163 164 165 166 167 168 169 170 171 172 173 174 175 176 177 178 179\n",
      " 180 181 182 183 184 185 186 187 188 189 190 191 192 193 194 195 196 197\n",
      " 198 218 219 220 221 222 223 224 225 226 227 228 229 230 231 232 233 234\n",
      " 235 236 237 238 239 240 241 242 243 244 245 246 247 248 249 250 251 252\n",
      " 253 254 255 256 257 258 259 260 261 262 263 264 265 266 267 268 269 270\n",
      " 271 272 273 274 275 276 277 278 279 280 281 282 283 284 285 286 287 288\n",
      " 289 290 291 292 293 294 295 296 297 298 299 300 301 302 303 304 305 306\n",
      " 307 308 309 310 311 312 313 314 315 316 317 318 319 320 321 322 323 324\n",
      " 325 326 327 328 329 330 331 332 333 334 335 336 337 338 339 340 341 342\n",
      " 343 344 345 346 347 348 349 350 351 352 353 354 355 356 357 358 359 360\n",
      " 361] Val [ 19  20  21  22  23  24  25  26  27  28  29  30  31  32  33  34  35  36\n",
      " 199 200 201 202 203 204 205 206 207 208 209 210 211 212 213 214 215 216\n",
      " 217]\n",
      "Train: [  0   1   2   3   4   5   6   7   8   9  10  11  12  13  14  15  16  17\n",
      "  18  19  20  21  22  23  24  25  26  27  28  29  30  31  32  33  34  35\n",
      "  36  55  56  57  58  59  60  61  62  63  64  65  66  67  68  69  70  71\n",
      "  72  73  74  75  76  77  78  79  80  81  82  83  84  85  86  87  88  89\n",
      "  90  91  92  93  94  95  96  97  98  99 100 101 102 103 104 105 106 107\n",
      " 108 109 110 111 112 113 114 115 116 117 118 119 120 121 122 123 124 125\n",
      " 126 127 128 129 130 131 132 133 134 135 136 137 138 139 140 141 142 143\n",
      " 144 145 146 147 148 149 150 151 152 153 154 155 156 157 158 159 160 161\n",
      " 162 163 164 165 166 167 168 169 170 171 172 173 174 175 176 177 178 179\n",
      " 180 181 182 183 184 185 186 187 188 189 190 191 192 193 194 195 196 197\n",
      " 198 199 200 201 202 203 204 205 206 207 208 209 210 211 212 213 214 215\n",
      " 216 217 236 237 238 239 240 241 242 243 244 245 246 247 248 249 250 251\n",
      " 252 253 254 255 256 257 258 259 260 261 262 263 264 265 266 267 268 269\n",
      " 270 271 272 273 274 275 276 277 278 279 280 281 282 283 284 285 286 287\n",
      " 288 289 290 291 292 293 294 295 296 297 298 299 300 301 302 303 304 305\n",
      " 306 307 308 309 310 311 312 313 314 315 316 317 318 319 320 321 322 323\n",
      " 324 325 326 327 328 329 330 331 332 333 334 335 336 337 338 339 340 341\n",
      " 342 343 344 345 346 347 348 349 350 351 352 353 354 355 356 357 358 359\n",
      " 360 361] Val [ 37  38  39  40  41  42  43  44  45  46  47  48  49  50  51  52  53  54\n",
      " 218 219 220 221 222 223 224 225 226 227 228 229 230 231 232 233 234 235]\n",
      "Train: [  0   1   2   3   4   5   6   7   8   9  10  11  12  13  14  15  16  17\n",
      "  18  19  20  21  22  23  24  25  26  27  28  29  30  31  32  33  34  35\n",
      "  36  37  38  39  40  41  42  43  44  45  46  47  48  49  50  51  52  53\n",
      "  54  73  74  75  76  77  78  79  80  81  82  83  84  85  86  87  88  89\n",
      "  90  91  92  93  94  95  96  97  98  99 100 101 102 103 104 105 106 107\n",
      " 108 109 110 111 112 113 114 115 116 117 118 119 120 121 122 123 124 125\n",
      " 126 127 128 129 130 131 132 133 134 135 136 137 138 139 140 141 142 143\n",
      " 144 145 146 147 148 149 150 151 152 153 154 155 156 157 158 159 160 161\n",
      " 162 163 164 165 166 167 168 169 170 171 172 173 174 175 176 177 178 179\n",
      " 180 181 182 183 184 185 186 187 188 189 190 191 192 193 194 195 196 197\n",
      " 198 199 200 201 202 203 204 205 206 207 208 209 210 211 212 213 214 215\n",
      " 216 217 218 219 220 221 222 223 224 225 226 227 228 229 230 231 232 233\n",
      " 234 235 254 255 256 257 258 259 260 261 262 263 264 265 266 267 268 269\n",
      " 270 271 272 273 274 275 276 277 278 279 280 281 282 283 284 285 286 287\n",
      " 288 289 290 291 292 293 294 295 296 297 298 299 300 301 302 303 304 305\n",
      " 306 307 308 309 310 311 312 313 314 315 316 317 318 319 320 321 322 323\n",
      " 324 325 326 327 328 329 330 331 332 333 334 335 336 337 338 339 340 341\n",
      " 342 343 344 345 346 347 348 349 350 351 352 353 354 355 356 357 358 359\n",
      " 360 361] Val [ 55  56  57  58  59  60  61  62  63  64  65  66  67  68  69  70  71  72\n",
      " 236 237 238 239 240 241 242 243 244 245 246 247 248 249 250 251 252 253]\n",
      "Train: [  0   1   2   3   4   5   6   7   8   9  10  11  12  13  14  15  16  17\n",
      "  18  19  20  21  22  23  24  25  26  27  28  29  30  31  32  33  34  35\n",
      "  36  37  38  39  40  41  42  43  44  45  46  47  48  49  50  51  52  53\n",
      "  54  55  56  57  58  59  60  61  62  63  64  65  66  67  68  69  70  71\n",
      "  72  91  92  93  94  95  96  97  98  99 100 101 102 103 104 105 106 107\n",
      " 108 109 110 111 112 113 114 115 116 117 118 119 120 121 122 123 124 125\n",
      " 126 127 128 129 130 131 132 133 134 135 136 137 138 139 140 141 142 143\n",
      " 144 145 146 147 148 149 150 151 152 153 154 155 156 157 158 159 160 161\n",
      " 162 163 164 165 166 167 168 169 170 171 172 173 174 175 176 177 178 179\n",
      " 180 181 182 183 184 185 186 187 188 189 190 191 192 193 194 195 196 197\n",
      " 198 199 200 201 202 203 204 205 206 207 208 209 210 211 212 213 214 215\n",
      " 216 217 218 219 220 221 222 223 224 225 226 227 228 229 230 231 232 233\n",
      " 234 235 236 237 238 239 240 241 242 243 244 245 246 247 248 249 250 251\n",
      " 252 253 272 273 274 275 276 277 278 279 280 281 282 283 284 285 286 287\n",
      " 288 289 290 291 292 293 294 295 296 297 298 299 300 301 302 303 304 305\n",
      " 306 307 308 309 310 311 312 313 314 315 316 317 318 319 320 321 322 323\n",
      " 324 325 326 327 328 329 330 331 332 333 334 335 336 337 338 339 340 341\n",
      " 342 343 344 345 346 347 348 349 350 351 352 353 354 355 356 357 358 359\n",
      " 360 361] Val [ 73  74  75  76  77  78  79  80  81  82  83  84  85  86  87  88  89  90\n",
      " 254 255 256 257 258 259 260 261 262 263 264 265 266 267 268 269 270 271]\n",
      "Train: [  0   1   2   3   4   5   6   7   8   9  10  11  12  13  14  15  16  17\n",
      "  18  19  20  21  22  23  24  25  26  27  28  29  30  31  32  33  34  35\n",
      "  36  37  38  39  40  41  42  43  44  45  46  47  48  49  50  51  52  53\n",
      "  54  55  56  57  58  59  60  61  62  63  64  65  66  67  68  69  70  71\n",
      "  72  73  74  75  76  77  78  79  80  81  82  83  84  85  86  87  88  89\n",
      "  90 109 110 111 112 113 114 115 116 117 118 119 120 121 122 123 124 125\n",
      " 126 127 128 129 130 131 132 133 134 135 136 137 138 139 140 141 142 143\n",
      " 144 145 146 147 148 149 150 151 152 153 154 155 156 157 158 159 160 161\n",
      " 162 163 164 165 166 167 168 169 170 171 172 173 174 175 176 177 178 179\n",
      " 180 181 182 183 184 185 186 187 188 189 190 191 192 193 194 195 196 197\n",
      " 198 199 200 201 202 203 204 205 206 207 208 209 210 211 212 213 214 215\n",
      " 216 217 218 219 220 221 222 223 224 225 226 227 228 229 230 231 232 233\n",
      " 234 235 236 237 238 239 240 241 242 243 244 245 246 247 248 249 250 251\n",
      " 252 253 254 255 256 257 258 259 260 261 262 263 264 265 266 267 268 269\n",
      " 270 271 290 291 292 293 294 295 296 297 298 299 300 301 302 303 304 305\n",
      " 306 307 308 309 310 311 312 313 314 315 316 317 318 319 320 321 322 323\n",
      " 324 325 326 327 328 329 330 331 332 333 334 335 336 337 338 339 340 341\n",
      " 342 343 344 345 346 347 348 349 350 351 352 353 354 355 356 357 358 359\n",
      " 360 361] Val [ 91  92  93  94  95  96  97  98  99 100 101 102 103 104 105 106 107 108\n",
      " 272 273 274 275 276 277 278 279 280 281 282 283 284 285 286 287 288 289]\n"
     ]
    },
    {
     "name": "stdout",
     "output_type": "stream",
     "text": [
      "Train: [  0   1   2   3   4   5   6   7   8   9  10  11  12  13  14  15  16  17\n",
      "  18  19  20  21  22  23  24  25  26  27  28  29  30  31  32  33  34  35\n",
      "  36  37  38  39  40  41  42  43  44  45  46  47  48  49  50  51  52  53\n",
      "  54  55  56  57  58  59  60  61  62  63  64  65  66  67  68  69  70  71\n",
      "  72  73  74  75  76  77  78  79  80  81  82  83  84  85  86  87  88  89\n",
      "  90  91  92  93  94  95  96  97  98  99 100 101 102 103 104 105 106 107\n",
      " 108 127 128 129 130 131 132 133 134 135 136 137 138 139 140 141 142 143\n",
      " 144 145 146 147 148 149 150 151 152 153 154 155 156 157 158 159 160 161\n",
      " 162 163 164 165 166 167 168 169 170 171 172 173 174 175 176 177 178 179\n",
      " 180 181 182 183 184 185 186 187 188 189 190 191 192 193 194 195 196 197\n",
      " 198 199 200 201 202 203 204 205 206 207 208 209 210 211 212 213 214 215\n",
      " 216 217 218 219 220 221 222 223 224 225 226 227 228 229 230 231 232 233\n",
      " 234 235 236 237 238 239 240 241 242 243 244 245 246 247 248 249 250 251\n",
      " 252 253 254 255 256 257 258 259 260 261 262 263 264 265 266 267 268 269\n",
      " 270 271 272 273 274 275 276 277 278 279 280 281 282 283 284 285 286 287\n",
      " 288 289 308 309 310 311 312 313 314 315 316 317 318 319 320 321 322 323\n",
      " 324 325 326 327 328 329 330 331 332 333 334 335 336 337 338 339 340 341\n",
      " 342 343 344 345 346 347 348 349 350 351 352 353 354 355 356 357 358 359\n",
      " 360 361] Val [109 110 111 112 113 114 115 116 117 118 119 120 121 122 123 124 125 126\n",
      " 290 291 292 293 294 295 296 297 298 299 300 301 302 303 304 305 306 307]\n",
      "Train: [  0   1   2   3   4   5   6   7   8   9  10  11  12  13  14  15  16  17\n",
      "  18  19  20  21  22  23  24  25  26  27  28  29  30  31  32  33  34  35\n",
      "  36  37  38  39  40  41  42  43  44  45  46  47  48  49  50  51  52  53\n",
      "  54  55  56  57  58  59  60  61  62  63  64  65  66  67  68  69  70  71\n",
      "  72  73  74  75  76  77  78  79  80  81  82  83  84  85  86  87  88  89\n",
      "  90  91  92  93  94  95  96  97  98  99 100 101 102 103 104 105 106 107\n",
      " 108 109 110 111 112 113 114 115 116 117 118 119 120 121 122 123 124 125\n",
      " 126 145 146 147 148 149 150 151 152 153 154 155 156 157 158 159 160 161\n",
      " 162 163 164 165 166 167 168 169 170 171 172 173 174 175 176 177 178 179\n",
      " 180 181 182 183 184 185 186 187 188 189 190 191 192 193 194 195 196 197\n",
      " 198 199 200 201 202 203 204 205 206 207 208 209 210 211 212 213 214 215\n",
      " 216 217 218 219 220 221 222 223 224 225 226 227 228 229 230 231 232 233\n",
      " 234 235 236 237 238 239 240 241 242 243 244 245 246 247 248 249 250 251\n",
      " 252 253 254 255 256 257 258 259 260 261 262 263 264 265 266 267 268 269\n",
      " 270 271 272 273 274 275 276 277 278 279 280 281 282 283 284 285 286 287\n",
      " 288 289 290 291 292 293 294 295 296 297 298 299 300 301 302 303 304 305\n",
      " 306 307 326 327 328 329 330 331 332 333 334 335 336 337 338 339 340 341\n",
      " 342 343 344 345 346 347 348 349 350 351 352 353 354 355 356 357 358 359\n",
      " 360 361] Val [127 128 129 130 131 132 133 134 135 136 137 138 139 140 141 142 143 144\n",
      " 308 309 310 311 312 313 314 315 316 317 318 319 320 321 322 323 324 325]\n",
      "Train: [  0   1   2   3   4   5   6   7   8   9  10  11  12  13  14  15  16  17\n",
      "  18  19  20  21  22  23  24  25  26  27  28  29  30  31  32  33  34  35\n",
      "  36  37  38  39  40  41  42  43  44  45  46  47  48  49  50  51  52  53\n",
      "  54  55  56  57  58  59  60  61  62  63  64  65  66  67  68  69  70  71\n",
      "  72  73  74  75  76  77  78  79  80  81  82  83  84  85  86  87  88  89\n",
      "  90  91  92  93  94  95  96  97  98  99 100 101 102 103 104 105 106 107\n",
      " 108 109 110 111 112 113 114 115 116 117 118 119 120 121 122 123 124 125\n",
      " 126 127 128 129 130 131 132 133 134 135 136 137 138 139 140 141 142 143\n",
      " 144 163 164 165 166 167 168 169 170 171 172 173 174 175 176 177 178 179\n",
      " 180 181 182 183 184 185 186 187 188 189 190 191 192 193 194 195 196 197\n",
      " 198 199 200 201 202 203 204 205 206 207 208 209 210 211 212 213 214 215\n",
      " 216 217 218 219 220 221 222 223 224 225 226 227 228 229 230 231 232 233\n",
      " 234 235 236 237 238 239 240 241 242 243 244 245 246 247 248 249 250 251\n",
      " 252 253 254 255 256 257 258 259 260 261 262 263 264 265 266 267 268 269\n",
      " 270 271 272 273 274 275 276 277 278 279 280 281 282 283 284 285 286 287\n",
      " 288 289 290 291 292 293 294 295 296 297 298 299 300 301 302 303 304 305\n",
      " 306 307 308 309 310 311 312 313 314 315 316 317 318 319 320 321 322 323\n",
      " 324 325 344 345 346 347 348 349 350 351 352 353 354 355 356 357 358 359\n",
      " 360 361] Val [145 146 147 148 149 150 151 152 153 154 155 156 157 158 159 160 161 162\n",
      " 326 327 328 329 330 331 332 333 334 335 336 337 338 339 340 341 342 343]\n",
      "Train: [  0   1   2   3   4   5   6   7   8   9  10  11  12  13  14  15  16  17\n",
      "  18  19  20  21  22  23  24  25  26  27  28  29  30  31  32  33  34  35\n",
      "  36  37  38  39  40  41  42  43  44  45  46  47  48  49  50  51  52  53\n",
      "  54  55  56  57  58  59  60  61  62  63  64  65  66  67  68  69  70  71\n",
      "  72  73  74  75  76  77  78  79  80  81  82  83  84  85  86  87  88  89\n",
      "  90  91  92  93  94  95  96  97  98  99 100 101 102 103 104 105 106 107\n",
      " 108 109 110 111 112 113 114 115 116 117 118 119 120 121 122 123 124 125\n",
      " 126 127 128 129 130 131 132 133 134 135 136 137 138 139 140 141 142 143\n",
      " 144 145 146 147 148 149 150 151 152 153 154 155 156 157 158 159 160 161\n",
      " 162 181 182 183 184 185 186 187 188 189 190 191 192 193 194 195 196 197\n",
      " 198 199 200 201 202 203 204 205 206 207 208 209 210 211 212 213 214 215\n",
      " 216 217 218 219 220 221 222 223 224 225 226 227 228 229 230 231 232 233\n",
      " 234 235 236 237 238 239 240 241 242 243 244 245 246 247 248 249 250 251\n",
      " 252 253 254 255 256 257 258 259 260 261 262 263 264 265 266 267 268 269\n",
      " 270 271 272 273 274 275 276 277 278 279 280 281 282 283 284 285 286 287\n",
      " 288 289 290 291 292 293 294 295 296 297 298 299 300 301 302 303 304 305\n",
      " 306 307 308 309 310 311 312 313 314 315 316 317 318 319 320 321 322 323\n",
      " 324 325 326 327 328 329 330 331 332 333 334 335 336 337 338 339 340 341\n",
      " 342 343] Val [163 164 165 166 167 168 169 170 171 172 173 174 175 176 177 178 179 180\n",
      " 344 345 346 347 348 349 350 351 352 353 354 355 356 357 358 359 360 361]\n",
      "[0.7027027027027027, 0.9459459459459459, 0.9444444444444444, 0.9444444444444444, 0.7777777777777778, 0.8611111111111112, 1.0, 0.9166666666666666, 0.9722222222222222, 0.7222222222222222]\n"
     ]
    }
   ],
   "source": [
    "from sklearn.model_selection import StratifiedKFold\n",
    "\n",
    "\n",
    "accuracy = []\n",
    "\n",
    "skf = StratifiedKFold(n_splits=10,random_state=None)\n",
    "skf.get_n_splits(X_res,y_res)\n",
    "\n",
    "for train_index, test_index in skf.split(X_res,y_res):\n",
    "    print(\"Train:\", train_index,\"Val\",test_index)\n",
    "    X1_train , X1_test = X_res.iloc[train_index],X_res.iloc[test_index]\n",
    "    y1_train , y1_test = y_res.iloc[train_index],y_res.iloc[test_index]\n",
    "    \n",
    "    model.fit(X1_train,y1_train)\n",
    "    prediction = model.predict(X1_test)\n",
    "    score = accuracy_score(prediction,y1_test)\n",
    "    accuracy.append(score)\n",
    "    \n",
    "print(accuracy)"
   ]
  },
  {
   "cell_type": "code",
   "execution_count": 49,
   "metadata": {},
   "outputs": [
    {
     "data": {
      "text/plain": [
       "0.8787537537537536"
      ]
     },
     "execution_count": 49,
     "metadata": {},
     "output_type": "execute_result"
    }
   ],
   "source": [
    "np.array(accuracy).mean()"
   ]
  },
  {
   "cell_type": "markdown",
   "metadata": {},
   "source": [
    "# NestedCV Cross Validation"
   ]
  },
  {
   "cell_type": "code",
   "execution_count": 50,
   "metadata": {},
   "outputs": [],
   "source": [
    "from nested_cv import NestedCV"
   ]
  },
  {
   "cell_type": "code",
   "execution_count": 51,
   "metadata": {},
   "outputs": [],
   "source": [
    "from sklearn.metrics import roc_auc_score"
   ]
  },
  {
   "cell_type": "code",
   "execution_count": 52,
   "metadata": {},
   "outputs": [
    {
     "data": {
      "text/plain": [
       "[0.9642857142857143,\n",
       " 0.9649122807017544,\n",
       " 0.9464285714285714,\n",
       " 1.0,\n",
       " 0.9907120743034056,\n",
       " 1.0,\n",
       " 0.9640625,\n",
       " 0.9984375,\n",
       " 0.99375,\n",
       " 0.9899665551839465]"
      ]
     },
     "execution_count": 52,
     "metadata": {},
     "output_type": "execute_result"
    }
   ],
   "source": [
    "param_grid = {\n",
    "     'max_depth': [3, None],\n",
    "     'n_estimators': [10, 20]\n",
    "}\n",
    "\n",
    "NCV = NestedCV(model=RandomForestClassifier(), params_grid=param_grid,\n",
    "               outer_kfolds=10, inner_kfolds=10,\n",
    "               cv_options={'metric':roc_auc_score, \n",
    "                           'metric_score_indicator_lower':False,\n",
    "                           'randomized_search_iter':30, \n",
    "                           'predict_proba':True})\n",
    "NCV.fit(X=X_res,y=y_res)\n",
    "\n",
    "accuracy = NCV.outer_scores\n",
    "accuracy"
   ]
  },
  {
   "cell_type": "code",
   "execution_count": 53,
   "metadata": {},
   "outputs": [
    {
     "data": {
      "text/plain": [
       "0.9812555195903391"
      ]
     },
     "execution_count": 53,
     "metadata": {},
     "output_type": "execute_result"
    }
   ],
   "source": [
    "np.array(accuracy).mean()"
   ]
  },
  {
   "cell_type": "code",
   "execution_count": null,
   "metadata": {},
   "outputs": [],
   "source": []
  }
 ],
 "metadata": {
  "kernelspec": {
   "display_name": "Python 3",
   "language": "python",
   "name": "python3"
  },
  "language_info": {
   "codemirror_mode": {
    "name": "ipython",
    "version": 3
   },
   "file_extension": ".py",
   "mimetype": "text/x-python",
   "name": "python",
   "nbconvert_exporter": "python",
   "pygments_lexer": "ipython3",
   "version": "3.7.5"
  }
 },
 "nbformat": 4,
 "nbformat_minor": 2
}
